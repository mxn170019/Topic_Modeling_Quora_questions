{
  "nbformat": 4,
  "nbformat_minor": 0,
  "metadata": {
    "kernelspec": {
      "name": "python3",
      "display_name": "Python 3"
    },
    "language_info": {
      "codemirror_mode": {
        "name": "ipython",
        "version": 3
      },
      "file_extension": ".py",
      "mimetype": "text/x-python",
      "name": "python",
      "nbconvert_exporter": "python",
      "pygments_lexer": "ipython3",
      "version": "3.7.2"
    },
    "colab": {
      "name": "UTD-Top Modeling Latent-Deirichlet-Allocation-6V99.ipynb",
      "provenance": [],
      "machine_shape": "hm",
      "include_colab_link": true
    },
    "accelerator": "GPU"
  },
  "cells": [
    {
      "cell_type": "markdown",
      "metadata": {
        "id": "view-in-github",
        "colab_type": "text"
      },
      "source": [
        "<a href=\"https://colab.research.google.com/github/mxn170019/Topic_Modeling_Quora_questions/blob/master/Top_Modeling_Latent_Deirichlet_Allocation.ipynb\" target=\"_parent\"><img src=\"https://colab.research.google.com/assets/colab-badge.svg\" alt=\"Open In Colab\"/></a>"
      ]
    },
    {
      "cell_type": "markdown",
      "metadata": {
        "id": "TUUKIIA0nEd8",
        "colab_type": "text"
      },
      "source": [
        "# Latent Dirichlet Allocation"
      ]
    },
    {
      "cell_type": "markdown",
      "metadata": {
        "id": "xVhhBE4FnEeA",
        "colab_type": "text"
      },
      "source": [
        "## Data\n",
        "\n",
        "We will be using articles from NPR (National Public Radio), obtained from their website [www.npr.org](http://www.npr.org)"
      ]
    },
    {
      "cell_type": "code",
      "metadata": {
        "id": "t6LAzTrVnEeJ",
        "colab_type": "code",
        "colab": {}
      },
      "source": [
        "import pandas as pd"
      ],
      "execution_count": 0,
      "outputs": []
    },
    {
      "cell_type": "code",
      "metadata": {
        "id": "-3Qw7jj5nEeZ",
        "colab_type": "code",
        "colab": {}
      },
      "source": [
        "npr = pd.read_csv('/content/npr.csv')"
      ],
      "execution_count": 0,
      "outputs": []
    },
    {
      "cell_type": "code",
      "metadata": {
        "id": "sBmCvt9PnEfN",
        "colab_type": "code",
        "outputId": "50a86b57-d445-4a76-a0d5-0c2669770e3d",
        "colab": {
          "base_uri": "https://localhost:8080/",
          "height": 204
        }
      },
      "source": [
        "npr.head()"
      ],
      "execution_count": 0,
      "outputs": [
        {
          "output_type": "execute_result",
          "data": {
            "text/html": [
              "<div>\n",
              "<style scoped>\n",
              "    .dataframe tbody tr th:only-of-type {\n",
              "        vertical-align: middle;\n",
              "    }\n",
              "\n",
              "    .dataframe tbody tr th {\n",
              "        vertical-align: top;\n",
              "    }\n",
              "\n",
              "    .dataframe thead th {\n",
              "        text-align: right;\n",
              "    }\n",
              "</style>\n",
              "<table border=\"1\" class=\"dataframe\">\n",
              "  <thead>\n",
              "    <tr style=\"text-align: right;\">\n",
              "      <th></th>\n",
              "      <th>Article</th>\n",
              "    </tr>\n",
              "  </thead>\n",
              "  <tbody>\n",
              "    <tr>\n",
              "      <th>0</th>\n",
              "      <td>In the Washington of 2016, even when the polic...</td>\n",
              "    </tr>\n",
              "    <tr>\n",
              "      <th>1</th>\n",
              "      <td>Donald Trump has used Twitter  —   his prefe...</td>\n",
              "    </tr>\n",
              "    <tr>\n",
              "      <th>2</th>\n",
              "      <td>Donald Trump is unabashedly praising Russian...</td>\n",
              "    </tr>\n",
              "    <tr>\n",
              "      <th>3</th>\n",
              "      <td>Updated at 2:50 p. m. ET, Russian President Vl...</td>\n",
              "    </tr>\n",
              "    <tr>\n",
              "      <th>4</th>\n",
              "      <td>From photography, illustration and video, to d...</td>\n",
              "    </tr>\n",
              "  </tbody>\n",
              "</table>\n",
              "</div>"
            ],
            "text/plain": [
              "                                             Article\n",
              "0  In the Washington of 2016, even when the polic...\n",
              "1    Donald Trump has used Twitter  —   his prefe...\n",
              "2    Donald Trump is unabashedly praising Russian...\n",
              "3  Updated at 2:50 p. m. ET, Russian President Vl...\n",
              "4  From photography, illustration and video, to d..."
            ]
          },
          "metadata": {
            "tags": []
          },
          "execution_count": 7
        }
      ]
    },
    {
      "cell_type": "code",
      "metadata": {
        "id": "erW9DvuwnEfj",
        "colab_type": "code",
        "outputId": "a6194621-d042-4174-dda6-c8aee83dd1b0",
        "colab": {
          "base_uri": "https://localhost:8080/",
          "height": 54
        }
      },
      "source": [
        "npr['Article'][0]"
      ],
      "execution_count": 0,
      "outputs": [
        {
          "output_type": "execute_result",
          "data": {
            "text/plain": [
              "'In the Washington of 2016, even when the policy can be bipartisan, the politics cannot. And in that sense, this year shows little sign of ending on Dec. 31. When President Obama moved to sanction Russia over its alleged interference in the U. S. election just concluded, some Republicans who had long called for similar or more severe measures could scarcely bring themselves to approve. House Speaker Paul Ryan called the Obama measures ”appropriate” but also ”overdue” and ”a prime example of this administration’s ineffective foreign policy that has left America weaker in the eyes of the world.” Other GOP leaders sounded much the same theme. ”[We have] been urging President Obama for years to take strong action to deter Russia’s worldwide aggression, including its   operations,” wrote Rep. Devin Nunes,  . chairman of the House Intelligence Committee. ”Now with just a few weeks left in office, the president has suddenly decided that some stronger measures are indeed warranted.” Appearing on CNN, frequent Obama critic Trent Franks,  . called for ”much tougher” actions and said three times that Obama had ”finally found his tongue.” Meanwhile, at    and on Fox News, various spokesmen for   Trump said Obama’s real target was not the Russians at all but the man poised to take over the White House in less than three weeks. They spoke of Obama trying to ”tie Trump’s hands” or ”box him in,” meaning the   would be forced either to keep the sanctions or be at odds with Republicans who want to be tougher still on Moscow. Throughout 2016, Trump has repeatedly called not for sanctions but for closer ties with Russia, including cooperation in the fight against ISIS. Russia has battled ISIS in Syria on behalf of that country’s embattled dictator, Bashar Assad, bombing the besieged   city of Aleppo that fell to Assad’s forces this week. During the campaign, Trump even urged Russia to ”find” missing emails from the private server of his opponent, Hillary Clinton. He has exchanged public encomiums with Russian President Vladimir Putin on several occasions and added his doubts about the current U. S. levels of support for NATO  —   Putin’s longtime nemesis. There have also been suggestions that Trump’s extensive business dealings with various Russians are the reason he refuses to release his tax returns. All those issues have been disquieting to some Republicans for many months. Sens. John McCain,  . and Lindsay Graham,  . C. prominent senior members of the Armed Services Committee, have accepted the assessment of 17 U. S. intelligence agencies regarding the role of Russia in the hacking of various Democratic committees last year. That includes the FBI and CIA consensus that the Russian goal was not just to discredit American democracy but to defeat Clinton and elect Trump. They say the great majority of their Senate colleagues agree with them, and McCain has slated an Armed Services hearing on cyberthreats for Jan. 5. But the politicizing of the Russian actions  —   the idea that they helped Trump win  —   has also made the issue difficult for Republican leaders. It has allowed Trump supporters to push back on the intelligence agencies and say the entire issue is designed to undermine Trump’s legitimacy. Senate Majority Leader Mitch McConnell has so far resisted calls for a select committee to look into the Russian interference in the 2016 campaign. He has said it is enough for Sen. Richard Burr,  . C. to look into it as chairman of the Senate Intelligence Committee. Typically, Republican leaders and spokesmen say there is no evidence that the actual voting or tallying on Nov. 8 was compromised, and that is true. But it is also a red herring, as interference in those functions has not been alleged and is not the focus of the U. S. intelligence agencies’ concern. For his part, Trump has shown little interest in delving into what happened. He has cast doubt on the U. S. intelligence reports to date and suggested ”no one really knows what happened.” He also has suggested that computers make it very difficult to know who is using them. This week, Trump said it was time to ”get on with our lives and do more important things.” However, at week’s end he did agree to have an intelligence briefing on the subject next week. The   has not wanted the daily intelligence briefings available to him in recent weeks, preferring that they be given to the men he has chosen as his vice president (Mike Pence) and national security adviser (Mike Flynn) with Trump taking them only occasionally. The irony of this controversy arising at the eleventh hour of the Obama presidency can scarcely be overstated, and it defines the dilemma facing both the outgoing president and the incoming party in control. Obama appears to have been reluctant to retaliate against the Russian hacking before the election for fear of seeming to interfere with the election himself. The Republicans, meanwhile, have for years called for greater confrontation with the Russians, with Obama usually resisting. Obama did join with NATO in punishing the Russians with economic sanctions over the annexation of Crimea. Those sanctions may have been painful, coming as they did alongside falling prices for oil  —   the commodity that keeps the Russian economy afloat. On other occasions, despite Russian provocations through surrogates in Syria and elsewhere, Obama did not make overt moves to force Russia’s hand. That includes occasions when Russia was believed to be hacking critical computer systems in neighboring Ukraine, Estonia and Poland. But this week, following a chorus of confirmation from the U. S. intelligence community regarding the Russian role in computer hacking in the political campaign, Obama acted. He imposed a set of mostly diplomatic actions such as sanctioning some Russian officials, closing two diplomatic compounds and expelling 35 Russian diplomats. There may have been more damaging measures taken covertly, and some Russophobes in Washington held out hope for that. But the visible portion of the program scarcely amounted to major retribution. And Putin saw fit to diminish the Obama sanctions further by declining to respond. Although his government has steadfastly denied any interference in the U. S. election, Putin rejected his own foreign minister’s recommended package of    responses. (He even sent an invitation for U. S. diplomats to send their children to a holiday party in Moscow.) That allowed Putin to appear for the moment to be ”the bigger man,” even as he spurned Obama and kept up what has looked like a public bromance with Trump, who tweeted: ”Great move on delay (by V. Putin)   I always knew he was very smart!” At the moment it may seem that the overall Russia question amounts to the first crisis facing the Trump presidency. Whether forced by this campaign interference issue or not, Trump must grasp the nettle of a relationship Mitt Romney once called the greatest threat to U. S. security in the world. To be sure, Trump needs to dispel doubts about his ability to stand up to Putin, who has bullied and cajoled his way to center stage in recent world affairs. But Trump also seems determined to turn the page on past U. S. commitments, from free trade philosophy to funding of NATO and the United Nations. And if his Twitter account is any guide, Trump shows little concern about the conundrum others perceive to be facing him. Above all, Trump has shown himself determined to play by his own rules. A year ago, many were confident that would not work for him in the world of presidential politics. We are about to find out whether it works for him in the Oval Office.'"
            ]
          },
          "metadata": {
            "tags": []
          },
          "execution_count": 8
        }
      ]
    },
    {
      "cell_type": "markdown",
      "metadata": {
        "id": "HKIihG79nEfs",
        "colab_type": "text"
      },
      "source": [
        "Notice how we don't have the topic of the articles! Let's use LDA to attempt to figure out clusters of the articles."
      ]
    },
    {
      "cell_type": "markdown",
      "metadata": {
        "heading_collapsed": true,
        "id": "0DmpP7ljnEfv",
        "colab_type": "text"
      },
      "source": [
        "## Preprocessing"
      ]
    },
    {
      "cell_type": "code",
      "metadata": {
        "hidden": true,
        "id": "tFjDSdMBnEfx",
        "colab_type": "code",
        "colab": {}
      },
      "source": [
        "from sklearn.feature_extraction.text import CountVectorizer"
      ],
      "execution_count": 0,
      "outputs": []
    },
    {
      "cell_type": "markdown",
      "metadata": {
        "hidden": true,
        "id": "YzsicLnXnEf7",
        "colab_type": "text"
      },
      "source": [
        "**`max_df`**` : float in range [0.0, 1.0] or int, default=1.0`<br>\n",
        "When building the vocabulary ignore terms that have a document frequency strictly higher than the given threshold (corpus-specific stop words). If float, the parameter represents a proportion of documents, integer absolute counts. This parameter is ignored if vocabulary is not None.\n",
        "\n",
        "**`min_df`**` : float in range [0.0, 1.0] or int, default=1`<br>\n",
        "When building the vocabulary ignore terms that have a document frequency strictly lower than the given threshold. This value is also called cut-off in the literature. If float, the parameter represents a proportion of documents, integer absolute counts. This parameter is ignored if vocabulary is not None."
      ]
    },
    {
      "cell_type": "code",
      "metadata": {
        "hidden": true,
        "id": "N57IiM7BnEf8",
        "colab_type": "code",
        "colab": {}
      },
      "source": [
        "cv = CountVectorizer(max_df=0.95, min_df=2, stop_words='english')\n",
        "\n",
        "#Discard words that shows up in 95% of all documents\n",
        "# Discard words that show minimum in 2 document\n",
        "# Automatically remove the stop words."
      ],
      "execution_count": 0,
      "outputs": []
    },
    {
      "cell_type": "code",
      "metadata": {
        "hidden": true,
        "id": "dcMjt2CJnEgC",
        "colab_type": "code",
        "colab": {}
      },
      "source": [
        "dtm = cv.fit_transform(npr['Article'])\n",
        "# Document term metrics"
      ],
      "execution_count": 0,
      "outputs": []
    },
    {
      "cell_type": "code",
      "metadata": {
        "hidden": true,
        "id": "4kJk3wkSnEgG",
        "colab_type": "code",
        "outputId": "f03a2a40-316b-46eb-caa5-04a83a1a1fdd",
        "colab": {
          "base_uri": "https://localhost:8080/",
          "height": 51
        }
      },
      "source": [
        "dtm"
      ],
      "execution_count": 0,
      "outputs": [
        {
          "output_type": "execute_result",
          "data": {
            "text/plain": [
              "<11992x54777 sparse matrix of type '<class 'numpy.int64'>'\n",
              "\twith 3033388 stored elements in Compressed Sparse Row format>"
            ]
          },
          "metadata": {
            "tags": []
          },
          "execution_count": 12
        }
      ]
    },
    {
      "cell_type": "code",
      "metadata": {
        "hidden": true,
        "id": "4CZU-plEnEgN",
        "colab_type": "code",
        "colab": {}
      },
      "source": [
        "# 11992 Documents X  54777 words"
      ],
      "execution_count": 0,
      "outputs": []
    },
    {
      "cell_type": "markdown",
      "metadata": {
        "heading_collapsed": true,
        "id": "kLHVZixInEgS",
        "colab_type": "text"
      },
      "source": [
        "## LDA"
      ]
    },
    {
      "cell_type": "code",
      "metadata": {
        "hidden": true,
        "id": "p38sGYhKnEgT",
        "colab_type": "code",
        "colab": {}
      },
      "source": [
        "from sklearn.decomposition import LatentDirichletAllocation"
      ],
      "execution_count": 0,
      "outputs": []
    },
    {
      "cell_type": "code",
      "metadata": {
        "hidden": true,
        "id": "q5XP9pdNnEgY",
        "colab_type": "code",
        "colab": {}
      },
      "source": [
        "LDA = LatentDirichletAllocation(n_components=7,random_state=42)"
      ],
      "execution_count": 0,
      "outputs": []
    },
    {
      "cell_type": "code",
      "metadata": {
        "hidden": true,
        "id": "-VvAgQ9GnEgf",
        "colab_type": "code",
        "outputId": "906d3d89-d846-4626-9539-c268b59f2bcc",
        "colab": {
          "base_uri": "https://localhost:8080/",
          "height": 136
        }
      },
      "source": [
        "# This can take awhile, we're dealing with a large amount of documents!\n",
        "LDA.fit(dtm)"
      ],
      "execution_count": 0,
      "outputs": [
        {
          "output_type": "execute_result",
          "data": {
            "text/plain": [
              "LatentDirichletAllocation(batch_size=128, doc_topic_prior=None,\n",
              "                          evaluate_every=-1, learning_decay=0.7,\n",
              "                          learning_method='batch', learning_offset=10.0,\n",
              "                          max_doc_update_iter=100, max_iter=10,\n",
              "                          mean_change_tol=0.001, n_components=7, n_jobs=None,\n",
              "                          perp_tol=0.1, random_state=42, topic_word_prior=None,\n",
              "                          total_samples=1000000.0, verbose=0)"
            ]
          },
          "metadata": {
            "tags": []
          },
          "execution_count": 16
        }
      ]
    },
    {
      "cell_type": "code",
      "metadata": {
        "hidden": true,
        "id": "dCqgLzFTnEgk",
        "colab_type": "code",
        "colab": {}
      },
      "source": [
        "# The remaining are three steps\n",
        "# 1) Grab the vocabulary of wrords \n",
        "# 2) Grab the topic\n",
        "# 3) Grab the highest probability words per topic\n"
      ],
      "execution_count": 0,
      "outputs": []
    },
    {
      "cell_type": "markdown",
      "metadata": {
        "heading_collapsed": true,
        "id": "uWv391nsnEg-",
        "colab_type": "text"
      },
      "source": [
        "## Showing Stored Words"
      ]
    },
    {
      "cell_type": "code",
      "metadata": {
        "hidden": true,
        "id": "1zpcP0uZnEg_",
        "colab_type": "code",
        "colab": {}
      },
      "source": [
        "# 1) Grab the vocabulary of wrords "
      ],
      "execution_count": 0,
      "outputs": []
    },
    {
      "cell_type": "code",
      "metadata": {
        "hidden": true,
        "id": "BfqCq0R2nEhI",
        "colab_type": "code",
        "outputId": "800aa4f4-1427-4282-fd0a-b1899bda2a50",
        "colab": {
          "base_uri": "https://localhost:8080/",
          "height": 34
        }
      },
      "source": [
        "len(cv.get_feature_names())"
      ],
      "execution_count": 0,
      "outputs": [
        {
          "output_type": "execute_result",
          "data": {
            "text/plain": [
              "54777"
            ]
          },
          "metadata": {
            "tags": []
          },
          "execution_count": 18
        }
      ]
    },
    {
      "cell_type": "code",
      "metadata": {
        "hidden": true,
        "id": "jRc7kPwSnEhP",
        "colab_type": "code",
        "colab": {}
      },
      "source": [
        "#  That means get_feature_names is holding an instence of all words"
      ],
      "execution_count": 0,
      "outputs": []
    },
    {
      "cell_type": "code",
      "metadata": {
        "hidden": true,
        "id": "gL54Er9ZnEhT",
        "colab_type": "code",
        "outputId": "b1fe5a98-dba8-4c08-fa93-56c7ddc484d0",
        "colab": {
          "base_uri": "https://localhost:8080/",
          "height": 34
        }
      },
      "source": [
        "type(cv.get_feature_names())"
      ],
      "execution_count": 0,
      "outputs": [
        {
          "output_type": "execute_result",
          "data": {
            "text/plain": [
              "list"
            ]
          },
          "metadata": {
            "tags": []
          },
          "execution_count": 20
        }
      ]
    },
    {
      "cell_type": "code",
      "metadata": {
        "hidden": true,
        "id": "6g4dix84nEhY",
        "colab_type": "code",
        "colab": {}
      },
      "source": [
        "import random"
      ],
      "execution_count": 0,
      "outputs": []
    },
    {
      "cell_type": "code",
      "metadata": {
        "hidden": true,
        "id": "RxTcyuTlnEhd",
        "colab_type": "code",
        "outputId": "24fb392d-a341-4b04-ee61-4a6b81eba6a9",
        "colab": {
          "base_uri": "https://localhost:8080/",
          "height": 34
        }
      },
      "source": [
        "# This is a method to grap a word from the list\n",
        "import random\n",
        "random_word_id = random.randint(0,54777)\n",
        "cv.get_feature_names()[random_word_id]"
      ],
      "execution_count": 0,
      "outputs": [
        {
          "output_type": "execute_result",
          "data": {
            "text/plain": [
              "'kelly'"
            ]
          },
          "metadata": {
            "tags": []
          },
          "execution_count": 22
        }
      ]
    },
    {
      "cell_type": "code",
      "metadata": {
        "hidden": true,
        "id": "9lm-O81mnEhq",
        "colab_type": "code",
        "outputId": "0a8231b3-70ca-4026-e924-74fbde09e75b",
        "colab": {
          "base_uri": "https://localhost:8080/",
          "height": 34
        }
      },
      "source": [
        "random_word_id"
      ],
      "execution_count": 0,
      "outputs": [
        {
          "output_type": "execute_result",
          "data": {
            "text/plain": [
              "27038"
            ]
          },
          "metadata": {
            "tags": []
          },
          "execution_count": 23
        }
      ]
    },
    {
      "cell_type": "code",
      "metadata": {
        "hidden": true,
        "id": "MgR-xYJMnEhy",
        "colab_type": "code",
        "outputId": "08e488ba-1ee4-4245-ae3f-c4524af6a2a2",
        "colab": {
          "base_uri": "https://localhost:8080/",
          "height": 357
        }
      },
      "source": [
        "for i in range(20):\n",
        "    random_word_id = random.randint(0,54776)\n",
        "    print(cv.get_feature_names()[random_word_id])"
      ],
      "execution_count": 0,
      "outputs": [
        {
          "output_type": "stream",
          "text": [
            "relaying\n",
            "lockup\n",
            "steadily\n",
            "valuables\n",
            "bitch\n",
            "alda\n",
            "tanto\n",
            "credits\n",
            "format\n",
            "composure\n",
            "championships\n",
            "shay\n",
            "subway\n",
            "espys\n",
            "michigan\n",
            "baptized\n",
            "beige\n",
            "honour\n",
            "inch\n",
            "cruises\n"
          ],
          "name": "stdout"
        }
      ]
    },
    {
      "cell_type": "markdown",
      "metadata": {
        "collapsed": true,
        "heading_collapsed": true,
        "hidden": true,
        "id": "qyJfhCYjnEiG",
        "colab_type": "text"
      },
      "source": [
        "### Showing Top Words Per Topic"
      ]
    },
    {
      "cell_type": "code",
      "metadata": {
        "hidden": true,
        "id": "8C6GCH-VnEiI",
        "colab_type": "code",
        "outputId": "d30a503a-185b-4ef8-ce1c-c881a4f9b760",
        "colab": {
          "base_uri": "https://localhost:8080/",
          "height": 34
        }
      },
      "source": [
        "len(LDA.components_)"
      ],
      "execution_count": 0,
      "outputs": [
        {
          "output_type": "execute_result",
          "data": {
            "text/plain": [
              "7"
            ]
          },
          "metadata": {
            "tags": []
          },
          "execution_count": 25
        }
      ]
    },
    {
      "cell_type": "code",
      "metadata": {
        "hidden": true,
        "id": "SRCjCz_VnEiR",
        "colab_type": "code",
        "outputId": "24959cfa-4f9b-4ae2-9864-67e053926ecd",
        "colab": {
          "base_uri": "https://localhost:8080/",
          "height": 34
        }
      },
      "source": [
        "type(LDA.components_)"
      ],
      "execution_count": 0,
      "outputs": [
        {
          "output_type": "execute_result",
          "data": {
            "text/plain": [
              "numpy.ndarray"
            ]
          },
          "metadata": {
            "tags": []
          },
          "execution_count": 26
        }
      ]
    },
    {
      "cell_type": "code",
      "metadata": {
        "hidden": true,
        "id": "fTT6WNxknEiU",
        "colab_type": "code",
        "outputId": "5e3192e5-9b7f-4555-e2d8-1a95ac245d19",
        "colab": {
          "base_uri": "https://localhost:8080/",
          "height": 34
        }
      },
      "source": [
        "LDA.components_.shape"
      ],
      "execution_count": 0,
      "outputs": [
        {
          "output_type": "execute_result",
          "data": {
            "text/plain": [
              "(7, 54777)"
            ]
          },
          "metadata": {
            "tags": []
          },
          "execution_count": 27
        }
      ]
    },
    {
      "cell_type": "code",
      "metadata": {
        "hidden": true,
        "id": "FfmMgTY-nEiY",
        "colab_type": "code",
        "colab": {}
      },
      "source": [
        "## And that is 7 topics with 54777 each "
      ],
      "execution_count": 0,
      "outputs": []
    },
    {
      "cell_type": "code",
      "metadata": {
        "hidden": true,
        "id": "hjhvXF9MnEij",
        "colab_type": "code",
        "outputId": "05146c92-cca2-47bf-f228-d2e5f28c097c",
        "colab": {
          "base_uri": "https://localhost:8080/",
          "height": 34
        }
      },
      "source": [
        "LDA.components_[0][54776]"
      ],
      "execution_count": 0,
      "outputs": [
        {
          "output_type": "execute_result",
          "data": {
            "text/plain": [
              "0.14286162609098174"
            ]
          },
          "metadata": {
            "tags": []
          },
          "execution_count": 29
        }
      ]
    },
    {
      "cell_type": "code",
      "metadata": {
        "hidden": true,
        "id": "4YCxOLYGnEio",
        "colab_type": "code",
        "outputId": "9c1249a7-07a7-46a4-9bd6-66d2936020b5",
        "colab": {
          "base_uri": "https://localhost:8080/",
          "height": 34
        }
      },
      "source": [
        "len(LDA.components_[0])"
      ],
      "execution_count": 0,
      "outputs": [
        {
          "output_type": "execute_result",
          "data": {
            "text/plain": [
              "54777"
            ]
          },
          "metadata": {
            "tags": []
          },
          "execution_count": 30
        }
      ]
    },
    {
      "cell_type": "code",
      "metadata": {
        "hidden": true,
        "id": "4HrWqNKFnEit",
        "colab_type": "code",
        "outputId": "4446ec6d-e75b-494d-b404-19f77f2c2059",
        "colab": {
          "base_uri": "https://localhost:8080/",
          "height": 238
        }
      },
      "source": [
        "LDA.components_"
      ],
      "execution_count": 0,
      "outputs": [
        {
          "output_type": "execute_result",
          "data": {
            "text/plain": [
              "array([[8.64332806e+00, 2.38014333e+03, 1.42900522e-01, ...,\n",
              "        1.43006821e-01, 1.42902042e-01, 1.42861626e-01],\n",
              "       [2.76191749e+01, 5.36394437e+02, 1.42857148e-01, ...,\n",
              "        1.42861973e-01, 1.42857147e-01, 1.42906875e-01],\n",
              "       [7.22783888e+00, 8.24033986e+02, 1.42857148e-01, ...,\n",
              "        6.14236247e+00, 2.14061364e+00, 1.42923753e-01],\n",
              "       ...,\n",
              "       [3.11488651e+00, 3.50409655e+02, 1.42857147e-01, ...,\n",
              "        1.42859912e-01, 1.42857146e-01, 1.42866614e-01],\n",
              "       [4.61486388e+01, 5.14408600e+01, 3.14281373e+00, ...,\n",
              "        1.43107628e-01, 1.43902481e-01, 2.14271779e+00],\n",
              "       [4.93991422e-01, 4.18841042e+02, 1.42857151e-01, ...,\n",
              "        1.42857146e-01, 1.43760101e-01, 1.42866201e-01]])"
            ]
          },
          "metadata": {
            "tags": []
          },
          "execution_count": 31
        }
      ]
    },
    {
      "cell_type": "code",
      "metadata": {
        "hidden": true,
        "id": "MIq-sCYAnEi6",
        "colab_type": "code",
        "colab": {}
      },
      "source": [
        "# Grab the highest probability words per topic\n",
        "# now we need to compbine the array  ( LDA.components_) with the ability to grab vocabulery ( cv.get_feature_names()) in order to show-\n",
        "# the highest probability words per topic\n"
      ],
      "execution_count": 0,
      "outputs": []
    },
    {
      "cell_type": "code",
      "metadata": {
        "hidden": true,
        "id": "URaxyLHMnEi_",
        "colab_type": "code",
        "outputId": "693217ac-7f43-425d-dd00-9b955f2c7aac",
        "colab": {
          "base_uri": "https://localhost:8080/",
          "height": 34
        }
      },
      "source": [
        "LDA.components_[0].shape"
      ],
      "execution_count": 0,
      "outputs": [
        {
          "output_type": "execute_result",
          "data": {
            "text/plain": [
              "(54777,)"
            ]
          },
          "metadata": {
            "tags": []
          },
          "execution_count": 32
        }
      ]
    },
    {
      "cell_type": "code",
      "metadata": {
        "hidden": true,
        "id": "wmQ6Sli3nEjE",
        "colab_type": "code",
        "colab": {}
      },
      "source": [
        " # the first topic\n",
        "single_topic = LDA.components_[0]   "
      ],
      "execution_count": 0,
      "outputs": []
    },
    {
      "cell_type": "code",
      "metadata": {
        "hidden": true,
        "id": "Ho2BdUQ_nEjM",
        "colab_type": "code",
        "outputId": "948422b5-1ad1-4ea8-9c0b-fbb4541e9e71",
        "colab": {
          "base_uri": "https://localhost:8080/",
          "height": 34
        }
      },
      "source": [
        "# Word least representative of this topic\n",
        "single_topic[18302]"
      ],
      "execution_count": 0,
      "outputs": [
        {
          "output_type": "execute_result",
          "data": {
            "text/plain": [
              "0.14285714309286987"
            ]
          },
          "metadata": {
            "tags": []
          },
          "execution_count": 34
        }
      ]
    },
    {
      "cell_type": "code",
      "metadata": {
        "hidden": true,
        "id": "gGuJSyUZnEjR",
        "colab_type": "code",
        "outputId": "a773bca2-4d78-4bf8-eafb-6859be6c8829",
        "colab": {
          "base_uri": "https://localhost:8080/",
          "height": 34
        }
      },
      "source": [
        "# Word most representative of this topic\n",
        "single_topic[42993]"
      ],
      "execution_count": 0,
      "outputs": [
        {
          "output_type": "execute_result",
          "data": {
            "text/plain": [
              "6247.245510521078"
            ]
          },
          "metadata": {
            "tags": []
          },
          "execution_count": 35
        }
      ]
    },
    {
      "cell_type": "code",
      "metadata": {
        "hidden": true,
        "id": "1rFkVvAVnEjU",
        "colab_type": "code",
        "outputId": "4d5e6e6b-3657-467b-e4f6-2b1ea443038b",
        "colab": {
          "base_uri": "https://localhost:8080/",
          "height": 34
        }
      },
      "source": [
        "single_topic.argsort()"
      ],
      "execution_count": 0,
      "outputs": [
        {
          "output_type": "execute_result",
          "data": {
            "text/plain": [
              "array([ 2475, 18302, 35285, ..., 22673, 42561, 42993])"
            ]
          },
          "metadata": {
            "tags": []
          },
          "execution_count": 36
        }
      ]
    },
    {
      "cell_type": "code",
      "metadata": {
        "hidden": true,
        "id": "GrGthQuOnEjX",
        "colab_type": "code",
        "colab": {}
      },
      "source": [
        "####### understanding single_topic.argsort\n"
      ],
      "execution_count": 0,
      "outputs": []
    },
    {
      "cell_type": "code",
      "metadata": {
        "hidden": true,
        "id": "ZBV-7bonnEjl",
        "colab_type": "code",
        "colab": {}
      },
      "source": [
        "import numpy as np"
      ],
      "execution_count": 0,
      "outputs": []
    },
    {
      "cell_type": "code",
      "metadata": {
        "hidden": true,
        "id": "Xrua6UcRnEjr",
        "colab_type": "code",
        "colab": {}
      },
      "source": [
        "arr = np.array([10,200,1])"
      ],
      "execution_count": 0,
      "outputs": []
    },
    {
      "cell_type": "code",
      "metadata": {
        "hidden": true,
        "id": "eNJTNKGTnEju",
        "colab_type": "code",
        "outputId": "4a53693e-5ca7-4222-f542-07f808a978b1",
        "colab": {
          "base_uri": "https://localhost:8080/",
          "height": 34
        }
      },
      "source": [
        "arr.argsort()"
      ],
      "execution_count": 0,
      "outputs": [
        {
          "output_type": "execute_result",
          "data": {
            "text/plain": [
              "array([2, 0, 1])"
            ]
          },
          "metadata": {
            "tags": []
          },
          "execution_count": 39
        }
      ]
    },
    {
      "cell_type": "code",
      "metadata": {
        "hidden": true,
        "id": "Vztg3WlonEj1",
        "colab_type": "code",
        "colab": {}
      },
      "source": [
        "######## ---------------------"
      ],
      "execution_count": 0,
      "outputs": []
    },
    {
      "cell_type": "code",
      "metadata": {
        "hidden": true,
        "id": "2OYhB-FynEj7",
        "colab_type": "code",
        "colab": {}
      },
      "source": [
        ""
      ],
      "execution_count": 0,
      "outputs": []
    },
    {
      "cell_type": "code",
      "metadata": {
        "hidden": true,
        "id": "C9y8lzKCnEkA",
        "colab_type": "code",
        "outputId": "40cf44ab-dafe-490e-e6fc-2f59129ea939",
        "colab": {
          "base_uri": "https://localhost:8080/",
          "height": 51
        }
      },
      "source": [
        "# Top 10 words for this topic:\n",
        "# The index of high probability words in that single topic\n",
        "single_topic.argsort()[-10:]"
      ],
      "execution_count": 0,
      "outputs": [
        {
          "output_type": "execute_result",
          "data": {
            "text/plain": [
              "array([33390, 36310, 21228, 10425, 31464,  8149, 36283, 22673, 42561,\n",
              "       42993])"
            ]
          },
          "metadata": {
            "tags": []
          },
          "execution_count": 41
        }
      ]
    },
    {
      "cell_type": "code",
      "metadata": {
        "hidden": true,
        "id": "LsQDNSjJnEkG",
        "colab_type": "code",
        "colab": {}
      },
      "source": [
        "top_word_indices = single_topic.argsort()[-10:]  # Grap the last 10 values of .argsort\n",
        "\n",
        "## ARGSORT --> Index positions sorted from least --> Greatest \n",
        "## Top 10 vlues ( 10 greatest values )\n",
        "## Last 10 values of ARGSORT ()"
      ],
      "execution_count": 0,
      "outputs": []
    },
    {
      "cell_type": "code",
      "metadata": {
        "hidden": true,
        "id": "IjC0VM-8nEkL",
        "colab_type": "code",
        "colab": {}
      },
      "source": [
        ""
      ],
      "execution_count": 0,
      "outputs": []
    },
    {
      "cell_type": "code",
      "metadata": {
        "hidden": true,
        "id": "IVF71BySnEkR",
        "colab_type": "code",
        "outputId": "b4774900-d0cd-4727-ecfd-808e45137b06",
        "colab": {
          "base_uri": "https://localhost:8080/",
          "height": 187
        }
      },
      "source": [
        "for index in top_word_indices:\n",
        "    print(cv.get_feature_names()[index])"
      ],
      "execution_count": 0,
      "outputs": [
        {
          "output_type": "stream",
          "text": [
            "new\n",
            "percent\n",
            "government\n",
            "company\n",
            "million\n",
            "care\n",
            "people\n",
            "health\n",
            "said\n",
            "says\n"
          ],
          "name": "stdout"
        }
      ]
    },
    {
      "cell_type": "markdown",
      "metadata": {
        "hidden": true,
        "id": "wcsLrzT0nEkl",
        "colab_type": "text"
      },
      "source": [
        "These look like business articles perhaps... Let's confirm by using .transform() on our vectorized articles to attach a label number. But first, let's view all the 10 topics found."
      ]
    },
    {
      "cell_type": "code",
      "metadata": {
        "hidden": true,
        "id": "jLPWndJ5nEkm",
        "colab_type": "code",
        "colab": {}
      },
      "source": [
        "top_word_indices = single_topic.argsort()[-20:]"
      ],
      "execution_count": 0,
      "outputs": []
    },
    {
      "cell_type": "code",
      "metadata": {
        "hidden": true,
        "id": "yTbZhoqtnEkp",
        "colab_type": "code",
        "outputId": "764ee8c6-b27f-4334-c8bc-139f40941295",
        "colab": {
          "base_uri": "https://localhost:8080/",
          "height": 357
        }
      },
      "source": [
        "for index in top_word_indices:\n",
        "    print(cv.get_feature_names()[index])"
      ],
      "execution_count": 0,
      "outputs": [
        {
          "output_type": "stream",
          "text": [
            "president\n",
            "state\n",
            "tax\n",
            "insurance\n",
            "trump\n",
            "companies\n",
            "money\n",
            "year\n",
            "federal\n",
            "000\n",
            "new\n",
            "percent\n",
            "government\n",
            "company\n",
            "million\n",
            "care\n",
            "people\n",
            "health\n",
            "said\n",
            "says\n"
          ],
          "name": "stdout"
        }
      ]
    },
    {
      "cell_type": "code",
      "metadata": {
        "hidden": true,
        "id": "lkjpP_kPnEks",
        "colab_type": "code",
        "outputId": "fe4de51b-10c2-4199-c04c-a2fa90c49321",
        "colab": {
          "base_uri": "https://localhost:8080/",
          "height": 34
        }
      },
      "source": [
        "LDA.components_.shape"
      ],
      "execution_count": 0,
      "outputs": [
        {
          "output_type": "execute_result",
          "data": {
            "text/plain": [
              "(7, 54777)"
            ]
          },
          "metadata": {
            "tags": []
          },
          "execution_count": 46
        }
      ]
    },
    {
      "cell_type": "code",
      "metadata": {
        "hidden": true,
        "id": "HjgydlRdnEkv",
        "colab_type": "code",
        "outputId": "8d72b24c-9976-4c5f-b1db-34e45be54d7b",
        "colab": {
          "base_uri": "https://localhost:8080/",
          "height": 513
        }
      },
      "source": [
        "for index,topic in enumerate(LDA.components_):\n",
        "    print(f'THE TOP 15 WORDS FOR TOPIC #{index}')\n",
        "    print([cv.get_feature_names()[i] for i in topic.argsort()[-15:]])\n",
        "    print('\\n')"
      ],
      "execution_count": 0,
      "outputs": [
        {
          "output_type": "stream",
          "text": [
            "THE TOP 15 WORDS FOR TOPIC #0\n",
            "['companies', 'money', 'year', 'federal', '000', 'new', 'percent', 'government', 'company', 'million', 'care', 'people', 'health', 'said', 'says']\n",
            "\n",
            "\n",
            "THE TOP 15 WORDS FOR TOPIC #1\n",
            "['military', 'house', 'security', 'russia', 'government', 'npr', 'reports', 'says', 'news', 'people', 'told', 'police', 'president', 'trump', 'said']\n",
            "\n",
            "\n",
            "THE TOP 15 WORDS FOR TOPIC #2\n",
            "['way', 'world', 'family', 'home', 'day', 'time', 'water', 'city', 'new', 'years', 'food', 'just', 'people', 'like', 'says']\n",
            "\n",
            "\n",
            "THE TOP 15 WORDS FOR TOPIC #3\n",
            "['time', 'new', 'don', 'years', 'medical', 'disease', 'patients', 'just', 'children', 'study', 'like', 'women', 'health', 'people', 'says']\n",
            "\n",
            "\n",
            "THE TOP 15 WORDS FOR TOPIC #4\n",
            "['voters', 'vote', 'election', 'party', 'new', 'obama', 'court', 'republican', 'campaign', 'people', 'state', 'president', 'clinton', 'said', 'trump']\n",
            "\n",
            "\n",
            "THE TOP 15 WORDS FOR TOPIC #5\n",
            "['years', 'going', 've', 'life', 'don', 'new', 'way', 'music', 'really', 'time', 'know', 'think', 'people', 'just', 'like']\n",
            "\n",
            "\n",
            "THE TOP 15 WORDS FOR TOPIC #6\n",
            "['student', 'years', 'data', 'science', 'university', 'people', 'time', 'schools', 'just', 'education', 'new', 'like', 'students', 'school', 'says']\n",
            "\n",
            "\n"
          ],
          "name": "stdout"
        }
      ]
    },
    {
      "cell_type": "markdown",
      "metadata": {
        "heading_collapsed": true,
        "hidden": true,
        "id": "llOE_lBsnEk7",
        "colab_type": "text"
      },
      "source": [
        "### Attaching Discovered Topic Labels to Original Articles"
      ]
    },
    {
      "cell_type": "code",
      "metadata": {
        "hidden": true,
        "id": "xRLhOHEBnEk7",
        "colab_type": "code",
        "outputId": "6c534a69-4708-4e32-d808-1f5b1cb5941d",
        "colab": {
          "base_uri": "https://localhost:8080/",
          "height": 51
        }
      },
      "source": [
        "dtm"
      ],
      "execution_count": 0,
      "outputs": [
        {
          "output_type": "execute_result",
          "data": {
            "text/plain": [
              "<11992x54777 sparse matrix of type '<class 'numpy.int64'>'\n",
              "\twith 3033388 stored elements in Compressed Sparse Row format>"
            ]
          },
          "metadata": {
            "tags": []
          },
          "execution_count": 48
        }
      ]
    },
    {
      "cell_type": "code",
      "metadata": {
        "hidden": true,
        "id": "bUVGKda-nElB",
        "colab_type": "code",
        "outputId": "bac02079-b567-45e4-9604-7920d8b929e2",
        "colab": {
          "base_uri": "https://localhost:8080/",
          "height": 419
        }
      },
      "source": [
        "npr"
      ],
      "execution_count": 0,
      "outputs": [
        {
          "output_type": "execute_result",
          "data": {
            "text/html": [
              "<div>\n",
              "<style scoped>\n",
              "    .dataframe tbody tr th:only-of-type {\n",
              "        vertical-align: middle;\n",
              "    }\n",
              "\n",
              "    .dataframe tbody tr th {\n",
              "        vertical-align: top;\n",
              "    }\n",
              "\n",
              "    .dataframe thead th {\n",
              "        text-align: right;\n",
              "    }\n",
              "</style>\n",
              "<table border=\"1\" class=\"dataframe\">\n",
              "  <thead>\n",
              "    <tr style=\"text-align: right;\">\n",
              "      <th></th>\n",
              "      <th>Article</th>\n",
              "    </tr>\n",
              "  </thead>\n",
              "  <tbody>\n",
              "    <tr>\n",
              "      <th>0</th>\n",
              "      <td>In the Washington of 2016, even when the polic...</td>\n",
              "    </tr>\n",
              "    <tr>\n",
              "      <th>1</th>\n",
              "      <td>Donald Trump has used Twitter  —   his prefe...</td>\n",
              "    </tr>\n",
              "    <tr>\n",
              "      <th>2</th>\n",
              "      <td>Donald Trump is unabashedly praising Russian...</td>\n",
              "    </tr>\n",
              "    <tr>\n",
              "      <th>3</th>\n",
              "      <td>Updated at 2:50 p. m. ET, Russian President Vl...</td>\n",
              "    </tr>\n",
              "    <tr>\n",
              "      <th>4</th>\n",
              "      <td>From photography, illustration and video, to d...</td>\n",
              "    </tr>\n",
              "    <tr>\n",
              "      <th>...</th>\n",
              "      <td>...</td>\n",
              "    </tr>\n",
              "    <tr>\n",
              "      <th>11987</th>\n",
              "      <td>The number of law enforcement officers shot an...</td>\n",
              "    </tr>\n",
              "    <tr>\n",
              "      <th>11988</th>\n",
              "      <td>Trump is busy these days with victory tours,...</td>\n",
              "    </tr>\n",
              "    <tr>\n",
              "      <th>11989</th>\n",
              "      <td>It’s always interesting for the Goats and Soda...</td>\n",
              "    </tr>\n",
              "    <tr>\n",
              "      <th>11990</th>\n",
              "      <td>The election of Donald Trump was a surprise to...</td>\n",
              "    </tr>\n",
              "    <tr>\n",
              "      <th>11991</th>\n",
              "      <td>Voters in the English city of Sunderland did s...</td>\n",
              "    </tr>\n",
              "  </tbody>\n",
              "</table>\n",
              "<p>11992 rows × 1 columns</p>\n",
              "</div>"
            ],
            "text/plain": [
              "                                                 Article\n",
              "0      In the Washington of 2016, even when the polic...\n",
              "1        Donald Trump has used Twitter  —   his prefe...\n",
              "2        Donald Trump is unabashedly praising Russian...\n",
              "3      Updated at 2:50 p. m. ET, Russian President Vl...\n",
              "4      From photography, illustration and video, to d...\n",
              "...                                                  ...\n",
              "11987  The number of law enforcement officers shot an...\n",
              "11988    Trump is busy these days with victory tours,...\n",
              "11989  It’s always interesting for the Goats and Soda...\n",
              "11990  The election of Donald Trump was a surprise to...\n",
              "11991  Voters in the English city of Sunderland did s...\n",
              "\n",
              "[11992 rows x 1 columns]"
            ]
          },
          "metadata": {
            "tags": []
          },
          "execution_count": 49
        }
      ]
    },
    {
      "cell_type": "code",
      "metadata": {
        "hidden": true,
        "id": "ZJ_uefkinElK",
        "colab_type": "code",
        "outputId": "dc8066dd-bb50-4c44-b1e9-4e51dae30a11",
        "colab": {
          "base_uri": "https://localhost:8080/",
          "height": 34
        }
      },
      "source": [
        "dtm.shape"
      ],
      "execution_count": 0,
      "outputs": [
        {
          "output_type": "execute_result",
          "data": {
            "text/plain": [
              "(11992, 54777)"
            ]
          },
          "metadata": {
            "tags": []
          },
          "execution_count": 50
        }
      ]
    },
    {
      "cell_type": "code",
      "metadata": {
        "hidden": true,
        "id": "fDTvDCuqnElN",
        "colab_type": "code",
        "colab": {}
      },
      "source": [
        "### That is 11992 Documents x 54777"
      ],
      "execution_count": 0,
      "outputs": []
    },
    {
      "cell_type": "code",
      "metadata": {
        "hidden": true,
        "id": "u-pQeAAcnElP",
        "colab_type": "code",
        "outputId": "c325dcf3-4c69-4eab-9f71-36072c05b1ef",
        "colab": {
          "base_uri": "https://localhost:8080/",
          "height": 34
        }
      },
      "source": [
        "len(npr)"
      ],
      "execution_count": 0,
      "outputs": [
        {
          "output_type": "execute_result",
          "data": {
            "text/plain": [
              "11992"
            ]
          },
          "metadata": {
            "tags": []
          },
          "execution_count": 52
        }
      ]
    },
    {
      "cell_type": "code",
      "metadata": {
        "hidden": true,
        "id": "EXkQiGgdnElX",
        "colab_type": "code",
        "colab": {}
      },
      "source": [
        "topic_results = LDA.transform(dtm)"
      ],
      "execution_count": 0,
      "outputs": []
    },
    {
      "cell_type": "code",
      "metadata": {
        "hidden": true,
        "id": "p10LFyDTnElb",
        "colab_type": "code",
        "outputId": "0d7504ba-9d37-4f48-f0af-e9b85c0b506a",
        "colab": {
          "base_uri": "https://localhost:8080/",
          "height": 238
        }
      },
      "source": [
        "topic_results"
      ],
      "execution_count": 0,
      "outputs": [
        {
          "output_type": "execute_result",
          "data": {
            "text/plain": [
              "array([[1.61040465e-02, 6.83341493e-01, 2.25376318e-04, ...,\n",
              "        2.99652737e-01, 2.25479379e-04, 2.25497980e-04],\n",
              "       [3.63424997e-02, 8.86130697e-01, 4.40751747e-04, ...,\n",
              "        7.57636804e-02, 4.40866779e-04, 4.40835574e-04],\n",
              "       [3.28569485e-04, 6.96344889e-01, 3.28302105e-04, ...,\n",
              "        3.02012902e-01, 3.28724083e-04, 3.28352652e-04],\n",
              "       ...,\n",
              "       [1.44467964e-02, 1.60696622e-01, 1.73678310e-01, ...,\n",
              "        2.24636569e-02, 3.98728349e-04, 3.98359730e-04],\n",
              "       [4.33560738e-04, 3.53196803e-02, 4.33022554e-04, ...,\n",
              "        9.62512640e-01, 4.33971991e-04, 4.33490254e-04],\n",
              "       [3.98777533e-01, 2.54376049e-04, 3.59290659e-01, ...,\n",
              "        2.40914375e-01, 2.54445555e-04, 2.54253739e-04]])"
            ]
          },
          "metadata": {
            "tags": []
          },
          "execution_count": 54
        }
      ]
    },
    {
      "cell_type": "code",
      "metadata": {
        "hidden": true,
        "id": "NKJozhPAnEld",
        "colab_type": "code",
        "outputId": "716b20b2-f14f-4c53-e021-c64e3e404bfc",
        "colab": {
          "base_uri": "https://localhost:8080/",
          "height": 34
        }
      },
      "source": [
        "type(topic_results)"
      ],
      "execution_count": 0,
      "outputs": [
        {
          "output_type": "execute_result",
          "data": {
            "text/plain": [
              "numpy.ndarray"
            ]
          },
          "metadata": {
            "tags": []
          },
          "execution_count": 55
        }
      ]
    },
    {
      "cell_type": "code",
      "metadata": {
        "hidden": true,
        "id": "3BkbyybZnElg",
        "colab_type": "code",
        "outputId": "271e89bb-eb06-408d-8cd0-2997f8840e1d",
        "colab": {
          "base_uri": "https://localhost:8080/",
          "height": 34
        }
      },
      "source": [
        "topic_results.shape"
      ],
      "execution_count": 0,
      "outputs": [
        {
          "output_type": "execute_result",
          "data": {
            "text/plain": [
              "(11992, 7)"
            ]
          },
          "metadata": {
            "tags": []
          },
          "execution_count": 56
        }
      ]
    },
    {
      "cell_type": "code",
      "metadata": {
        "hidden": true,
        "id": "wod3bZihnElj",
        "colab_type": "code",
        "outputId": "cfc162e7-188f-4189-9305-c60454e01ed8",
        "colab": {
          "base_uri": "https://localhost:8080/",
          "height": 51
        }
      },
      "source": [
        "topic_results[0]\n",
        "# The probailty of Document for particualr topic"
      ],
      "execution_count": 0,
      "outputs": [
        {
          "output_type": "execute_result",
          "data": {
            "text/plain": [
              "array([1.61040465e-02, 6.83341493e-01, 2.25376318e-04, 2.25369288e-04,\n",
              "       2.99652737e-01, 2.25479379e-04, 2.25497980e-04])"
            ]
          },
          "metadata": {
            "tags": []
          },
          "execution_count": 57
        }
      ]
    },
    {
      "cell_type": "code",
      "metadata": {
        "hidden": true,
        "id": "cBU7Au6enElp",
        "colab_type": "code",
        "colab": {}
      },
      "source": [
        "## in the prevoius steps we have seen the probabilites of words for particular topic. Here we can see \n",
        "## the probabilities of document beloging to particular topic"
      ],
      "execution_count": 0,
      "outputs": []
    },
    {
      "cell_type": "code",
      "metadata": {
        "hidden": true,
        "id": "zFUiyWsNnElz",
        "colab_type": "code",
        "outputId": "6f4a433e-7d4d-47af-8f20-300fb9528cb3",
        "colab": {
          "base_uri": "https://localhost:8080/",
          "height": 34
        }
      },
      "source": [
        "topic_results[0].round(2)\n",
        "# That is for Artical [0] it has hight proabality of 68% of topic #1 \n",
        "# Look up at topic # contents --> Politics \n",
        "# print out npr['Article'][0] and see contents. Does it look like it is politics ?"
      ],
      "execution_count": 0,
      "outputs": [
        {
          "output_type": "execute_result",
          "data": {
            "text/plain": [
              "array([0.02, 0.68, 0.  , 0.  , 0.3 , 0.  , 0.  ])"
            ]
          },
          "metadata": {
            "tags": []
          },
          "execution_count": 59
        }
      ]
    },
    {
      "cell_type": "code",
      "metadata": {
        "hidden": true,
        "id": "EU6nJC0nnEl5",
        "colab_type": "code",
        "outputId": "cabc2072-57e8-4929-82e1-d1149cefba36",
        "colab": {
          "base_uri": "https://localhost:8080/",
          "height": 34
        }
      },
      "source": [
        "# The question now is what is the index of the highes probability\n",
        "topic_results[0].argmax()"
      ],
      "execution_count": 0,
      "outputs": [
        {
          "output_type": "execute_result",
          "data": {
            "text/plain": [
              "1"
            ]
          },
          "metadata": {
            "tags": []
          },
          "execution_count": 60
        }
      ]
    },
    {
      "cell_type": "code",
      "metadata": {
        "hidden": true,
        "id": "E7iEjn5_nEl9",
        "colab_type": "code",
        "outputId": "da8d0952-aed3-4d08-d1b5-a229f0ec541f",
        "colab": {
          "base_uri": "https://localhost:8080/",
          "height": 34
        }
      },
      "source": [
        "topic_results[0].argmax()"
      ],
      "execution_count": 0,
      "outputs": [
        {
          "output_type": "execute_result",
          "data": {
            "text/plain": [
              "1"
            ]
          },
          "metadata": {
            "tags": []
          },
          "execution_count": 61
        }
      ]
    },
    {
      "cell_type": "markdown",
      "metadata": {
        "hidden": true,
        "id": "L6-2M6YYnEmJ",
        "colab_type": "text"
      },
      "source": [
        "This means that our model thinks that the first article belongs to topic #1."
      ]
    },
    {
      "cell_type": "markdown",
      "metadata": {
        "heading_collapsed": true,
        "id": "z3nTFVw8nEmK",
        "colab_type": "text"
      },
      "source": [
        "# a) What is the Dominant topic and its percentage contribution in each document!"
      ]
    },
    {
      "cell_type": "code",
      "metadata": {
        "hidden": true,
        "id": "wTLUK54inEmL",
        "colab_type": "code",
        "outputId": "6bd7499b-a82a-4609-8e9c-4168205832c4",
        "colab": {
          "base_uri": "https://localhost:8080/",
          "height": 34
        }
      },
      "source": [
        "topic_results.argmax(axis=1)"
      ],
      "execution_count": 0,
      "outputs": [
        {
          "output_type": "execute_result",
          "data": {
            "text/plain": [
              "array([1, 1, 1, ..., 3, 4, 0])"
            ]
          },
          "metadata": {
            "tags": []
          },
          "execution_count": 62
        }
      ]
    },
    {
      "cell_type": "code",
      "metadata": {
        "hidden": true,
        "id": "DaKPlMb6nEmN",
        "colab_type": "code",
        "colab": {}
      },
      "source": [
        "npr['Topic'] = topic_results.argmax(axis=1)"
      ],
      "execution_count": 0,
      "outputs": []
    },
    {
      "cell_type": "code",
      "metadata": {
        "hidden": true,
        "id": "lTj8OD09nEmV",
        "colab_type": "code",
        "outputId": "af8570c4-9180-426c-d877-f5d60c87953c",
        "colab": {
          "base_uri": "https://localhost:8080/",
          "height": 204
        }
      },
      "source": [
        "npr.head(5)"
      ],
      "execution_count": 0,
      "outputs": [
        {
          "output_type": "execute_result",
          "data": {
            "text/html": [
              "<div>\n",
              "<style scoped>\n",
              "    .dataframe tbody tr th:only-of-type {\n",
              "        vertical-align: middle;\n",
              "    }\n",
              "\n",
              "    .dataframe tbody tr th {\n",
              "        vertical-align: top;\n",
              "    }\n",
              "\n",
              "    .dataframe thead th {\n",
              "        text-align: right;\n",
              "    }\n",
              "</style>\n",
              "<table border=\"1\" class=\"dataframe\">\n",
              "  <thead>\n",
              "    <tr style=\"text-align: right;\">\n",
              "      <th></th>\n",
              "      <th>Article</th>\n",
              "      <th>Topic</th>\n",
              "    </tr>\n",
              "  </thead>\n",
              "  <tbody>\n",
              "    <tr>\n",
              "      <th>0</th>\n",
              "      <td>In the Washington of 2016, even when the polic...</td>\n",
              "      <td>1</td>\n",
              "    </tr>\n",
              "    <tr>\n",
              "      <th>1</th>\n",
              "      <td>Donald Trump has used Twitter  —   his prefe...</td>\n",
              "      <td>1</td>\n",
              "    </tr>\n",
              "    <tr>\n",
              "      <th>2</th>\n",
              "      <td>Donald Trump is unabashedly praising Russian...</td>\n",
              "      <td>1</td>\n",
              "    </tr>\n",
              "    <tr>\n",
              "      <th>3</th>\n",
              "      <td>Updated at 2:50 p. m. ET, Russian President Vl...</td>\n",
              "      <td>1</td>\n",
              "    </tr>\n",
              "    <tr>\n",
              "      <th>4</th>\n",
              "      <td>From photography, illustration and video, to d...</td>\n",
              "      <td>2</td>\n",
              "    </tr>\n",
              "  </tbody>\n",
              "</table>\n",
              "</div>"
            ],
            "text/plain": [
              "                                             Article  Topic\n",
              "0  In the Washington of 2016, even when the polic...      1\n",
              "1    Donald Trump has used Twitter  —   his prefe...      1\n",
              "2    Donald Trump is unabashedly praising Russian...      1\n",
              "3  Updated at 2:50 p. m. ET, Russian President Vl...      1\n",
              "4  From photography, illustration and video, to d...      2"
            ]
          },
          "metadata": {
            "tags": []
          },
          "execution_count": 64
        }
      ]
    },
    {
      "cell_type": "code",
      "metadata": {
        "hidden": true,
        "id": "lAfS4efGnEmn",
        "colab_type": "code",
        "outputId": "8be7f5d8-8774-4b1b-9ffa-34faedf77f7d",
        "colab": {
          "base_uri": "https://localhost:8080/",
          "height": 34
        }
      },
      "source": [
        "topic_results.max(axis = 1).round(2)*100"
      ],
      "execution_count": 0,
      "outputs": [
        {
          "output_type": "execute_result",
          "data": {
            "text/plain": [
              "array([68., 89., 70., ..., 63., 96., 40.])"
            ]
          },
          "metadata": {
            "tags": []
          },
          "execution_count": 65
        }
      ]
    },
    {
      "cell_type": "code",
      "metadata": {
        "hidden": true,
        "id": "pBYS0w7jnEms",
        "colab_type": "code",
        "colab": {}
      },
      "source": [
        "npr['Topic_perc_Contrib'] = topic_results.max(axis = 1).round(2)*100"
      ],
      "execution_count": 0,
      "outputs": []
    },
    {
      "cell_type": "code",
      "metadata": {
        "hidden": true,
        "id": "gu00AuLTnEmw",
        "colab_type": "code",
        "outputId": "c451ca19-c320-4690-8e20-a674d0599fd0",
        "colab": {
          "base_uri": "https://localhost:8080/",
          "height": 529
        }
      },
      "source": [
        "pd.set_option('display.max_colwidth', 200)\n",
        "npr.head(10)"
      ],
      "execution_count": 0,
      "outputs": [
        {
          "output_type": "execute_result",
          "data": {
            "text/html": [
              "<div>\n",
              "<style scoped>\n",
              "    .dataframe tbody tr th:only-of-type {\n",
              "        vertical-align: middle;\n",
              "    }\n",
              "\n",
              "    .dataframe tbody tr th {\n",
              "        vertical-align: top;\n",
              "    }\n",
              "\n",
              "    .dataframe thead th {\n",
              "        text-align: right;\n",
              "    }\n",
              "</style>\n",
              "<table border=\"1\" class=\"dataframe\">\n",
              "  <thead>\n",
              "    <tr style=\"text-align: right;\">\n",
              "      <th></th>\n",
              "      <th>Article</th>\n",
              "      <th>Topic</th>\n",
              "      <th>Topic_perc_Contrib</th>\n",
              "    </tr>\n",
              "  </thead>\n",
              "  <tbody>\n",
              "    <tr>\n",
              "      <th>0</th>\n",
              "      <td>In the Washington of 2016, even when the policy can be bipartisan, the politics cannot. And in that sense, this year shows little sign of ending on Dec. 31. When President Obama moved to sanction ...</td>\n",
              "      <td>1</td>\n",
              "      <td>68.0</td>\n",
              "    </tr>\n",
              "    <tr>\n",
              "      <th>1</th>\n",
              "      <td>Donald Trump has used Twitter  —   his preferred means of communication  —   to weigh in on a swath of foreign policy issues over the past few weeks. His comments give a glimpse into how his inc...</td>\n",
              "      <td>1</td>\n",
              "      <td>89.0</td>\n",
              "    </tr>\n",
              "    <tr>\n",
              "      <th>2</th>\n",
              "      <td>Donald Trump is unabashedly praising Russian President Vladimir Putin, a day after outgoing President Obama issued tough sanctions against the country in response to alleged cyberattacks intende...</td>\n",
              "      <td>1</td>\n",
              "      <td>70.0</td>\n",
              "    </tr>\n",
              "    <tr>\n",
              "      <th>3</th>\n",
              "      <td>Updated at 2:50 p. m. ET, Russian President Vladimir Putin says Russia won’t be expelling U. S. diplomats in a    response to U. S. sanctions, as his foreign minister had suggested earlier Friday....</td>\n",
              "      <td>1</td>\n",
              "      <td>100.0</td>\n",
              "    </tr>\n",
              "    <tr>\n",
              "      <th>4</th>\n",
              "      <td>From photography, illustration and video, to data visualizations and immersive experiences, visuals are an important part of our storytelling at NPR. Interwoven with the written and the spoken wor...</td>\n",
              "      <td>2</td>\n",
              "      <td>22.0</td>\n",
              "    </tr>\n",
              "    <tr>\n",
              "      <th>5</th>\n",
              "      <td>I did not want to join yoga class. I hated those   beatific instructors. I worried that the people in the class could fold up like origami and I’d fold up like a bread stick. I understood the need...</td>\n",
              "      <td>3</td>\n",
              "      <td>54.0</td>\n",
              "    </tr>\n",
              "    <tr>\n",
              "      <th>6</th>\n",
              "      <td>With a   who has publicly supported the debunked claim that vaccines cause autism, suggested that climate change is a hoax dreamed up by the Chinese, and appointed to his Cabinet a retired neurosu...</td>\n",
              "      <td>3</td>\n",
              "      <td>78.0</td>\n",
              "    </tr>\n",
              "    <tr>\n",
              "      <th>7</th>\n",
              "      <td>I was standing by the airport exit, debating whether to get a snack, when a young man with a round face approached me. I focused hard to decipher his words. In a thick accent, he asked me to help ...</td>\n",
              "      <td>2</td>\n",
              "      <td>73.0</td>\n",
              "    </tr>\n",
              "    <tr>\n",
              "      <th>8</th>\n",
              "      <td>If movies were trying to be more realistic, perhaps the way to summon Batman shouldn’t have been the    —   it should have been the bat squeak. New research from the Bat Lab for   at Tel Aviv Univ...</td>\n",
              "      <td>3</td>\n",
              "      <td>62.0</td>\n",
              "    </tr>\n",
              "    <tr>\n",
              "      <th>9</th>\n",
              "      <td>Eighteen years ago, on New Year’s Eve, David Fisher visited an old farm in western Massachusetts, near the small town of Conway. No one was farming there at the time, and that’s what had drawn Fis...</td>\n",
              "      <td>2</td>\n",
              "      <td>76.0</td>\n",
              "    </tr>\n",
              "  </tbody>\n",
              "</table>\n",
              "</div>"
            ],
            "text/plain": [
              "                                                                                                                                                                                                   Article  ...  Topic_perc_Contrib\n",
              "0  In the Washington of 2016, even when the policy can be bipartisan, the politics cannot. And in that sense, this year shows little sign of ending on Dec. 31. When President Obama moved to sanction ...  ...                68.0\n",
              "1    Donald Trump has used Twitter  —   his preferred means of communication  —   to weigh in on a swath of foreign policy issues over the past few weeks. His comments give a glimpse into how his inc...  ...                89.0\n",
              "2    Donald Trump is unabashedly praising Russian President Vladimir Putin, a day after outgoing President Obama issued tough sanctions against the country in response to alleged cyberattacks intende...  ...                70.0\n",
              "3  Updated at 2:50 p. m. ET, Russian President Vladimir Putin says Russia won’t be expelling U. S. diplomats in a    response to U. S. sanctions, as his foreign minister had suggested earlier Friday....  ...               100.0\n",
              "4  From photography, illustration and video, to data visualizations and immersive experiences, visuals are an important part of our storytelling at NPR. Interwoven with the written and the spoken wor...  ...                22.0\n",
              "5  I did not want to join yoga class. I hated those   beatific instructors. I worried that the people in the class could fold up like origami and I’d fold up like a bread stick. I understood the need...  ...                54.0\n",
              "6  With a   who has publicly supported the debunked claim that vaccines cause autism, suggested that climate change is a hoax dreamed up by the Chinese, and appointed to his Cabinet a retired neurosu...  ...                78.0\n",
              "7  I was standing by the airport exit, debating whether to get a snack, when a young man with a round face approached me. I focused hard to decipher his words. In a thick accent, he asked me to help ...  ...                73.0\n",
              "8  If movies were trying to be more realistic, perhaps the way to summon Batman shouldn’t have been the    —   it should have been the bat squeak. New research from the Bat Lab for   at Tel Aviv Univ...  ...                62.0\n",
              "9  Eighteen years ago, on New Year’s Eve, David Fisher visited an old farm in western Massachusetts, near the small town of Conway. No one was farming there at the time, and that’s what had drawn Fis...  ...                76.0\n",
              "\n",
              "[10 rows x 3 columns]"
            ]
          },
          "metadata": {
            "tags": []
          },
          "execution_count": 67
        }
      ]
    },
    {
      "cell_type": "markdown",
      "metadata": {
        "heading_collapsed": true,
        "id": "Tps_YSOsnEmz",
        "colab_type": "text"
      },
      "source": [
        "# b)\tWhat is the frequency distribution of word counts in documents?  "
      ]
    },
    {
      "cell_type": "code",
      "metadata": {
        "hidden": true,
        "id": "xT5ChtZ2nEm1",
        "colab_type": "code",
        "outputId": "f53807a4-f126-4212-a560-6a3a4918ac19",
        "colab": {
          "base_uri": "https://localhost:8080/",
          "height": 34
        }
      },
      "source": [
        "len(cv.get_feature_names())"
      ],
      "execution_count": 0,
      "outputs": [
        {
          "output_type": "execute_result",
          "data": {
            "text/plain": [
              "54777"
            ]
          },
          "metadata": {
            "tags": []
          },
          "execution_count": 68
        }
      ]
    },
    {
      "cell_type": "code",
      "metadata": {
        "hidden": true,
        "id": "7aukxxIOnEm4",
        "colab_type": "code",
        "colab": {}
      },
      "source": [
        "word_list = cv.get_feature_names();    \n",
        "count_list = dtm.toarray().sum(axis=0)  "
      ],
      "execution_count": 0,
      "outputs": []
    },
    {
      "cell_type": "code",
      "metadata": {
        "hidden": true,
        "id": "K8HQOgldnEnE",
        "colab_type": "code",
        "colab": {}
      },
      "source": [
        "df_word_freq = pd.DataFrame([])\n",
        "df_word_freq['word']  =word_list\n",
        "df_word_freq['freq']  =count_list"
      ],
      "execution_count": 0,
      "outputs": []
    },
    {
      "cell_type": "code",
      "metadata": {
        "hidden": true,
        "id": "Yp4VXJVmnEnH",
        "colab_type": "code",
        "colab": {}
      },
      "source": [
        "df_word_freq = df_word_freq.sort_values(by = 'freq',ascending=False).reset_index(drop = True)"
      ],
      "execution_count": 0,
      "outputs": []
    },
    {
      "cell_type": "code",
      "metadata": {
        "hidden": true,
        "id": "0y1r9cJrnEnJ",
        "colab_type": "code",
        "outputId": "13548c28-b407-46cb-a87c-38f22826e9e0",
        "colab": {
          "base_uri": "https://localhost:8080/",
          "height": 359
        }
      },
      "source": [
        "df_word_freq.head(10)"
      ],
      "execution_count": 0,
      "outputs": [
        {
          "output_type": "execute_result",
          "data": {
            "text/html": [
              "<div>\n",
              "<style scoped>\n",
              "    .dataframe tbody tr th:only-of-type {\n",
              "        vertical-align: middle;\n",
              "    }\n",
              "\n",
              "    .dataframe tbody tr th {\n",
              "        vertical-align: top;\n",
              "    }\n",
              "\n",
              "    .dataframe thead th {\n",
              "        text-align: right;\n",
              "    }\n",
              "</style>\n",
              "<table border=\"1\" class=\"dataframe\">\n",
              "  <thead>\n",
              "    <tr style=\"text-align: right;\">\n",
              "      <th></th>\n",
              "      <th>word</th>\n",
              "      <th>freq</th>\n",
              "    </tr>\n",
              "  </thead>\n",
              "  <tbody>\n",
              "    <tr>\n",
              "      <th>0</th>\n",
              "      <td>says</td>\n",
              "      <td>45968</td>\n",
              "    </tr>\n",
              "    <tr>\n",
              "      <th>1</th>\n",
              "      <td>said</td>\n",
              "      <td>28866</td>\n",
              "    </tr>\n",
              "    <tr>\n",
              "      <th>2</th>\n",
              "      <td>people</td>\n",
              "      <td>28454</td>\n",
              "    </tr>\n",
              "    <tr>\n",
              "      <th>3</th>\n",
              "      <td>trump</td>\n",
              "      <td>22896</td>\n",
              "    </tr>\n",
              "    <tr>\n",
              "      <th>4</th>\n",
              "      <td>like</td>\n",
              "      <td>21427</td>\n",
              "    </tr>\n",
              "    <tr>\n",
              "      <th>5</th>\n",
              "      <td>just</td>\n",
              "      <td>18880</td>\n",
              "    </tr>\n",
              "    <tr>\n",
              "      <th>6</th>\n",
              "      <td>new</td>\n",
              "      <td>17514</td>\n",
              "    </tr>\n",
              "    <tr>\n",
              "      <th>7</th>\n",
              "      <td>time</td>\n",
              "      <td>14490</td>\n",
              "    </tr>\n",
              "    <tr>\n",
              "      <th>8</th>\n",
              "      <td>years</td>\n",
              "      <td>13091</td>\n",
              "    </tr>\n",
              "    <tr>\n",
              "      <th>9</th>\n",
              "      <td>president</td>\n",
              "      <td>11581</td>\n",
              "    </tr>\n",
              "  </tbody>\n",
              "</table>\n",
              "</div>"
            ],
            "text/plain": [
              "        word   freq\n",
              "0       says  45968\n",
              "1       said  28866\n",
              "2     people  28454\n",
              "3      trump  22896\n",
              "4       like  21427\n",
              "5       just  18880\n",
              "6        new  17514\n",
              "7       time  14490\n",
              "8      years  13091\n",
              "9  president  11581"
            ]
          },
          "metadata": {
            "tags": []
          },
          "execution_count": 72
        }
      ]
    },
    {
      "cell_type": "code",
      "metadata": {
        "hidden": true,
        "id": "KQkWCf9InEnN",
        "colab_type": "code",
        "colab": {}
      },
      "source": [
        "import seaborn as sns\n",
        "import matplotlib.pyplot as plt"
      ],
      "execution_count": 0,
      "outputs": []
    },
    {
      "cell_type": "code",
      "metadata": {
        "hidden": true,
        "id": "CTN66db8nEnP",
        "colab_type": "code",
        "outputId": "7c9eb4c4-5318-4aef-aa8c-c4e6c527fecb",
        "colab": {
          "base_uri": "https://localhost:8080/",
          "height": 187
        }
      },
      "source": [
        "df_word_freq.word.to_list()[0:10]"
      ],
      "execution_count": 0,
      "outputs": [
        {
          "output_type": "execute_result",
          "data": {
            "text/plain": [
              "['says',\n",
              " 'said',\n",
              " 'people',\n",
              " 'trump',\n",
              " 'like',\n",
              " 'just',\n",
              " 'new',\n",
              " 'time',\n",
              " 'years',\n",
              " 'president']"
            ]
          },
          "metadata": {
            "tags": []
          },
          "execution_count": 74
        }
      ]
    },
    {
      "cell_type": "code",
      "metadata": {
        "hidden": true,
        "id": "3QHZUB5SnEnS",
        "colab_type": "code",
        "outputId": "d2277e75-2e5b-4c79-a7d5-39f36b48a925",
        "colab": {
          "base_uri": "https://localhost:8080/",
          "height": 592
        }
      },
      "source": [
        "plt.figure(figsize = (5,10))\n",
        "sns.barplot(y = df_word_freq.word.to_list()[0:10],x =  df_word_freq.freq.to_list()[0:10] )\n",
        "plt.show()"
      ],
      "execution_count": 0,
      "outputs": [
        {
          "output_type": "display_data",
          "data": {
            "image/png": "[encoded data removed]",
            "text/plain": [
              "<Figure size 360x720 with 1 Axes>"
            ]
          },
          "metadata": {
            "tags": []
          }
        }
      ]
    },
    {
      "cell_type": "markdown",
      "metadata": {
        "heading_collapsed": true,
        "id": "9Cq9pbknnEnX",
        "colab_type": "text"
      },
      "source": [
        "# c) Top 10 keywords in each topic and wordclouds"
      ]
    },
    {
      "cell_type": "code",
      "metadata": {
        "hidden": true,
        "scrolled": false,
        "id": "DJDEVjaCnEnY",
        "colab_type": "code",
        "outputId": "5d2858b9-ae9c-49e3-db57-476f34916aca",
        "colab": {
          "base_uri": "https://localhost:8080/",
          "height": 1000
        }
      },
      "source": [
        "from wordcloud import WordCloud\n",
        "\n",
        "wordcloud = WordCloud()\n",
        "\n",
        "\n",
        "\n",
        "for index,topic in enumerate(LDA.components_):\n",
        "    dt = {}\n",
        "    print(f'THE TOP 10 WORDS FOR TOPIC #{index}')\n",
        "    for i in topic.argsort()[-10:]:\n",
        "        dt[cv.get_feature_names()[i]] = df_word_freq[df_word_freq.word ==cv.get_feature_names()[i]].freq.to_list()[0] \n",
        "    print(dt)\n",
        "    wordcloud.generate_from_frequencies(frequencies=dt)\n",
        "    plt.figure()\n",
        "    plt.imshow(wordcloud, interpolation=\"bilinear\")\n",
        "    plt.axis(\"off\")\n",
        "    plt.show()\n",
        "\n",
        "    print('\\n')"
      ],
      "execution_count": 0,
      "outputs": [
        {
          "output_type": "stream",
          "text": [
            "THE TOP 10 WORDS FOR TOPIC #0\n",
            "{'new': 17514, 'percent': 8021, 'government': 6477, 'company': 3869, 'million': 4505, 'care': 5594, 'people': 28454, 'health': 8560, 'said': 28866, 'says': 45968}\n"
          ],
          "name": "stdout"
        },
        {
          "output_type": "display_data",
          "data": {
            "image/png": "[encoded data removed]",
            "text/plain": [
              "<Figure size 432x288 with 1 Axes>"
            ]
          },
          "metadata": {
            "tags": []
          }
        },
        {
          "output_type": "stream",
          "text": [
            "\n",
            "\n",
            "THE TOP 10 WORDS FOR TOPIC #1\n",
            "{'npr': 6622, 'reports': 3796, 'says': 45968, 'news': 5073, 'people': 28454, 'told': 7266, 'police': 5032, 'president': 11581, 'trump': 22896, 'said': 28866}\n"
          ],
          "name": "stdout"
        },
        {
          "output_type": "display_data",
          "data": {
            "image/png": "[encoded data removed]",
            "text/plain": [
              "<Figure size 432x288 with 1 Axes>"
            ]
          },
          "metadata": {
            "tags": []
          }
        },
        {
          "output_type": "stream",
          "text": [
            "\n",
            "\n",
            "THE TOP 10 WORDS FOR TOPIC #2\n",
            "{'time': 14490, 'water': 3514, 'city': 5440, 'new': 17514, 'years': 13091, 'food': 4285, 'just': 18880, 'people': 28454, 'like': 21427, 'says': 45968}\n"
          ],
          "name": "stdout"
        },
        {
          "output_type": "display_data",
          "data": {
            "image/png": "[encoded data removed]",
            "text/plain": [
              "<Figure size 432x288 with 1 Axes>"
            ]
          },
          "metadata": {
            "tags": []
          }
        },
        {
          "output_type": "stream",
          "text": [
            "\n",
            "\n",
            "THE TOP 10 WORDS FOR TOPIC #3\n",
            "{'disease': 2209, 'patients': 2346, 'just': 18880, 'children': 5166, 'study': 3640, 'like': 21427, 'women': 7718, 'health': 8560, 'people': 28454, 'says': 45968}\n"
          ],
          "name": "stdout"
        },
        {
          "output_type": "display_data",
          "data": {
            "image/png": "[encoded data removed]",
            "text/plain": [
              "<Figure size 432x288 with 1 Axes>"
            ]
          },
          "metadata": {
            "tags": []
          }
        },
        {
          "output_type": "stream",
          "text": [
            "\n",
            "\n",
            "THE TOP 10 WORDS FOR TOPIC #4\n",
            "{'obama': 5038, 'court': 4212, 'republican': 3717, 'campaign': 5632, 'people': 28454, 'state': 10081, 'president': 11581, 'clinton': 7377, 'said': 28866, 'trump': 22896}\n"
          ],
          "name": "stdout"
        },
        {
          "output_type": "display_data",
          "data": {
            "image/png": "[encoded data removed]",
            "text/plain": [
              "<Figure size 432x288 with 1 Axes>"
            ]
          },
          "metadata": {
            "tags": []
          }
        },
        {
          "output_type": "stream",
          "text": [
            "\n",
            "\n",
            "THE TOP 10 WORDS FOR TOPIC #5\n",
            "{'new': 17514, 'way': 10259, 'music': 3659, 'really': 8331, 'time': 14490, 'know': 10111, 'think': 10837, 'people': 28454, 'just': 18880, 'like': 21427}\n"
          ],
          "name": "stdout"
        },
        {
          "output_type": "display_data",
          "data": {
            "image/png": "[encoded data removed]",
            "text/plain": [
              "<Figure size 432x288 with 1 Axes>"
            ]
          },
          "metadata": {
            "tags": []
          }
        },
        {
          "output_type": "stream",
          "text": [
            "\n",
            "\n",
            "THE TOP 10 WORDS FOR TOPIC #6\n",
            "{'people': 28454, 'time': 14490, 'schools': 2103, 'just': 18880, 'education': 2437, 'new': 17514, 'like': 21427, 'students': 3832, 'school': 6089, 'says': 45968}\n"
          ],
          "name": "stdout"
        },
        {
          "output_type": "display_data",
          "data": {
            "image/png": "[encoded data removed]",
            "text/plain": [
              "<Figure size 432x288 with 1 Axes>"
            ]
          },
          "metadata": {
            "tags": []
          }
        },
        {
          "output_type": "stream",
          "text": [
            "\n",
            "\n"
          ],
          "name": "stdout"
        }
      ]
    },
    {
      "cell_type": "markdown",
      "metadata": {
        "id": "cWfbdphJnEng",
        "colab_type": "text"
      },
      "source": [
        "# d)Apply the pyLDAVis visualization method and answer the below questions: "
      ]
    },
    {
      "cell_type": "code",
      "metadata": {
        "id": "D8GsXwwmorP5",
        "colab_type": "code",
        "colab": {}
      },
      "source": [
        "!pip install pyLDAvis"
      ],
      "execution_count": 0,
      "outputs": []
    },
    {
      "cell_type": "code",
      "metadata": {
        "scrolled": true,
        "id": "S-gEhkUunEnm",
        "colab_type": "code",
        "outputId": "bb341eda-04a1-459e-e140-0f1739f179b0",
        "colab": {
          "base_uri": "https://localhost:8080/",
          "height": 88
        }
      },
      "source": [
        "# !pip3 install pyLDAvis\n",
        "import pyLDAvis.gensim\n",
        "import gensim\n",
        "pyLDAvis.enable_notebook()"
      ],
      "execution_count": 0,
      "outputs": [
        {
          "output_type": "stream",
          "text": [
            "/usr/local/lib/python3.6/dist-packages/scipy/sparse/sparsetools.py:21: DeprecationWarning: `scipy.sparse.sparsetools` is deprecated!\n",
            "scipy.sparse.sparsetools is a private module for scipy.sparse, and should not be used.\n",
            "  _deprecated()\n"
          ],
          "name": "stderr"
        }
      ]
    },
    {
      "cell_type": "code",
      "metadata": {
        "id": "rR58yAbznEno",
        "colab_type": "code",
        "outputId": "2252a72c-f071-41fe-c70c-92daedb8340d",
        "colab": {
          "base_uri": "https://localhost:8080/",
          "height": 34
        }
      },
      "source": [
        "text_list = [i.split() for i in npr['Article']]\n",
        "len(text_list)"
      ],
      "execution_count": 0,
      "outputs": [
        {
          "output_type": "execute_result",
          "data": {
            "text/plain": [
              "11992"
            ]
          },
          "metadata": {
            "tags": []
          },
          "execution_count": 80
        }
      ]
    },
    {
      "cell_type": "code",
      "metadata": {
        "id": "b76DQ0BynEon",
        "colab_type": "code",
        "outputId": "5bb866b8-ad7b-46d2-a24c-848d8e281d51",
        "colab": {
          "base_uri": "https://localhost:8080/",
          "height": 88
        }
      },
      "source": [
        "# Importing Gensim`\n",
        "import gensim\n",
        "from gensim import corpora\n",
        "\n",
        "# Creating the term dictionary of our courpus, where every unique term is assigned an index. dictionary = corpora.Dictionary(doc_clean)\n",
        "dictionary = corpora.Dictionary(text_list)\n",
        "dictionary.save('dictionary.dict')\n",
        "print(dictionary)"
      ],
      "execution_count": 0,
      "outputs": [
        {
          "output_type": "stream",
          "text": [
            "Dictionary(279033 unique tokens: ['(He', '(Mike', '(by', '.', '17']...)\n"
          ],
          "name": "stdout"
        },
        {
          "output_type": "stream",
          "text": [
            "/usr/local/lib/python3.6/dist-packages/smart_open/smart_open_lib.py:402: UserWarning: This function is deprecated, use smart_open.open instead. See the migration notes for details: https://github.com/RaRe-Technologies/smart_open/blob/master/README.rst#migrating-to-the-new-open-function\n",
            "  'See the migration notes for details: %s' % _MIGRATION_NOTES_URL\n"
          ],
          "name": "stderr"
        }
      ]
    },
    {
      "cell_type": "code",
      "metadata": {
        "id": "xRKgzAYvnEoq",
        "colab_type": "code",
        "outputId": "fc80c89f-df28-4fe5-d919-4dcf4b82982d",
        "colab": {
          "base_uri": "https://localhost:8080/",
          "height": 105
        }
      },
      "source": [
        "# Converting list of documents (corpus) into Document Term Matrix using dictionary prepared above.\n",
        "doc_term_matrix = [dictionary.doc2bow(doc) for doc in text_list]\n",
        "corpora.MmCorpus.serialize('corpus.mm', doc_term_matrix)\n",
        "\n",
        "print(len(doc_term_matrix))\n",
        "print(doc_term_matrix[100])"
      ],
      "execution_count": 0,
      "outputs": [
        {
          "output_type": "stream",
          "text": [
            "/usr/local/lib/python3.6/dist-packages/smart_open/smart_open_lib.py:402: UserWarning: This function is deprecated, use smart_open.open instead. See the migration notes for details: https://github.com/RaRe-Technologies/smart_open/blob/master/README.rst#migrating-to-the-new-open-function\n",
            "  'See the migration notes for details: %s' % _MIGRATION_NOTES_URL\n"
          ],
          "name": "stderr"
        },
        {
          "output_type": "stream",
          "text": [
            "11992\n",
            "[(11, 1), (14, 1), (18, 6), (26, 4), (51, 5), (54, 2), (56, 4), (79, 1), (110, 1), (111, 6), (112, 3), (113, 1), (114, 3), (124, 1), (131, 3), (132, 3), (135, 60), (136, 1), (137, 8), (154, 1), (158, 1), (160, 4), (161, 1), (164, 8), (165, 25), (167, 3), (171, 11), (173, 6), (175, 7), (177, 1), (179, 19), (180, 1), (188, 1), (195, 7), (196, 2), (203, 10), (208, 13), (236, 7), (261, 2), (262, 1), (271, 4), (276, 2), (289, 1), (291, 1), (303, 1), (308, 14), (313, 1), (316, 14), (324, 1), (329, 3), (330, 1), (335, 9), (340, 1), (351, 7), (352, 1), (354, 19), (365, 2), (368, 21), (371, 10), (374, 12), (379, 3), (380, 1), (388, 12), (389, 2), (393, 3), (394, 2), (395, 1), (398, 2), (401, 1), (402, 4), (403, 1), (412, 5), (414, 4), (415, 1), (424, 1), (425, 1), (426, 8), (432, 25), (436, 15), (438, 4), (439, 1), (442, 22), (443, 5), (445, 4), (446, 2), (448, 1), (452, 1), (461, 2), (484, 10), (485, 8), (487, 1), (508, 5), (512, 2), (513, 2), (516, 1), (518, 3), (534, 2), (535, 5), (537, 1), (547, 1), (551, 2), (556, 1), (558, 2), (562, 5), (563, 40), (565, 66), (566, 15), (567, 14), (568, 1), (569, 5), (571, 1), (572, 3), (573, 13), (575, 15), (576, 1), (581, 2), (583, 68), (594, 1), (597, 2), (600, 3), (604, 3), (607, 1), (608, 3), (616, 1), (617, 3), (620, 2), (622, 17), (623, 3), (625, 3), (626, 3), (627, 1), (629, 4), (633, 1), (634, 14), (649, 1), (669, 4), (717, 1), (725, 2), (726, 1), (729, 1), (731, 3), (734, 1), (754, 1), (760, 2), (762, 1), (764, 1), (769, 1), (776, 2), (777, 1), (779, 2), (786, 2), (787, 11), (799, 1), (800, 1), (802, 1), (803, 1), (810, 1), (811, 1), (816, 4), (855, 4), (857, 6), (868, 1), (875, 1), (876, 5), (877, 3), (893, 5), (902, 2), (905, 4), (927, 2), (935, 2), (941, 7), (945, 1), (958, 1), (968, 1), (970, 1), (974, 1), (993, 1), (995, 3), (998, 1), (1005, 1), (1010, 1), (1011, 1), (1018, 1), (1019, 1), (1022, 1), (1035, 1), (1039, 1), (1048, 1), (1050, 1), (1053, 3), (1092, 1), (1093, 1), (1094, 2), (1107, 2), (1111, 1), (1124, 16), (1125, 1), (1126, 3), (1159, 3), (1178, 1), (1206, 1), (1229, 1), (1233, 1), (1258, 1), (1265, 1), (1280, 1), (1292, 1), (1329, 1), (1337, 1), (1365, 1), (1409, 1), (1427, 1), (1428, 1), (1436, 1), (1453, 2), (1463, 1), (1474, 2), (1483, 3), (1488, 3), (1566, 1), (1616, 1), (1622, 1), (1627, 1), (1633, 1), (1638, 1), (1640, 5), (1642, 2), (1659, 1), (1669, 6), (1675, 4), (1692, 1), (1695, 1), (1696, 2), (1721, 3), (1727, 2), (1729, 1), (1750, 5), (1754, 3), (1757, 1), (1766, 1), (1771, 2), (1776, 1), (1782, 2), (1826, 1), (1833, 1), (1851, 9), (1853, 1), (1857, 1), (1862, 1), (1876, 1), (1886, 1), (1899, 1), (1900, 3), (1901, 4), (1903, 4), (1918, 1), (1923, 3), (1924, 1), (1925, 1), (1935, 1), (1938, 1), (1945, 1), (1951, 1), (1958, 3), (2006, 1), (2037, 2), (2040, 1), (2065, 2), (2075, 1), (2082, 1), (2088, 1), (2119, 3), (2130, 3), (2132, 1), (2135, 1), (2143, 1), (2160, 1), (2165, 1), (2190, 1), (2194, 4), (2203, 1), (2230, 1), (2235, 1), (2256, 2), (2284, 2), (2291, 3), (2294, 1), (2295, 5), (2425, 2), (2426, 2), (2431, 1), (2446, 1), (2449, 2), (2450, 1), (2452, 1), (2493, 1), (2497, 1), (2541, 1), (2569, 10), (2573, 3), (2575, 1), (2578, 1), (2596, 9), (2601, 1), (2609, 1), (2638, 1), (2666, 1), (2676, 1), (2693, 3), (2695, 1), (2709, 1), (2840, 1), (2846, 2), (2862, 1), (2881, 1), (2903, 8), (2904, 2), (2905, 1), (2908, 1), (2925, 1), (2972, 4), (2974, 1), (2975, 1), (2980, 1), (2990, 1), (2992, 7), (3010, 1), (3034, 1), (3057, 4), (3059, 1), (3062, 1), (3069, 1), (3080, 5), (3083, 2), (3110, 1), (3115, 3), (3116, 1), (3138, 1), (3145, 1), (3276, 1), (3305, 1), (3357, 1), (3383, 1), (3387, 1), (3388, 1), (3402, 1), (3410, 1), (3421, 2), (3426, 1), (3476, 1), (3494, 2), (3499, 2), (3522, 1), (3549, 1), (3614, 1), (3627, 3), (3648, 1), (3672, 2), (3675, 1), (3690, 1), (3710, 1), (3740, 2), (3833, 1), (3844, 1), (3879, 1), (4159, 1), (4191, 2), (4257, 4), (4284, 1), (4302, 5), (4381, 1), (4442, 2), (4462, 1), (4489, 1), (4496, 1), (4534, 1), (4563, 1), (4738, 5), (4819, 2), (4839, 1), (4843, 1), (4861, 1), (4929, 1), (4991, 1), (4994, 1), (5029, 1), (5127, 1), (5142, 1), (5313, 1), (5315, 1), (5320, 1), (5382, 1), (5479, 1), (5556, 1), (5597, 3), (5598, 2), (5640, 1), (5686, 1), (5728, 1), (5756, 1), (5795, 1), (5797, 2), (5844, 1), (5860, 1), (5898, 1), (5907, 1), (5912, 1), (5950, 2), (5952, 1), (5966, 2), (6049, 3), (6170, 1), (6340, 1), (6367, 2), (6393, 1), (6591, 2), (6612, 1), (6614, 1), (6722, 1), (6723, 1), (6724, 2), (6738, 1), (6741, 1), (6785, 1), (6796, 1), (6812, 2), (6849, 1), (6939, 1), (6942, 1), (6972, 1), (6975, 1), (6983, 2), (7088, 1), (7232, 1), (7299, 1), (7325, 1), (7334, 4), (7384, 1), (7397, 1), (7556, 1), (7570, 1), (7574, 1), (7644, 1), (7796, 1), (8222, 1), (8254, 1), (8448, 1), (8496, 1), (8505, 1), (8572, 1), (8577, 1), (8628, 2), (8662, 1), (8777, 10), (9003, 2), (9031, 1), (9040, 1), (9048, 1), (9460, 1), (9529, 1), (9577, 1), (9582, 1), (9907, 1), (9961, 1), (10018, 1), (10171, 1), (10179, 3), (10195, 5), (10204, 1), (10341, 1), (10436, 1), (10476, 1), (11173, 1), (11241, 1), (11410, 1), (11466, 1), (11780, 1), (12280, 2), (12350, 7), (12731, 1), (12864, 1), (12865, 1), (12970, 1), (13003, 1), (13007, 2), (13021, 1), (13193, 1), (13335, 1), (13405, 1), (13641, 3), (13985, 1), (13988, 1), (14013, 1), (14168, 1), (14302, 1), (14770, 1), (15098, 1), (15353, 1), (15587, 1), (15588, 1), (15589, 1), (15590, 1), (15591, 1), (15592, 2), (15593, 1), (15594, 6), (15595, 1), (15596, 1), (15597, 1), (15598, 1), (15599, 1), (15600, 1), (15601, 1), (15602, 3), (15603, 1), (15604, 1), (15605, 1), (15606, 1), (15607, 1), (15608, 1), (15609, 1), (15610, 1), (15611, 1), (15612, 1), (15613, 1), (15614, 6), (15615, 1), (15616, 1), (15617, 1), (15618, 1), (15619, 2), (15620, 6), (15621, 1), (15622, 1), (15623, 1), (15624, 1), (15625, 1), (15626, 1), (15627, 1), (15628, 1), (15629, 1), (15630, 1), (15631, 1), (15632, 1), (15633, 1), (15634, 5), (15635, 1), (15636, 1), (15637, 1), (15638, 1), (15639, 1), (15640, 1), (15641, 1), (15642, 1), (15643, 1), (15644, 1), (15645, 1), (15646, 1), (15647, 3), (15648, 1), (15649, 1), (15650, 1), (15651, 1), (15652, 1), (15653, 1), (15654, 1), (15655, 1), (15656, 1), (15657, 3), (15658, 2), (15659, 1), (15660, 2), (15661, 1), (15662, 1), (15663, 2), (15664, 1), (15665, 1), (15666, 1), (15667, 1), (15668, 1), (15669, 1), (15670, 1), (15671, 1), (15672, 1), (15673, 1), (15674, 1), (15675, 2), (15676, 1), (15677, 2), (15678, 1), (15679, 2), (15680, 1), (15681, 1), (15682, 1), (15683, 1), (15684, 1), (15685, 1), (15686, 1), (15687, 1), (15688, 1), (15689, 1), (15690, 1), (15691, 1), (15692, 1), (15693, 8), (15694, 1), (15695, 3), (15696, 1), (15697, 1), (15698, 2), (15699, 1), (15700, 1), (15701, 1), (15702, 1), (15703, 1), (15704, 1), (15705, 1), (15706, 1), (15707, 1), (15708, 1), (15709, 1), (15710, 1), (15711, 1), (15712, 1), (15713, 1), (15714, 1), (15715, 1), (15716, 1), (15717, 1), (15718, 1), (15719, 1), (15720, 1), (15721, 1), (15722, 1), (15723, 1), (15724, 2), (15725, 1), (15726, 3), (15727, 1), (15728, 2), (15729, 1), (15730, 1), (15731, 1), (15732, 2), (15733, 1), (15734, 1), (15735, 1), (15736, 1), (15737, 1), (15738, 1), (15739, 3), (15740, 1), (15741, 1)]\n"
          ],
          "name": "stdout"
        }
      ]
    },
    {
      "cell_type": "code",
      "metadata": {
        "id": "rVzp3162nEot",
        "colab_type": "code",
        "colab": {}
      },
      "source": [
        "import pyLDAvis.gensim\n",
        "import gensim\n",
        "pyLDAvis.enable_notebook()"
      ],
      "execution_count": 0,
      "outputs": []
    },
    {
      "cell_type": "code",
      "metadata": {
        "id": "MKhYISBlqq8u",
        "colab_type": "code",
        "colab": {}
      },
      "source": [
        "# Creating the object for LDA model using gensim library\n",
        "Lda = gensim.models.ldamodel.LdaModel\n",
        "\n",
        "# Running and Trainign LDA model on the document term matrix.\n",
        "ldamodel = Lda(doc_term_matrix, num_topics=7, id2word = dictionary, passes=50)"
      ],
      "execution_count": 0,
      "outputs": []
    },
    {
      "cell_type": "code",
      "metadata": {
        "id": "R-turVtdq2EV",
        "colab_type": "code",
        "outputId": "222cdeac-33e8-44fe-d411-04945276e821",
        "colab": {
          "base_uri": "https://localhost:8080/",
          "height": 71
        }
      },
      "source": [
        "ldamodel.save('topic.model')\n"
      ],
      "execution_count": 0,
      "outputs": [
        {
          "output_type": "stream",
          "text": [
            "/usr/local/lib/python3.6/dist-packages/smart_open/smart_open_lib.py:402: UserWarning: This function is deprecated, use smart_open.open instead. See the migration notes for details: https://github.com/RaRe-Technologies/smart_open/blob/master/README.rst#migrating-to-the-new-open-function\n",
            "  'See the migration notes for details: %s' % _MIGRATION_NOTES_URL\n"
          ],
          "name": "stderr"
        }
      ]
    },
    {
      "cell_type": "code",
      "metadata": {
        "id": "CFuxI2fYnEpL",
        "colab_type": "code",
        "outputId": "16c5dfda-d0f2-4325-8d5d-0b9272a81ce8",
        "colab": {
          "base_uri": "https://localhost:8080/",
          "height": 71
        }
      },
      "source": [
        "d = gensim.corpora.Dictionary.load('dictionary.dict')\n",
        "c = gensim.corpora.MmCorpus('corpus.mm')\n",
        "lda = gensim.models.LdaModel.load('topic.model')\n",
        "\n"
      ],
      "execution_count": 0,
      "outputs": [
        {
          "output_type": "stream",
          "text": [
            "/usr/local/lib/python3.6/dist-packages/smart_open/smart_open_lib.py:402: UserWarning: This function is deprecated, use smart_open.open instead. See the migration notes for details: https://github.com/RaRe-Technologies/smart_open/blob/master/README.rst#migrating-to-the-new-open-function\n",
            "  'See the migration notes for details: %s' % _MIGRATION_NOTES_URL\n"
          ],
          "name": "stderr"
        }
      ]
    },
    {
      "cell_type": "code",
      "metadata": {
        "id": "fsyzihg4oPf6",
        "colab_type": "code",
        "outputId": "55323529-70ba-47a2-f22e-eeff541a6147",
        "colab": {
          "base_uri": "https://localhost:8080/",
          "height": 1000
        }
      },
      "source": [
        "data = pyLDAvis.gensim.prepare(lda, c, d)\n",
        "data"
      ],
      "execution_count": 0,
      "outputs": [
        {
          "output_type": "stream",
          "text": [
            "/usr/local/lib/python3.6/dist-packages/smart_open/smart_open_lib.py:402: UserWarning: This function is deprecated, use smart_open.open instead. See the migration notes for details: https://github.com/RaRe-Technologies/smart_open/blob/master/README.rst#migrating-to-the-new-open-function\n",
            "  'See the migration notes for details: %s' % _MIGRATION_NOTES_URL\n",
            "/usr/local/lib/python3.6/dist-packages/smart_open/smart_open_lib.py:402: UserWarning: This function is deprecated, use smart_open.open instead. See the migration notes for details: https://github.com/RaRe-Technologies/smart_open/blob/master/README.rst#migrating-to-the-new-open-function\n",
            "  'See the migration notes for details: %s' % _MIGRATION_NOTES_URL\n",
            "/usr/local/lib/python3.6/dist-packages/pyLDAvis/_prepare.py:257: FutureWarning: Sorting because non-concatenation axis is not aligned. A future version\n",
            "of pandas will change to not sort by default.\n",
            "\n",
            "To accept the future behavior, pass 'sort=False'.\n",
            "\n",
            "To retain the current behavior and silence the warning, pass 'sort=True'.\n",
            "\n",
            "  return pd.concat([default_term_info] + list(topic_dfs))\n"
          ],
          "name": "stderr"
        },
        {
          "output_type": "execute_result",
          "data": {
            "text/html": [
              "\n",
              "<link rel=\"stylesheet\" type=\"text/css\" href=\"https://cdn.rawgit.com/bmabey/pyLDAvis/files/ldavis.v1.0.0.css\">\n",
              "\n",
              "\n",
              "<div id=\"ldavis_el141140621861803136424713587\"></div>\n",
              "<script type=\"text/javascript\">\n",
              "\n",
              "var ldavis_el141140621861803136424713587_data = {\"mdsDat\": {\"x\": [0.11494084504449371, 0.10478014321967477, 0.10624098625076919, 0.08992755249038106, 0.031063274317321872, 0.001227229591722189, -0.4481800309143627], \"y\": [0.0029285118003298505, 0.02822166818134928, 0.09103061380084328, 0.04712812751690093, -0.030782160727732454, -0.17430005124921089, 0.03577329067751993], \"topics\": [1, 2, 3, 4, 5, 6, 7], \"cluster\": [1, 1, 1, 1, 1, 1, 1], \"Freq\": [28.11542510986328, 20.06635284423828, 19.372562408447266, 16.227724075317383, 9.258243560791016, 6.37265682220459, 0.5870301723480225]}, \"tinfo\": {\"Category\": [\"Default\", \"Default\", \"Default\", \"Default\", \"Default\", \"Default\", \"Default\", \"Default\", \"Default\", \"Default\", \"Default\", \"Default\", \"Default\", \"Default\", \"Default\", \"Default\", \"Default\", \"Default\", \"Default\", \"Default\", \"Default\", \"Default\", \"Default\", \"Default\", \"Default\", \"Default\", \"Default\", \"Default\", \"Default\", \"Default\", \"Topic1\", \"Topic1\", \"Topic1\", \"Topic1\", \"Topic1\", \"Topic1\", \"Topic1\", \"Topic1\", \"Topic1\", \"Topic1\", \"Topic1\", \"Topic1\", \"Topic1\", \"Topic1\", \"Topic1\", \"Topic1\", \"Topic1\", \"Topic1\", \"Topic1\", \"Topic1\", \"Topic1\", \"Topic1\", \"Topic1\", \"Topic1\", \"Topic1\", \"Topic1\", \"Topic1\", \"Topic1\", \"Topic1\", \"Topic1\", \"Topic1\", \"Topic1\", \"Topic1\", \"Topic1\", \"Topic1\", \"Topic1\", \"Topic1\", \"Topic1\", \"Topic1\", \"Topic1\", \"Topic1\", \"Topic1\", \"Topic1\", \"Topic1\", \"Topic1\", \"Topic1\", \"Topic1\", \"Topic1\", \"Topic1\", \"Topic1\", \"Topic1\", \"Topic1\", \"Topic1\", \"Topic1\", \"Topic1\", \"Topic1\", \"Topic1\", \"Topic1\", \"Topic1\", \"Topic1\", \"Topic1\", \"Topic1\", \"Topic1\", \"Topic1\", \"Topic1\", \"Topic1\", \"Topic1\", \"Topic1\", \"Topic1\", \"Topic1\", \"Topic1\", \"Topic1\", \"Topic1\", \"Topic1\", \"Topic1\", \"Topic1\", \"Topic1\", \"Topic1\", \"Topic1\", \"Topic1\", \"Topic1\", \"Topic1\", \"Topic1\", \"Topic1\", \"Topic1\", \"Topic1\", \"Topic1\", \"Topic1\", \"Topic1\", \"Topic1\", \"Topic1\", \"Topic1\", \"Topic1\", \"Topic1\", \"Topic1\", \"Topic1\", \"Topic1\", \"Topic1\", \"Topic1\", \"Topic1\", \"Topic1\", \"Topic1\", \"Topic1\", \"Topic2\", \"Topic2\", \"Topic2\", \"Topic2\", \"Topic2\", \"Topic2\", \"Topic2\", \"Topic2\", \"Topic2\", \"Topic2\", \"Topic2\", \"Topic2\", \"Topic2\", \"Topic2\", \"Topic2\", \"Topic2\", \"Topic2\", \"Topic2\", \"Topic2\", \"Topic2\", \"Topic2\", \"Topic2\", \"Topic2\", \"Topic2\", \"Topic2\", \"Topic2\", \"Topic2\", \"Topic2\", \"Topic2\", \"Topic2\", \"Topic2\", \"Topic2\", \"Topic2\", \"Topic2\", \"Topic2\", \"Topic2\", \"Topic2\", \"Topic2\", \"Topic2\", \"Topic2\", \"Topic2\", \"Topic2\", \"Topic2\", \"Topic2\", \"Topic2\", \"Topic2\", \"Topic2\", \"Topic2\", \"Topic2\", \"Topic2\", \"Topic2\", \"Topic2\", \"Topic2\", \"Topic2\", \"Topic2\", \"Topic2\", \"Topic2\", \"Topic2\", \"Topic2\", \"Topic2\", \"Topic2\", \"Topic2\", \"Topic2\", \"Topic2\", \"Topic2\", \"Topic2\", \"Topic2\", \"Topic2\", \"Topic2\", \"Topic2\", \"Topic2\", \"Topic2\", \"Topic2\", \"Topic2\", \"Topic2\", \"Topic2\", \"Topic2\", \"Topic2\", \"Topic2\", \"Topic2\", \"Topic2\", \"Topic2\", \"Topic2\", \"Topic2\", \"Topic2\", \"Topic2\", \"Topic2\", \"Topic2\", \"Topic2\", \"Topic2\", \"Topic2\", \"Topic3\", \"Topic3\", \"Topic3\", \"Topic3\", \"Topic3\", \"Topic3\", \"Topic3\", \"Topic3\", \"Topic3\", \"Topic3\", \"Topic3\", \"Topic3\", \"Topic3\", \"Topic3\", \"Topic3\", \"Topic3\", \"Topic3\", \"Topic3\", \"Topic3\", \"Topic3\", \"Topic3\", \"Topic3\", \"Topic3\", \"Topic3\", \"Topic3\", \"Topic3\", \"Topic3\", \"Topic3\", \"Topic3\", \"Topic3\", \"Topic3\", \"Topic3\", \"Topic3\", \"Topic3\", \"Topic3\", \"Topic3\", \"Topic3\", \"Topic3\", \"Topic3\", \"Topic3\", \"Topic3\", \"Topic3\", \"Topic3\", \"Topic3\", \"Topic3\", \"Topic3\", \"Topic3\", \"Topic3\", \"Topic3\", \"Topic3\", \"Topic3\", \"Topic3\", \"Topic3\", \"Topic3\", \"Topic3\", \"Topic3\", \"Topic3\", \"Topic3\", \"Topic3\", \"Topic3\", \"Topic3\", \"Topic3\", \"Topic3\", \"Topic3\", \"Topic3\", \"Topic3\", \"Topic3\", \"Topic3\", \"Topic3\", \"Topic3\", \"Topic3\", \"Topic3\", \"Topic3\", \"Topic3\", \"Topic3\", \"Topic3\", \"Topic3\", \"Topic3\", \"Topic3\", \"Topic4\", \"Topic4\", \"Topic4\", \"Topic4\", \"Topic4\", \"Topic4\", \"Topic4\", \"Topic4\", \"Topic4\", \"Topic4\", \"Topic4\", \"Topic4\", \"Topic4\", \"Topic4\", \"Topic4\", \"Topic4\", \"Topic4\", \"Topic4\", \"Topic4\", \"Topic4\", \"Topic4\", \"Topic4\", \"Topic4\", \"Topic4\", \"Topic4\", \"Topic4\", \"Topic4\", \"Topic4\", \"Topic4\", \"Topic4\", \"Topic4\", \"Topic4\", \"Topic4\", \"Topic4\", \"Topic4\", \"Topic4\", \"Topic4\", \"Topic4\", \"Topic4\", \"Topic4\", \"Topic4\", \"Topic4\", \"Topic4\", \"Topic4\", \"Topic4\", \"Topic4\", \"Topic4\", \"Topic4\", \"Topic4\", \"Topic4\", \"Topic4\", \"Topic4\", \"Topic4\", \"Topic4\", \"Topic4\", \"Topic4\", \"Topic4\", \"Topic4\", \"Topic4\", \"Topic4\", \"Topic4\", \"Topic4\", \"Topic4\", \"Topic4\", \"Topic4\", \"Topic4\", \"Topic4\", \"Topic4\", \"Topic4\", \"Topic4\", \"Topic4\", \"Topic4\", \"Topic4\", \"Topic4\", \"Topic4\", \"Topic4\", \"Topic4\", \"Topic4\", \"Topic4\", \"Topic4\", \"Topic4\", \"Topic4\", \"Topic4\", \"Topic4\", \"Topic4\", \"Topic4\", \"Topic4\", \"Topic4\", \"Topic4\", \"Topic4\", \"Topic4\", \"Topic4\", \"Topic5\", \"Topic5\", \"Topic5\", \"Topic5\", \"Topic5\", \"Topic5\", \"Topic5\", \"Topic5\", \"Topic5\", \"Topic5\", \"Topic5\", \"Topic5\", \"Topic5\", \"Topic5\", \"Topic5\", \"Topic5\", \"Topic5\", \"Topic5\", \"Topic5\", \"Topic5\", \"Topic5\", \"Topic5\", \"Topic5\", \"Topic5\", \"Topic5\", \"Topic5\", \"Topic5\", \"Topic5\", \"Topic5\", \"Topic5\", \"Topic5\", \"Topic5\", \"Topic5\", \"Topic5\", \"Topic5\", \"Topic5\", \"Topic5\", \"Topic5\", \"Topic5\", \"Topic5\", \"Topic5\", \"Topic5\", \"Topic5\", \"Topic5\", \"Topic5\", \"Topic5\", \"Topic5\", \"Topic5\", \"Topic5\", \"Topic5\", \"Topic5\", \"Topic5\", \"Topic5\", \"Topic5\", \"Topic5\", \"Topic5\", \"Topic5\", \"Topic5\", \"Topic5\", \"Topic5\", \"Topic5\", \"Topic5\", \"Topic5\", \"Topic5\", \"Topic5\", \"Topic5\", \"Topic5\", \"Topic5\", \"Topic5\", \"Topic5\", \"Topic5\", \"Topic5\", \"Topic5\", \"Topic5\", \"Topic5\", \"Topic5\", \"Topic5\", \"Topic5\", \"Topic5\", \"Topic5\", \"Topic5\", \"Topic5\", \"Topic6\", \"Topic6\", \"Topic6\", \"Topic6\", \"Topic6\", \"Topic6\", \"Topic6\", \"Topic6\", \"Topic6\", \"Topic6\", \"Topic6\", \"Topic6\", \"Topic6\", \"Topic6\", \"Topic6\", \"Topic6\", \"Topic6\", \"Topic6\", \"Topic6\", \"Topic6\", \"Topic6\", \"Topic6\", \"Topic6\", \"Topic6\", \"Topic6\", \"Topic6\", \"Topic6\", \"Topic6\", \"Topic6\", \"Topic6\", \"Topic6\", \"Topic6\", \"Topic6\", \"Topic6\", \"Topic6\", \"Topic6\", \"Topic6\", \"Topic6\", \"Topic6\", \"Topic6\", \"Topic6\", \"Topic6\", \"Topic6\", \"Topic6\", \"Topic6\", \"Topic6\", \"Topic6\", \"Topic6\", \"Topic6\", \"Topic6\", \"Topic6\", \"Topic6\", \"Topic6\", \"Topic6\", \"Topic6\", \"Topic6\", \"Topic6\", \"Topic6\", \"Topic6\", \"Topic6\", \"Topic6\", \"Topic6\", \"Topic6\", \"Topic6\", \"Topic6\", \"Topic6\", \"Topic6\", \"Topic6\", \"Topic6\", \"Topic6\", \"Topic6\", \"Topic6\", \"Topic6\", \"Topic6\", \"Topic6\", \"Topic6\", \"Topic6\", \"Topic6\", \"Topic6\", \"Topic6\", \"Topic6\", \"Topic6\", \"Topic6\", \"Topic6\", \"Topic6\", \"Topic6\", \"Topic6\", \"Topic6\", \"Topic6\", \"Topic6\", \"Topic7\", \"Topic7\", \"Topic7\", \"Topic7\", \"Topic7\", \"Topic7\", \"Topic7\", \"Topic7\", \"Topic7\", \"Topic7\", \"Topic7\", \"Topic7\", \"Topic7\", \"Topic7\", \"Topic7\", \"Topic7\", \"Topic7\", \"Topic7\", \"Topic7\", \"Topic7\", \"Topic7\", \"Topic7\", \"Topic7\", \"Topic7\", \"Topic7\", \"Topic7\", \"Topic7\", \"Topic7\", \"Topic7\", \"Topic7\", \"Topic7\", \"Topic7\", \"Topic7\", \"Topic7\", \"Topic7\", \"Topic7\", \"Topic7\", \"Topic7\", \"Topic7\", \"Topic7\", \"Topic7\", \"Topic7\", \"Topic7\", \"Topic7\", \"Topic7\", \"Topic7\", \"Topic7\", \"Topic7\", \"Topic7\", \"Topic7\", \"Topic7\", \"Topic7\", \"Topic7\", \"Topic7\", \"Topic7\", \"Topic7\", \"Topic7\", \"Topic7\", \"Topic7\", \"Topic7\", \"Topic7\", \"Topic7\", \"Topic7\", \"Topic7\", \"Topic7\", \"Topic7\", \"Topic7\"], \"Freq\": [437650.0, 43428.0, 227600.0, 214172.0, 206459.0, 15437.0, 165196.0, 35996.0, 50028.0, 26727.0, 47856.0, 2734.0, 59994.0, 12289.0, 12967.0, 23461.0, 21881.0, 1914.0, 57667.0, 11455.0, 5667.0, 48399.0, 17236.0, 5796.0, 38049.0, 83988.0, 4292.0, 44476.0, 15908.0, 31873.0, 522.936279296875, 244.5196990966797, 1241.640380859375, 169.21484375, 167.92327880859375, 158.64796447753906, 151.1879119873047, 149.87278747558594, 147.06573486328125, 146.43482971191406, 146.00650024414062, 137.79428100585938, 131.0906524658203, 128.97898864746094, 110.52322387695312, 110.34918975830078, 104.65890502929688, 104.42137145996094, 104.0810775756836, 355.8734436035156, 103.5177230834961, 102.02095031738281, 101.334716796875, 100.54916381835938, 100.041748046875, 99.50910949707031, 97.22498321533203, 85.52259063720703, 86.29066467285156, 84.18045806884766, 41549.46875, 1070.3779296875, 273.22100830078125, 11660.759765625, 328.99041748046875, 6299.8076171875, 1269.7772216796875, 4374.6455078125, 659.283447265625, 583.5044555664062, 1838.2467041015625, 176.3979949951172, 23349.99609375, 1758.3497314453125, 404.34881591796875, 6570.18017578125, 6757.8515625, 725.334716796875, 2885.33984375, 2946.751220703125, 580.7835693359375, 427.2627868652344, 340.3398742675781, 3268.62158203125, 17551.68359375, 698.8851318359375, 7615.220703125, 3538.2548828125, 3666.494140625, 1144.5345458984375, 2368.008544921875, 1632.5704345703125, 1564.3623046875, 5032.37109375, 14979.298828125, 14897.91015625, 4281.697265625, 5327.9990234375, 12706.6669921875, 11929.833984375, 11035.2041015625, 4757.20703125, 4284.41455078125, 4374.71337890625, 8035.119140625, 8754.1240234375, 10768.6494140625, 16161.6640625, 80196.046875, 26662.234375, 44829.72265625, 69464.3203125, 21150.900390625, 64140.1796875, 6315.2939453125, 8263.8935546875, 7436.7578125, 28811.15234375, 57345.46484375, 87456.203125, 13722.177734375, 13998.001953125, 38338.6640625, 17353.87109375, 15132.0380859375, 17264.376953125, 14287.0673828125, 18114.42578125, 14056.3203125, 13361.2607421875, 14568.1162109375, 12885.603515625, 11730.9326171875, 1679.728271484375, 1479.0308837890625, 1085.6143798828125, 859.9185791015625, 749.1350708007812, 738.1267700195312, 484.2375183105469, 384.6172180175781, 350.3442687988281, 350.1308898925781, 340.23480224609375, 339.36468505859375, 321.2462463378906, 302.981689453125, 299.0396423339844, 295.60858154296875, 288.70892333984375, 281.48974609375, 274.123779296875, 271.6662902832031, 270.7442321777344, 268.5632629394531, 256.6418151855469, 255.46368408203125, 252.91883850097656, 231.16827392578125, 228.81826782226562, 1607.848876953125, 212.39027404785156, 203.68006896972656, 758.1024169921875, 5630.46337890625, 1866.2230224609375, 1019.7623901367188, 1022.3352661132812, 1013.9432983398438, 1882.823486328125, 1834.6734619140625, 812.9049682617188, 695.863037109375, 546.3515014648438, 5237.46484375, 2160.43310546875, 1178.6715087890625, 693.9994506835938, 666.3052978515625, 971.5820922851562, 862.8685913085938, 1060.6732177734375, 2750.51708984375, 1290.674560546875, 1103.1175537109375, 2023.75537109375, 1693.2010498046875, 1257.6549072265625, 1751.2037353515625, 1063.00244140625, 10198.3369140625, 1286.0469970703125, 89852.9609375, 54905.734375, 50810.01171875, 23232.3515625, 14894.8212890625, 9261.4873046875, 2411.945556640625, 34899.03125, 39262.92578125, 37826.265625, 25843.296875, 19648.60546875, 6221.4775390625, 11613.40625, 8447.7099609375, 12362.70703125, 7887.6416015625, 5680.1474609375, 9855.580078125, 5909.189453125, 9352.98046875, 10906.244140625, 11167.0625, 6511.64306640625, 8305.5751953125, 7473.7392578125, 7231.89697265625, 7709.29345703125, 8667.759765625, 8044.27001953125, 6990.21484375, 7180.5244140625, 15436.91796875, 5666.8759765625, 4331.60498046875, 3518.986572265625, 2200.880859375, 2075.919189453125, 2041.764404296875, 1874.8763427734375, 1706.7955322265625, 1705.630615234375, 1311.9423828125, 1287.8968505859375, 1211.0155029296875, 1154.9149169921875, 949.9016723632812, 919.1863403320312, 791.1781616210938, 759.8402709960938, 667.0194091796875, 576.7139282226562, 577.3094482421875, 566.1690673828125, 562.3751831054688, 506.6940612792969, 478.2217102050781, 451.18994140625, 425.0545959472656, 407.7099304199219, 391.4731750488281, 371.56243896484375, 3057.759033203125, 2684.68603515625, 1549.515869140625, 1959.6849365234375, 938.28857421875, 2094.088623046875, 3585.72265625, 2339.81103515625, 840.4891967773438, 3944.652099609375, 1077.05712890625, 1304.631103515625, 3318.79541015625, 1224.33251953125, 2647.84326171875, 1172.4119873046875, 3096.97802734375, 3345.828857421875, 2799.24755859375, 8607.1591796875, 95160.09375, 13831.2470703125, 48750.5703125, 14748.1142578125, 40808.06640625, 32275.986328125, 37447.3125, 25740.841796875, 34504.09765625, 15817.8203125, 10708.115234375, 16796.140625, 11125.3798828125, 11971.529296875, 13831.8779296875, 8384.6845703125, 10901.61328125, 8612.2607421875, 7678.0751953125, 8626.9033203125, 8178.47021484375, 8200.4248046875, 5659.62744140625, 6524.888671875, 6841.94873046875, 6516.4091796875, 6913.8984375, 6962.6572265625, 6189.71337890625, 1034.3475341796875, 597.3238525390625, 508.781494140625, 494.7018737792969, 481.7991638183594, 409.13922119140625, 389.08721923828125, 387.6741943359375, 371.6502990722656, 353.1832275390625, 340.7926330566406, 299.54217529296875, 297.9470520019531, 284.03668212890625, 276.6756591796875, 268.78155517578125, 266.58477783203125, 258.7444763183594, 256.0753479003906, 254.51783752441406, 247.2266387939453, 232.2627410888672, 230.6100311279297, 228.74691772460938, 218.4501190185547, 212.9491729736328, 746.9343872070312, 192.5187225341797, 177.09149169921875, 177.1886749267578, 542.5433349609375, 334.91632080078125, 432.59942626953125, 743.4367065429688, 3445.68017578125, 490.51300048828125, 929.4837646484375, 1073.599853515625, 465.0291442871094, 682.9187622070312, 626.994873046875, 1577.2615966796875, 1677.4925537109375, 483.3077392578125, 986.3956298828125, 433.4111633300781, 1075.096435546875, 749.6176147460938, 503.16949462890625, 8480.5205078125, 837.1221313476562, 6970.4560546875, 740.0842895507812, 1064.048583984375, 607.2521362304688, 1731.0506591796875, 1057.643310546875, 96141.4921875, 738.1693725585938, 1054.9150390625, 1302.2242431640625, 34605.1171875, 13606.1240234375, 39128.0, 2423.298095703125, 38187.3515625, 33017.69921875, 30919.583984375, 6581.38818359375, 6003.9287109375, 11753.1484375, 5209.08544921875, 11148.7724609375, 8208.478515625, 7449.5751953125, 7076.6806640625, 15079.1044921875, 11059.5380859375, 8235.59765625, 11183.0390625, 7474.45849609375, 7183.33251953125, 7266.39697265625, 3606.46240234375, 7768.76953125, 6805.90771484375, 4934.75732421875, 5594.48974609375, 4428.35400390625, 5527.9326171875, 4899.4873046875, 4920.03564453125, 938.1813354492188, 506.5839538574219, 417.9776611328125, 347.08355712890625, 329.59844970703125, 304.6858215332031, 283.3975830078125, 267.64361572265625, 241.04908752441406, 224.63357543945312, 219.2138671875, 208.4048309326172, 881.0527954101562, 191.59622192382812, 180.96656799316406, 164.15518188476562, 163.91827392578125, 146.76937866210938, 140.54638671875, 138.43569946289062, 136.9818878173828, 130.1580047607422, 127.1957778930664, 124.02899169921875, 119.43043518066406, 118.7160415649414, 116.81886291503906, 116.13609313964844, 114.18896484375, 111.65937805175781, 2089.09130859375, 1141.0234375, 557.0987548828125, 742.6060180664062, 277.6100769042969, 317.77783203125, 1097.01318359375, 580.64453125, 237.5150909423828, 359.82720947265625, 354.63128662109375, 429.4551086425781, 673.1995239257812, 450.8255615234375, 203.68475341796875, 267.7660827636719, 500.7102966308594, 425.5596618652344, 845.5, 542.84228515625, 312.7110595703125, 7861.73291015625, 41185.28515625, 23430.46875, 8350.8095703125, 23467.84375, 22026.21875, 7675.73095703125, 14934.0771484375, 6567.6044921875, 6613.13427734375, 6632.37548828125, 6227.474609375, 4168.98974609375, 12672.05078125, 6406.90380859375, 2243.538330078125, 3657.9697265625, 2999.750244140625, 3893.254150390625, 4000.24365234375, 3727.535400390625, 4846.3984375, 5287.298828125, 1875.9718017578125, 2395.09033203125, 2601.71240234375, 2087.76220703125, 2029.456787109375, 2514.46484375, 2194.701171875, 2084.8212890625, 377.393798828125, 245.5526885986328, 238.32662963867188, 198.78274536132812, 169.36578369140625, 162.05271911621094, 149.87339782714844, 147.957275390625, 146.86691284179688, 140.56414794921875, 129.88516235351562, 126.964111328125, 120.72187042236328, 120.84623718261719, 115.67787170410156, 114.5744857788086, 111.9390869140625, 110.69322204589844, 108.45207977294922, 106.75296020507812, 102.27796173095703, 98.55595397949219, 92.0255126953125, 91.79106903076172, 91.4861068725586, 88.9040298461914, 88.23245239257812, 86.78233337402344, 85.62232971191406, 85.43661499023438, 466.3937072753906, 682.2920532226562, 236.75022888183594, 330.8427429199219, 258.9533386230469, 207.5425262451172, 526.5690307617188, 191.84434509277344, 200.32310485839844, 263.6824645996094, 525.0222778320312, 367.84613037109375, 225.1079559326172, 2255.284423828125, 276.99542236328125, 265.30120849609375, 696.8655395507812, 336.46966552734375, 181.09359741210938, 519.7380981445312, 323.2563781738281, 315.7203369140625, 206.29946899414062, 337.8227844238281, 290.41619873046875, 334.7389831542969, 294.7568359375, 380.99041748046875, 313.6695251464844, 27854.826171875, 16041.4091796875, 15052.39453125, 13540.708984375, 10143.5478515625, 5667.15087890625, 4113.60498046875, 9048.20703125, 4213.77001953125, 3289.049560546875, 3731.317138671875, 742.750244140625, 3024.66845703125, 2853.41259765625, 3526.15185546875, 2035.2783203125, 1576.5548095703125, 2475.237548828125, 2745.02734375, 1577.119384765625, 1875.1806640625, 1741.7757568359375, 1652.7327880859375, 1761.9188232421875, 2624.95166015625, 1363.3553466796875, 1788.13623046875, 1161.0462646484375, 1449.40673828125, 1199.179443359375, 1197.771484375, 91.70362091064453, 62.070068359375, 57.66065979003906, 51.809356689453125, 49.6666145324707, 46.751564025878906, 46.02142333984375, 45.33058166503906, 41.86280059814453, 40.843807220458984, 34.481807708740234, 34.177982330322266, 33.147315979003906, 32.92650604248047, 29.849319458007812, 25.4996395111084, 24.845733642578125, 24.439640045166016, 21.68790054321289, 21.160449981689453, 20.856903076171875, 20.81438636779785, 19.793466567993164, 18.56125831604004, 17.628772735595703, 14.950931549072266, 14.82418441772461, 14.719520568847656, 14.478462219238281, 14.409161567687988, 96.63568115234375, 133.31234741210938, 100.49456787109375, 1333.82763671875, 219.07806396484375, 170.16378784179688, 102.4695816040039, 595.6199340820312, 62.08940505981445, 34.030540466308594, 46.49111557006836, 48.35688781738281, 125.41644287109375, 81.19990539550781, 292.5724182128906, 1014.985595703125, 432.3034362792969, 61.68742370605469, 116.0875015258789, 351.3985595703125, 60.757198333740234, 65.20557403564453, 100.62901306152344, 231.8719024658203, 85.1579360961914, 92.95091247558594, 80.2875747680664, 114.4332504272461, 85.5802001953125, 96.93869018554688, 116.90734100341797, 96.39728546142578, 82.56594848632812, 73.84711456298828, 112.18102264404297, 68.65689086914062, 77.9207992553711], \"Term\": [\"the\", \"I\", \"of\", \"a\", \"and\", \"Trump\", \"in\", \"his\", \"The\", \"you\", \"\\u2014\", \"school\", \"was\", \"my\", \"U.\", \"says\", \"her\", \"students\", \"with\", \"S.\", \"Clinton\", \"as\", \"said\", \"health\", \"from\", \"is\", \"public\", \"are\", \"says.\", \"by\", \"mom\", \"edited\", \"like,\", \"brain.\", \"physics\", \"Yeah,\", \"something.\", \"yeah,\", \"know?\", \"you?\", \"thinking,\", \"planets\", \"Air\\u2019s\", \"Dear\", \"mom,\", \"do?\", \"OK.\", \"actually,\", \"yourself,\", \"dad\", \"\\u2019Oh\", \"parenting\", \"planet.\", \"laughing.\", \"brain,\", \"\\u201dYeah,\", \"myself.\", \"Like,\", \"chess\", \"particles\", \"I\", \"me.\", \"thought,\", \"my\", \"You\\u2019re\", \"me\", \"me,\", \"I\\u2019m\", \"myself\", \"Well,\", \"know,\", \"\\u201dOh,\", \"you\", \"I\\u2019ve\", \"kid\", \"really\", \"your\", \"I\\u2019d\", \"feel\", \"you\\u2019re\", \"you.\", \"think,\", \"yourself\", \"You\", \"she\", \"you\\u2019ve\", \"think\", \"kind\", \"things\", \"mother\", \"thing\", \"she\\u2019s\", \"felt\", \"..\", \"her\", \"we\", \"something\", \"know\", \"And\", \"what\", \"just\", \"She\", \"So\", \"lot\", \"do\", \"so\", \"like\", \"about\", \"to\", \"was\", \"that\", \"a\", \"it\", \"and\", \"don\\u2019t\", \"it\\u2019s\", \"how\", \"is\", \"of\", \"the\", \"they\", \"this\", \"in\", \"he\", \"have\", \"with\", \"be\", \"for\", \"\\u2014\", \"are\", \"on\", \"at\", \"not\", \"patients\", \"insurance\", \"Zika\", \"virus\", \"costs\", \"Medicaid\", \"Kaiser\", \"Medicare\", \"vaccine\", \"diseases\", \"opioid\", \"Control\", \"FDA\", \"Uber\", \"Centers\", \"Disease\", \"insurers\", \"clinics\", \"employers\", \"Drug\", \"HIV\", \"clinic\", \"providers\", \"chronic\", \"CDC\", \"Medicine\", \"medications\", \"Health\", \"infection\", \"VA\", \"rates\", \"health\", \"companies\", \"rate\", \"doctors\", \"disease\", \"data\", \"medical\", \"programs\", \"reduce\", \"growth\", \"percent\", \"study\", \"cost\", \"income\", \"benefits\", \"increase\", \"drugs\", \"billion\", \"care\", \"researchers\", \"Dr.\", \"company\", \"research\", \"risk\", \"pay\", \"higher\", \"says\", \"drug\", \"the\", \"to\", \"of\", \"for\", \"are\", \"more\", \"million\", \"in\", \"a\", \"and\", \"that\", \"is\", \"than\", \"have\", \"or\", \"The\", \"their\", \"says.\", \"be\", \"can\", \"at\", \"with\", \"on\", \"people\", \"from\", \"by\", \"they\", \"has\", \"as\", \"it\", \"an\", \"\\u2014\", \"Trump\", \"Clinton\", \"Trump\\u2019s\", \"Republican\", \"Hillary\", \"voters\", \"election\", \"Senate\", \"Democrats\", \"Sanders\", \"Sen.\", \"Clinton\\u2019s\", \"Supreme\", \"Trump,\", \"nominee\", \"Trump.\", \"Comey\", \"votes\", \"election.\", \"Clinton,\", \"election,\", \"Pence\", \"delegates\", \"voter\", \"Rubio\", \"Clinton.\", \"Sessions\", \"senator\", \"Election\", \"voters.\", \"Donald\", \"presidential\", \"GOP\", \"Republicans\", \"voting\", \"vote\", \"House\", \"Democratic\", \"Bush\", \"campaign\", \"candidates\", \"candidate\", \"Obama\", \"FBI\", \"White\", \"Court\", \"president\", \"President\", \"political\", \"said\", \"the\", \"his\", \"to\", \"he\", \"of\", \"in\", \"a\", \"that\", \"and\", \"on\", \"has\", \"for\", \"as\", \"was\", \"is\", \"not\", \"with\", \"be\", \"by\", \"\\u2014\", \"have\", \"The\", \"would\", \"who\", \"from\", \"this\", \"at\", \"it\", \"an\", \"Syrian\", \"Syria\", \"Korea\", \"Saudi\", \"China\\u2019s\", \"Israeli\", \"Turkey\", \"Iraqi\", \"civilians\", \"Afghan\", \"Syria,\", \"Palestinian\", \"EU\", \"fighters\", \"Syria.\", \"migrants\", \"Pentagon\", \"Corps\", \"Arab\", \"missile\", \"Aleppo\", \"Taliban\", \"Iranian\", \"asylum\", \"Assad\", \"Ministry\", \"Police\", \"Arabia\", \"detained\", \"Duterte\", \"refugee\", \"Turkish\", \"Minister\", \"refugees\", \"police\", \"troops\", \"ISIS\", \"officers\", \"Korean\", \"authorities\", \"Islamic\", \"killed\", \"military\", \"Iran\", \"reports.\", \"soldiers\", \"China\", \"nuclear\", \"arrested\", \"U.\", \"forces\", \"S.\", \"European\", \"international\", \"victims\", \"city\", \"war\", \"the\", \"Associated\", \"attack\", \"reports\", \"in\", \"The\", \"of\", \"government\", \"to\", \"and\", \"a\", \"were\", \"been\", \"was\", \"said\", \"on\", \"from\", \"has\", \"by\", \"that\", \"for\", \"as\", \"is\", \"have\", \"at\", \"are\", \"its\", \"with\", \"he\", \"says\", \"an\", \"had\", \"\\u2014\", \"be\", \"it\", \"album\", \"musical\", \"Prince\", \"album,\", \"singer\", \"musicians\", \"jazz\", \"Music\", \"guitar\", \"show\\u2019s\", \"albums\", \"song,\", \"songs\", \"debut\", \"lyrics\", \"Bowie\", \"band\\u2019s\", \"composer\", \"Spotify\", \"sang\", \"songs,\", \"Wonder\", \"Simpson\", \"Prince\\u2019s\", \"piano\", \"queer\", \"songs.\", \"poet\", \"Jazz\", \"Emmy\", \"music\", \"song\", \"artists\", \"band\", \"Best\", \"studio\", \"film\", \"fans\", \"films\", \"music.\", \"music,\", \"artist\", \"movie\", \"characters\", \"solo\", \"actor\", \"rock\", \"pop\", \"played\", \"art\", \"singing\", \"his\", \"the\", \"and\", \"\\u2014\", \"of\", \"a\", \"The\", \"in\", \"as\", \"with\", \"was\", \"on\", \"by\", \"to\", \"for\", \"its\", \"an\", \"her\", \"from\", \"he\", \"at\", \"is\", \"that\", \"first\", \"but\", \"who\", \"In\", \"which\", \"it\", \"this\", \"has\", \"meat\", \"corn\", \"cup\", \"chef\", \"dairy\", \"culinary\", \"recipes\", \"chocolate\", \"bird\", \"cream\", \"bees\", \"varieties\", \"eaten\", \"cats\", \"cooked\", \"chefs\", \"apple\", \"butter\", \"worms\", \"pigs\", \"wheat\", \"rats\", \"pork\", \"fried\", \"Animals\", \"flavors\", \"species,\", \"vegetable\", \"tomato\", \"Genre:\", \"species\", \"animals\", \"rice\", \"foods\", \"chicken\", \"organic\", \"animal\", \"dish\", \"birds\", \"cooking\", \"farmers\", \"fish\", \"fruit\", \"food\", \"milk\", \"tea\", \"eat\", \"taste\", \"crops\", \"eating\", \"ice\", \"food.\", \"wine\", \"farm\", \"dogs\", \"sugar\", \"sweet\", \"restaurant\", \"wild\", \"the\", \"of\", \"a\", \"and\", \"in\", \"is\", \"\\u2014\", \"to\", \"with\", \"from\", \"The\", \"water\", \"as\", \"are\", \"for\", \"says\", \"into\", \"it\", \"on\", \"like\", \"an\", \"or\", \"their\", \"by\", \"that\", \"says.\", \"at\", \"its\", \"has\", \"which\", \"can\", \"Niki\", \"Producers:\", \"Videographers:\", \"Rogosin\", \"Engineer:\", \"Photo:\", \"(iTunes)\", \"Assistant:\", \"Stumpf\", \"FCC\", \"borrowers\", \"Rocketship\", \"Credits,\", \"(Amazon)\", \"student\\u2019s\", \"Lewisburg\", \"ITT\", \"IX\", \"Relay\", \"Hastert\", \"U5\", \"Constand\", \"DeVos\\u2019\", \"ISPs\", \"vocals)\", \"Succeeds\", \"ELLs\", \"FAFSA\", \"Roginsky\", \"ERAD\", \"DeVos\", \"Wells\", \"Fargo\", \"students\", \"Education\", \"students.\", \"colleges\", \"schools\", \"students\\u2019\", \"Murdoch\", \"bilingual\", \"voucher\", \"schools.\", \"Ailes\", \"teachers\", \"school\", \"student\", \"Title\", \"students,\", \"education\", \"Cosby\", \"graduation\", \"schools,\", \"college\", \"Desk\", \"Tiny\", \"campus\", \"teacher\", \"districts\", \"district\", \"sexual\", \"school.\", \"university\", \"math\", \"public\", \"loan\", \"private\"], \"Total\": [437650.0, 43428.0, 227600.0, 214172.0, 206459.0, 15437.0, 165196.0, 35996.0, 50028.0, 26727.0, 47856.0, 2734.0, 59994.0, 12289.0, 12967.0, 23461.0, 21881.0, 1914.0, 57667.0, 11455.0, 5667.0, 48399.0, 17236.0, 5796.0, 38049.0, 83988.0, 4292.0, 44476.0, 15908.0, 31873.0, 523.7135620117188, 245.2978057861328, 1247.0126953125, 169.99191284179688, 168.7004852294922, 159.42445373535156, 151.96568298339844, 150.64999389648438, 147.842529296875, 147.21145629882812, 146.7835693359375, 138.57041931152344, 131.86692810058594, 129.7549285888672, 111.30036926269531, 111.12727355957031, 105.43693542480469, 105.19991302490234, 104.8599853515625, 358.5378112792969, 104.2953872680664, 102.79744720458984, 102.11339569091797, 101.3269271850586, 100.8191909790039, 100.28645324707031, 98.00198364257812, 86.29893493652344, 87.07758331298828, 84.95840454101562, 43428.9296875, 1080.6920166015625, 276.20635986328125, 12289.6181640625, 334.6627502441406, 6609.31201171875, 1321.8883056640625, 4683.9609375, 681.9013061523438, 603.8173217773438, 1947.8021240234375, 179.04554748535156, 26727.79296875, 1899.3515625, 422.457275390625, 7581.04443359375, 7825.53076171875, 772.9901123046875, 3295.855224609375, 3424.416015625, 621.939453125, 450.3761901855469, 356.5723571777344, 3870.37939453125, 23293.15625, 766.01171875, 9732.611328125, 4334.49609375, 4512.08349609375, 1299.06884765625, 2841.957275390625, 1914.468505859375, 1831.309814453125, 6595.78076171875, 21881.779296875, 22222.326171875, 5572.73095703125, 7115.330078125, 18962.59375, 17936.314453125, 17121.2109375, 6511.71533203125, 5791.63037109375, 5945.556640625, 12371.13671875, 13928.5546875, 18169.978515625, 30531.9453125, 243760.015625, 59994.58984375, 119405.296875, 214172.828125, 46067.65234375, 206459.5, 9484.97265625, 14059.7099609375, 12187.13671875, 83988.3046875, 227600.875, 437650.9375, 30250.47265625, 32137.91796875, 165196.5, 46168.72265625, 43796.0078125, 57667.9921875, 39924.19140625, 79135.59375, 47856.1796875, 44476.1484375, 61674.36328125, 41851.57421875, 31947.76953125, 1680.501953125, 1479.8048095703125, 1086.3880615234375, 860.6929931640625, 749.9102172851562, 738.899658203125, 485.0103759765625, 385.3903503417969, 351.1173400878906, 350.9135437011719, 341.00830078125, 340.1390686035156, 322.01934814453125, 303.7568054199219, 299.8129577636719, 296.38232421875, 289.4817199707031, 282.263916015625, 274.8978271484375, 272.4402160644531, 271.5184631347656, 269.3375549316406, 257.4151611328125, 256.2381591796875, 253.6920928955078, 231.942626953125, 229.59140014648438, 1613.2978515625, 213.16416931152344, 204.4551239013672, 761.4322509765625, 5796.552734375, 1923.1075439453125, 1051.84619140625, 1061.5689697265625, 1058.006591796875, 2058.2177734375, 2019.8765869140625, 864.5858154296875, 739.2090454101562, 573.0189819335938, 6539.55322265625, 2523.893798828125, 1323.6090087890625, 744.8945922851562, 714.5152587890625, 1084.345458984375, 952.5407104492188, 1204.9376220703125, 3505.3515625, 1529.15625, 1281.4912109375, 2594.849609375, 2117.753662109375, 1521.568603515625, 2292.393310546875, 1247.0980224609375, 23461.125, 1594.7584228515625, 437650.9375, 243760.015625, 227600.875, 79135.59375, 44476.1484375, 24512.181640625, 3802.66064453125, 165196.5, 214172.828125, 206459.5, 119405.296875, 83988.3046875, 16183.7626953125, 43796.0078125, 27340.23046875, 50028.03515625, 26326.9453125, 15908.642578125, 39924.19140625, 18095.185546875, 41851.57421875, 57667.9921875, 61674.36328125, 22206.306640625, 38049.35546875, 31873.259765625, 30250.47265625, 34628.0234375, 48399.953125, 46067.65234375, 32401.484375, 47856.1796875, 15437.6904296875, 5667.6484375, 4332.37744140625, 3519.781982421875, 2201.654296875, 2076.692138671875, 2042.537841796875, 1875.6488037109375, 1707.5675048828125, 1706.4034423828125, 1312.7152099609375, 1288.6697998046875, 1211.789306640625, 1155.6873779296875, 950.6737060546875, 919.9591064453125, 791.9497680664062, 760.61279296875, 667.79248046875, 577.4866943359375, 578.0834350585938, 566.9411010742188, 563.1473999023438, 507.4663391113281, 478.99365234375, 451.9622497558594, 425.82794189453125, 408.4831237792969, 392.24627685546875, 372.33489990234375, 3068.1357421875, 2696.3798828125, 1554.20703125, 1972.7843017578125, 943.2576293945312, 2129.855712890625, 3705.21337890625, 2405.346435546875, 848.3489990234375, 4146.60546875, 1104.8880615234375, 1351.30859375, 3655.67578125, 1270.6368408203125, 2958.502197265625, 1221.3619384765625, 3850.14306640625, 4462.935546875, 3737.38134765625, 17236.427734375, 437650.9375, 35996.97265625, 243760.015625, 46168.72265625, 227600.875, 165196.5, 214172.828125, 119405.296875, 206459.5, 61674.36328125, 34628.0234375, 79135.59375, 48399.953125, 59994.58984375, 83988.3046875, 31947.76953125, 57667.9921875, 39924.19140625, 31873.259765625, 47856.1796875, 43796.0078125, 50028.03515625, 18914.5859375, 29883.552734375, 38049.35546875, 32137.91796875, 41851.57421875, 46067.65234375, 32401.484375, 1035.1226806640625, 598.0991821289062, 509.55712890625, 495.47674560546875, 482.5745849609375, 409.9149475097656, 389.86224365234375, 388.4485778808594, 372.4253845214844, 353.9574279785156, 341.5681457519531, 300.3168640136719, 298.72149658203125, 284.81109619140625, 277.4510803222656, 269.5590515136719, 267.3599548339844, 259.5208435058594, 256.8507385253906, 255.29225158691406, 248.0011749267578, 233.037109375, 231.385498046875, 229.5227508544922, 219.2243194580078, 213.72401428222656, 749.8017578125, 193.29397583007812, 177.865966796875, 177.96658325195312, 546.211669921875, 337.1662292480469, 436.66314697265625, 754.9806518554688, 3620.386962890625, 496.5578308105469, 955.5652465820312, 1114.9296875, 473.9201354980469, 707.1276245117188, 648.6118774414062, 1731.5645751953125, 1882.10400390625, 501.98089599609375, 1079.0494384765625, 448.10845947265625, 1192.897705078125, 821.2157592773438, 530.2831420898438, 12967.1904296875, 960.047119140625, 11455.490234375, 839.7279052734375, 1304.5902099609375, 664.664794921875, 2391.265380859375, 1342.8916015625, 437650.9375, 868.2068481445312, 1391.2275390625, 1862.7528076171875, 165196.5, 50028.03515625, 227600.875, 4635.787109375, 243760.015625, 206459.5, 214172.828125, 21958.904296875, 20791.65625, 59994.58984375, 17236.427734375, 61674.36328125, 38049.35546875, 34628.0234375, 31873.259765625, 119405.296875, 79135.59375, 48399.953125, 83988.3046875, 43796.0078125, 41851.57421875, 44476.1484375, 12177.5888671875, 57667.9921875, 46168.72265625, 23461.125, 32401.484375, 21519.486328125, 47856.1796875, 39924.19140625, 46067.65234375, 938.9581909179688, 507.3614501953125, 418.75634765625, 347.8605041503906, 330.3760070800781, 305.4630126953125, 284.1748046875, 268.42041015625, 241.82623291015625, 225.41127014160156, 219.9905548095703, 209.18238830566406, 884.5396728515625, 192.37486267089844, 181.74388122558594, 164.93167114257812, 164.6951141357422, 147.54598999023438, 141.32508850097656, 139.21456909179688, 137.7593994140625, 130.93927001953125, 127.9747543334961, 124.80591583251953, 120.207763671875, 119.49417114257812, 117.59611511230469, 116.9145278930664, 114.96558380126953, 112.43791198730469, 2125.59521484375, 1157.0596923828125, 562.859619140625, 757.1306762695312, 281.4872131347656, 325.2327575683594, 1176.7088623046875, 612.0194091796875, 245.42764282226562, 380.12835693359375, 376.67669677734375, 467.6069641113281, 799.1365966796875, 528.1295776367188, 212.3832550048828, 293.1460266113281, 619.1558837890625, 515.1381225585938, 1209.0810546875, 766.75341796875, 362.55908203125, 35996.97265625, 437650.9375, 206459.5, 47856.1796875, 227600.875, 214172.828125, 50028.03515625, 165196.5, 48399.953125, 57667.9921875, 59994.58984375, 61674.36328125, 31873.259765625, 243760.015625, 79135.59375, 12177.5888671875, 32401.484375, 21881.779296875, 38049.35546875, 46168.72265625, 41851.57421875, 83988.3046875, 119405.296875, 10123.908203125, 22998.375, 29883.552734375, 15545.94140625, 15589.947265625, 46067.65234375, 32137.91796875, 34628.0234375, 378.176025390625, 246.33384704589844, 239.10926818847656, 199.56460571289062, 170.1470184326172, 162.83447265625, 150.6555633544922, 148.7386016845703, 147.65020751953125, 141.3467559814453, 130.6660614013672, 127.74530792236328, 121.50337982177734, 121.6287841796875, 116.46063232421875, 115.35543060302734, 112.72061920166016, 111.47569274902344, 109.23408508300781, 107.53392791748047, 103.05945587158203, 99.33833312988281, 92.80756378173828, 92.57334899902344, 92.26811981201172, 89.6851806640625, 89.01370239257812, 87.56437683105469, 86.40328979492188, 86.2172622680664, 471.41094970703125, 695.4723510742188, 239.7819366455078, 337.7212219238281, 263.82171630859375, 211.04861450195312, 541.9981079101562, 195.1718292236328, 204.8856201171875, 272.2425842285156, 555.150634765625, 388.6066589355469, 233.9615936279297, 2700.559326171875, 292.9107971191406, 281.7371826171875, 801.275146484375, 368.6090087890625, 188.63368225097656, 614.4981689453125, 363.6462707519531, 355.9635009765625, 220.84457397460938, 403.5328063964844, 339.1953430175781, 412.5267639160156, 351.56646728515625, 499.0121765136719, 395.82672119140625, 437650.9375, 227600.875, 214172.828125, 206459.5, 165196.5, 83988.3046875, 47856.1796875, 243760.015625, 57667.9921875, 38049.35546875, 50028.03515625, 2214.76708984375, 48399.953125, 44476.1484375, 79135.59375, 23461.125, 13143.19921875, 46067.65234375, 61674.36328125, 18169.978515625, 32401.484375, 27340.23046875, 26326.9453125, 31873.259765625, 119405.296875, 15908.642578125, 41851.57421875, 12177.5888671875, 34628.0234375, 15589.947265625, 18095.185546875, 92.5322494506836, 62.89834213256836, 58.488895416259766, 52.637596130371094, 50.494850158691406, 47.57978057861328, 46.84962463378906, 46.1588020324707, 42.691219329833984, 41.67262649536133, 35.310428619384766, 35.00617218017578, 33.97653579711914, 33.75519561767578, 30.678386688232422, 26.328824996948242, 25.674053192138672, 25.26995277404785, 22.51629066467285, 21.988876342773438, 21.685466766357422, 21.642663955688477, 20.621662139892578, 19.39009666442871, 18.456911087036133, 15.779375076293945, 15.65237045288086, 15.547750473022461, 15.306680679321289, 15.237844467163086, 106.84092712402344, 150.9488983154297, 113.98473358154297, 1914.133056640625, 277.42413330078125, 216.5768585205078, 126.09060668945312, 921.2576904296875, 74.1901626586914, 38.030174255371094, 55.04655075073242, 58.36998748779297, 183.1822967529297, 109.73499298095703, 527.0690307617188, 2734.683349609375, 931.5797729492188, 80.37332916259766, 189.87692260742188, 962.41162109375, 80.62281799316406, 90.36876678466797, 198.34054565429688, 985.8898315429688, 161.645263671875, 191.335205078125, 167.96307373046875, 412.8351745605469, 211.12713623046875, 484.63214111328125, 976.9037475585938, 513.3269653320312, 273.31982421875, 224.75921630859375, 4292.54248046875, 155.83761596679688, 1436.6666259765625], \"loglift\": [30.0, 29.0, 28.0, 27.0, 26.0, 25.0, 24.0, 23.0, 22.0, 21.0, 20.0, 19.0, 18.0, 17.0, 16.0, 15.0, 14.0, 13.0, 12.0, 11.0, 10.0, 9.0, 8.0, 7.0, 6.0, 5.0, 4.0, 3.0, 2.0, 1.0, 1.2674000263214111, 1.2656999826431274, 1.2645000219345093, 1.264299988746643, 1.26419997215271, 1.2640000581741333, 1.263700008392334, 1.263700008392334, 1.2635999917984009, 1.2635999917984009, 1.2634999752044678, 1.263200044631958, 1.2628999948501587, 1.2628999948501587, 1.2618000507354736, 1.2618000507354736, 1.2613999843597412, 1.2613999843597412, 1.2613999843597412, 1.2613999843597412, 1.2613999843597412, 1.261299967765808, 1.261199951171875, 1.2611000537872314, 1.2611000537872314, 1.2611000537872314, 1.2609000205993652, 1.2597999572753906, 1.2597999572753906, 1.2596999406814575, 1.2245999574661255, 1.2592999935150146, 1.2580000162124634, 1.2163000106811523, 1.2517999410629272, 1.220900058746338, 1.228600025177002, 1.2005000114440918, 1.2351000308990479, 1.2345999479293823, 1.2109999656677246, 1.253999948501587, 1.1337000131607056, 1.1916999816894531, 1.225000023841858, 1.1256999969482422, 1.1222000122070312, 1.205199956893921, 1.1358000040054321, 1.1186000108718872, 1.2003999948501587, 1.2161999940872192, 1.2223000526428223, 1.0999000072479248, 0.98580002784729, 1.1770999431610107, 1.0234999656677246, 1.0658999681472778, 1.0613000392913818, 1.142199993133545, 1.086400032043457, 1.1095999479293823, 1.111299991607666, 0.9983000159263611, 0.8899000287055969, 0.8690000176429749, 1.0053000450134277, 0.9796000123023987, 0.8684999942779541, 0.8611000180244446, 0.8295999765396118, 0.9549000263214111, 0.9674000144004822, 0.9620000123977661, 0.8373000025749207, 0.8044000267982483, 0.7457000017166138, 0.6327000260353088, 0.15710000693798065, 0.4578000009059906, 0.2892000079154968, 0.1429000049829483, 0.4903999865055084, 0.0997999981045723, 0.8621000051498413, 0.7373999953269958, 0.7749000191688538, 0.1988999992609024, -0.1096000000834465, -0.34139999747276306, 0.47839999198913574, 0.4377000033855438, -0.19179999828338623, 0.2903999984264374, 0.2061000019311905, 0.06279999762773514, 0.24120000004768372, -0.20559999346733093, 0.043699998408555984, 0.06629999727010727, -0.17419999837875366, 0.09080000221729279, 0.2669999897480011, 1.6057000160217285, 1.6055999994277954, 1.6053999662399292, 1.6052000522613525, 1.6051000356674194, 1.6051000356674194, 1.6045000553131104, 1.604099988937378, 1.6038999557495117, 1.6038999557495117, 1.6038999557495117, 1.6038000583648682, 1.603700041770935, 1.603600025177002, 1.6035000085830688, 1.6035000085830688, 1.6035000085830688, 1.6033999919891357, 1.6032999753952026, 1.6032999753952026, 1.6032999753952026, 1.6031999588012695, 1.6030999422073364, 1.6030999422073364, 1.6030999422073364, 1.6028000116348267, 1.6028000116348267, 1.6026999950408936, 1.6024999618530273, 1.6023000478744507, 1.601699948310852, 1.5771000385284424, 1.5760999917984009, 1.5750999450683594, 1.56850004196167, 1.563599944114685, 1.5170999765396118, 1.5099999904632568, 1.5444999933242798, 1.545699954032898, 1.558500051498413, 1.3840999603271484, 1.450600028038025, 1.4902000427246094, 1.5354000329971313, 1.5362999439239502, 1.4962999820709229, 1.5073000192642212, 1.478600025177002, 1.3636000156402588, 1.4365999698638916, 1.4562000036239624, 1.3575999736785889, 1.3824000358581543, 1.4155999422073364, 1.3367999792099, 1.4464000463485718, 0.7730000019073486, 1.3910000324249268, 0.02290000021457672, 0.11559999734163284, 0.10660000145435333, 0.3804999887943268, 0.5121999979019165, 0.6327999830245972, 1.1509000062942505, 0.05139999836683273, -0.09040000289678574, -0.09099999815225601, 0.07569999992847443, 0.1535000056028366, 0.6500999927520752, 0.27869999408721924, 0.4316999912261963, 0.20819999277591705, 0.4007999897003174, 0.576200008392334, 0.20720000565052032, 0.4869999885559082, 0.10769999772310257, -0.05920000001788139, -0.10279999673366547, 0.37929999828338623, 0.08420000225305557, 0.155799999833107, 0.17509999871253967, 0.1039000004529953, -0.11379999667406082, -0.13899999856948853, 0.07240000367164612, -0.2906999886035919, 1.6412999629974365, 1.6411999464035034, 1.6411000490188599, 1.6411000490188599, 1.6410000324249268, 1.6409000158309937, 1.6409000158309937, 1.6409000158309937, 1.6409000158309937, 1.6409000158309937, 1.6406999826431274, 1.6406999826431274, 1.6406999826431274, 1.6405999660491943, 1.6404999494552612, 1.6404999494552612, 1.6403000354766846, 1.6403000354766846, 1.6402000188827515, 1.6399999856948853, 1.6399999856948853, 1.6398999691009521, 1.6398999691009521, 1.639799952507019, 1.6397000551223755, 1.6396000385284424, 1.6395000219345093, 1.6394000053405762, 1.639299988746643, 1.63919997215271, 1.6378999948501587, 1.6369999647140503, 1.6382999420166016, 1.634600043296814, 1.6360000371932983, 1.624400019645691, 1.6085000038146973, 1.613700032234192, 1.6319999694824219, 1.5914000272750854, 1.6158000230789185, 1.6061999797821045, 1.544600009918213, 1.604200005531311, 1.530400037765503, 1.6003999710083008, 1.4235999584197998, 1.3531999588012695, 1.3523000478744507, 0.9469000101089478, 0.11550000309944153, 0.6848000288009644, 0.03180000185966492, 0.5001000165939331, -0.07739999890327454, 0.008500000461935997, -0.10249999910593033, 0.10689999908208847, -0.1476999968290329, 0.28060001134872437, 0.4677000045776367, 0.09130000323057175, 0.17100000381469727, 0.029600000008940697, -0.1624000072479248, 0.303600013256073, -0.02449999935925007, 0.10750000178813934, 0.21789999306201935, -0.07199999690055847, -0.03669999912381172, -0.1670999974012375, 0.43470001220703125, 0.11959999799728394, -0.07450000196695328, 0.04560000076889992, -0.15929999947547913, -0.24819999933242798, -0.014000000432133675, 1.8177000284194946, 1.817199945449829, 1.8169000148773193, 1.8169000148773193, 1.8167999982833862, 1.81659996509552, 1.816499948501587, 1.816499948501587, 1.8164000511169434, 1.8163000345230103, 1.8162000179290771, 1.8158999681472778, 1.8158999681472778, 1.8157000541687012, 1.8157000541687012, 1.815600037574768, 1.815500020980835, 1.815500020980835, 1.8154000043869019, 1.8154000043869019, 1.8152999877929688, 1.8150999546051025, 1.8150999546051025, 1.8150999546051025, 1.8149000406265259, 1.8148000240325928, 1.8145999908447266, 1.8143999576568604, 1.8141000270843506, 1.8141000270843506, 1.8116999864578247, 1.8118000030517578, 1.8091000318527222, 1.8029999732971191, 1.7690000534057617, 1.8062000274658203, 1.7907999753952026, 1.7806999683380127, 1.7994999885559082, 1.7835999727249146, 1.784600019454956, 1.725100040435791, 1.7034000158309937, 1.780500054359436, 1.728700041770935, 1.785099983215332, 1.7144999504089355, 1.7272000312805176, 1.7660000324249268, 1.3938000202178955, 1.681399941444397, 1.3216999769210815, 1.6921000480651855, 1.6145999431610107, 1.7280999422073364, 1.4953999519348145, 1.579699993133545, 0.3027999997138977, 1.6562000513076782, 1.541700005531311, 1.4605000019073486, 0.25529998540878296, 0.5163999795913696, 0.05770000070333481, 1.169800043106079, -0.03519999980926514, -0.014600000344216824, -0.1168999969959259, 0.6134999990463257, 0.5763000249862671, 0.1882999986410141, 0.6218000054359436, 0.10790000110864639, 0.2847000062465668, 0.28189998865127563, 0.31349998712539673, -0.2508000135421753, -0.149399995803833, 0.04740000143647194, -0.19779999554157257, 0.05040000006556511, 0.05609999969601631, 0.006800000090152025, 0.6015999913215637, -0.18610000610351562, -0.09610000252723694, 0.25940001010894775, 0.06199999898672104, 0.23749999701976776, -0.3398999869823456, -0.2793999910354614, -0.41830000281333923, 2.3787999153137207, 2.3780999183654785, 2.3777999877929688, 2.3773999214172363, 2.3773000240325928, 2.3770999908447266, 2.3768999576568604, 2.376800060272217, 2.3763999938964844, 2.376199960708618, 2.3761000633239746, 2.3759000301361084, 2.375699996948242, 2.3756000995635986, 2.3754000663757324, 2.3749001026153564, 2.3749001026153564, 2.3743999004364014, 2.3740999698638916, 2.374000072479248, 2.374000072479248, 2.373699903488159, 2.3736000061035156, 2.3733999729156494, 2.373199939727783, 2.3731000423431396, 2.372999906539917, 2.372999906539917, 2.3729000091552734, 2.3726999759674072, 2.362299919128418, 2.3657000064849854, 2.3694000244140625, 2.360300064086914, 2.365799903869629, 2.3564999103546143, 2.309499979019165, 2.3269999027252197, 2.34689998626709, 2.3248000144958496, 2.3192999362945557, 2.2945001125335693, 2.208199977874756, 2.221400022506714, 2.3378000259399414, 2.289099931716919, 2.16729998588562, 2.1886000633239746, 2.0220000743865967, 2.0343000888824463, 2.2316999435424805, 0.8582000136375427, 0.016300000250339508, 0.20360000431537628, 0.6338000297546387, 0.10769999772310257, 0.10509999841451645, 0.5051000118255615, -0.023800000548362732, 0.3822999894618988, 0.21400000154972076, 0.17739999294281006, 0.0868000015616417, 0.3456000089645386, -0.5770999789237976, -0.13410000503063202, 0.6880999803543091, 0.19840000569820404, 0.39250001311302185, 0.10000000149011612, -0.06629999727010727, -0.03869999945163727, -0.47279998660087585, -0.7376000285148621, 0.6938999891281128, 0.1177000030875206, -0.061500001698732376, 0.3718999922275543, 0.3407999873161316, -0.5284000039100647, -0.3043000102043152, -0.4302999973297119, 2.7511000633239746, 2.75, 2.7499001026153564, 2.7492001056671143, 2.7486000061035156, 2.748300075531006, 2.7479000091552734, 2.7479000091552734, 2.74780011177063, 2.7476000785827637, 2.7472000122070312, 2.746999979019165, 2.7467000484466553, 2.7467000484466553, 2.7464001178741455, 2.7464001178741455, 2.7462000846862793, 2.7460999488830566, 2.746000051498413, 2.7458999156951904, 2.745500087738037, 2.7451999187469482, 2.7446999549865723, 2.7446999549865723, 2.7446000576019287, 2.7444000244140625, 2.74429988861084, 2.7441999912261963, 2.7441000938415527, 2.7441000938415527, 2.742500066757202, 2.7339999675750732, 2.7404000759124756, 2.732599973678589, 2.734499931335449, 2.7363998889923096, 2.724299907684326, 2.7360000610351562, 2.730600118637085, 2.7211999893188477, 2.6974000930786133, 2.6982998847961426, 2.714600086212158, 2.572999954223633, 2.6972999572753906, 2.693000078201294, 2.6135001182556152, 2.661900043487549, 2.712399959564209, 2.585700035095215, 2.6354000568389893, 2.63319993019104, 2.684999942779541, 2.5754001140594482, 2.597899913787842, 2.5441999435424805, 2.576900005340576, 2.483299970626831, 2.5204999446868896, -0.0013000000035390258, 0.1006999984383583, 0.09790000319480896, 0.028699999675154686, -0.03709999844431877, 0.05719999969005585, 0.2992999851703644, -0.5404999852180481, 0.13680000603199005, 0.30489999055862427, 0.15729999542236328, 1.660599946975708, -0.019500000402331352, 0.0066999997943639755, -0.3578000068664551, 0.3084000051021576, 0.6324999928474426, -0.17059999704360962, -0.3589000105857849, 0.3089999854564667, -0.09629999846220016, -0.0003000000142492354, -0.014999999664723873, -0.14219999313354492, -1.0642999410629272, 0.2962000072002411, -0.39980000257492065, 0.40290001034736633, -0.4203999936580658, 0.1881999969482422, 0.03799999877810478, 5.128900051116943, 5.124599933624268, 5.123600006103516, 5.122000217437744, 5.121300220489502, 5.120299816131592, 5.119999885559082, 5.119699954986572, 5.118299961090088, 5.117800235748291, 5.114099979400635, 5.113900184631348, 5.113100051879883, 5.11299991607666, 5.110499858856201, 5.105800151824951, 5.105100154876709, 5.104400157928467, 5.100399971008301, 5.099400043487549, 5.098899841308594, 5.098800182342529, 5.09689998626709, 5.094200134277344, 5.091899871826172, 5.083899974822998, 5.083499908447266, 5.083099842071533, 5.082200050354004, 5.081900119781494, 5.037499904632568, 5.013599872589111, 5.011899948120117, 4.776599884033203, 4.901700019836426, 4.896699905395508, 4.9303998947143555, 4.701700210571289, 4.959799766540527, 5.026700019836426, 4.968900203704834, 4.949699878692627, 4.758999824523926, 4.836699962615967, 4.549200057983398, 4.146699905395508, 4.370100021362305, 4.873199939727783, 4.6458001136779785, 4.130300045013428, 4.855000019073486, 4.811500072479248, 4.4593000411987305, 3.690500020980835, 4.497000217437744, 4.415900230407715, 4.399700164794922, 3.85479998588562, 4.234799861907959, 3.5285000801086426, 3.0148000717163086, 3.465399980545044, 3.9407999515533447, 4.024799823760986, 1.493299961090088, 4.31820011138916, 2.2235000133514404], \"logprob\": [30.0, 29.0, 28.0, 27.0, 26.0, 25.0, 24.0, 23.0, 22.0, 21.0, 20.0, 19.0, 18.0, 17.0, 16.0, 15.0, 14.0, 13.0, 12.0, 11.0, 10.0, 9.0, 8.0, 7.0, 6.0, 5.0, 4.0, 3.0, 2.0, 1.0, -8.51360034942627, -9.273799896240234, -7.648900032043457, -9.641900062561035, -9.6496000289917, -9.706399917602539, -9.754599571228027, -9.763299942016602, -9.78219985961914, -9.786499977111816, -9.789400100708008, -9.847299575805664, -9.897199630737305, -9.913399696350098, -10.067899703979492, -10.0693998336792, -10.122400283813477, -10.124699592590332, -10.127900123596191, -8.898500442504883, -10.133399963378906, -10.147899627685547, -10.15470027923584, -10.162500381469727, -10.167499542236328, -10.172800064086914, -10.196100234985352, -10.324299812316895, -10.315400123596191, -10.340100288391113, -4.138500213623047, -7.797299861907959, -9.162799835205078, -5.40910005569458, -8.977100372314453, -6.024799823760986, -7.626500129699707, -6.389500141143799, -8.281900405883789, -8.404000282287598, -7.256499767303467, -9.6003999710083, -4.714700222015381, -7.301000118255615, -8.77079963684082, -5.982800006866455, -5.954599857330322, -8.18649959564209, -6.805699825286865, -6.784599781036377, -8.408699989318848, -8.715700149536133, -8.94320011138916, -6.681000232696533, -5.000199794769287, -8.223600387573242, -5.83519983291626, -6.6016998291015625, -6.566100120544434, -7.730299949645996, -7.003300189971924, -7.375199794769287, -7.417900085449219, -6.249499797821045, -5.158699989318848, -5.164100170135498, -6.410999774932861, -6.192399978637695, -5.323200225830078, -5.386300086975098, -5.464300155639648, -6.305699825286865, -6.410399913787842, -6.389500141143799, -5.781499862670898, -5.695799827575684, -5.488699913024902, -5.082699775695801, -3.4809000492095947, -4.582099914550781, -4.0625, -3.624500036239624, -4.813700199127197, -3.7042999267578125, -6.02239990234375, -5.753399848937988, -5.85890007019043, -4.5046000480651855, -3.8162999153137207, -3.394200086593628, -5.246300220489502, -5.226399898529053, -4.218900203704834, -5.011499881744385, -5.148499965667725, -5.01669979095459, -5.205999851226807, -4.968599796295166, -5.222300052642822, -5.2729997634887695, -5.186500072479248, -5.309199810028076, -5.40310001373291, -7.009399890899658, -7.13670015335083, -7.445899963378906, -7.678999900817871, -7.81689977645874, -7.831699848175049, -8.253199577331543, -8.483599662780762, -8.576899528503418, -8.577500343322754, -8.606200218200684, -8.608799934387207, -8.663599967956543, -8.722200393676758, -8.735199928283691, -8.746800422668457, -8.770400047302246, -8.795700073242188, -8.822199821472168, -8.831299781799316, -8.834699630737305, -8.842700004577637, -8.888099670410156, -8.8927001953125, -8.902799606323242, -8.99269962310791, -9.002900123596191, -7.053199768066406, -9.077400207519531, -9.11929988861084, -7.804999828338623, -5.799900054931641, -6.904200077056885, -7.508500099182129, -7.50600004196167, -7.514200210571289, -6.895299911499023, -6.921199798583984, -7.735199928283691, -7.890699863433838, -8.132599830627441, -5.872200012207031, -6.757800102233887, -7.363699913024902, -7.893400192260742, -7.934100151062012, -7.5569000244140625, -7.675600051879883, -7.469200134277344, -6.516300201416016, -7.272900104522705, -7.429900169372559, -6.8231000900268555, -7.001399993896484, -7.298799991607666, -6.967800140380859, -7.4670000076293945, -5.2058000564575195, -7.276500225067139, -3.029900074005127, -3.5225000381469727, -3.5999999046325684, -4.382500171661377, -4.827099800109863, -5.302199840545654, -6.647600173950195, -3.975600004196167, -3.857800006866455, -3.8951001167297363, -4.276000022888184, -4.550099849700928, -5.700099945068359, -5.075900077819824, -5.394199848175049, -5.013400077819824, -5.462800025939941, -5.791100025177002, -5.239999771118164, -5.7515997886657715, -5.292399883270264, -5.138700008392334, -5.115099906921387, -5.6545000076293945, -5.411099910736084, -5.51669979095459, -5.549600124359131, -5.485599994659424, -5.368500232696533, -5.4430999755859375, -5.583600044250488, -5.556700229644775, -4.756100177764893, -5.758200168609619, -6.026899814605713, -6.2347002029418945, -6.703999996185303, -6.762499809265137, -6.779099941253662, -6.864299774169922, -6.9583001136779785, -6.958899974822998, -7.221399784088135, -7.2399001121521, -7.301400184631348, -7.348899841308594, -7.544300079345703, -7.577199935913086, -7.727099895477295, -7.767499923706055, -7.897799968719482, -8.043299674987793, -8.0423002243042, -8.061699867248535, -8.068499565124512, -8.172699928283691, -8.230600357055664, -8.288800239562988, -8.348400115966797, -8.39009952545166, -8.430700302124023, -8.48289966583252, -6.375199794769287, -6.505300045013428, -7.054900169372559, -6.820099830627441, -7.556600093841553, -6.753799915313721, -6.21589994430542, -6.6427998542785645, -7.6666998863220215, -6.120500087738037, -7.418700218200684, -7.2270002365112305, -6.293300151824951, -7.290500164031982, -6.519100189208984, -7.333799839019775, -6.362500190734863, -6.285200119018555, -6.463500022888184, -5.3403000831604, -2.937299966812134, -4.866000175476074, -3.6061999797821045, -4.801799774169922, -3.7839999198913574, -4.018599987030029, -3.8698999881744385, -4.244800090789795, -3.9518001079559326, -4.7316999435424805, -5.1219000816345215, -4.6717000007629395, -5.083700180053711, -5.01039981842041, -4.865900039672852, -5.366499900817871, -5.104000091552734, -5.339700222015381, -5.454500198364258, -5.3379998207092285, -5.39139986038208, -5.388700008392334, -5.759500026702881, -5.617300033569336, -5.569799900054932, -5.618599891662598, -5.5594000816345215, -5.552299976348877, -5.670000076293945, -7.2820000648498535, -7.830999851226807, -7.991499900817871, -8.019499778747559, -8.045999526977539, -8.209400177001953, -8.259699821472168, -8.263299942016602, -8.305500030517578, -8.356499671936035, -8.392200469970703, -8.521200180053711, -8.526599884033203, -8.574399948120117, -8.600700378417969, -8.629599571228027, -8.637800216674805, -8.667699813842773, -8.678000450134277, -8.684100151062012, -8.713199615478516, -8.77560043334961, -8.78279972076416, -8.790900230407715, -8.836899757385254, -8.86240005493164, -7.607500076293945, -8.963299751281738, -9.046799659729004, -9.046299934387207, -7.927199840545654, -8.409600257873535, -8.15369987487793, -7.612199783325195, -6.07859992980957, -8.02810001373291, -7.388899803161621, -7.244699954986572, -8.081399917602539, -7.6971001625061035, -7.782599925994873, -6.860099792480469, -6.798399925231934, -8.042799949645996, -7.329400062561035, -8.151800155639648, -7.243299961090088, -7.603899955749512, -8.002599716186523, -5.177999973297119, -7.493500232696533, -5.374100208282471, -7.616700172424316, -7.253699779510498, -7.814599990844727, -6.767000198364258, -7.259699821472168, -2.7499001026153564, -7.61929988861084, -7.26230001449585, -7.051700115203857, -3.771699905395508, -4.7052001953125, -3.648900032043457, -6.430600166320801, -3.6731998920440674, -3.818700075149536, -3.884399890899658, -5.43149995803833, -5.5233001708984375, -4.851600170135498, -5.665299892425537, -4.904399871826172, -5.210599899291992, -5.307600021362305, -5.35890007019043, -4.602399826049805, -4.912499904632568, -5.207300186157227, -4.901299953460693, -5.304299831390381, -5.343999862670898, -5.332499980926514, -6.0329999923706055, -5.265600204467773, -5.3979997634887695, -5.719399929046631, -5.593999862670898, -5.827700138092041, -5.605899810791016, -5.726600170135498, -5.722400188446045, -6.818399906158447, -7.434599876403809, -7.6269001960754395, -7.812699794769287, -7.8643999099731445, -7.942999839782715, -8.015399932861328, -8.072600364685059, -8.177300453186035, -8.24779987335205, -8.272199630737305, -8.322799682617188, -6.881199836730957, -8.406900405883789, -8.46399974822998, -8.56149959564209, -8.562899589538574, -8.673399925231934, -8.71679973602295, -8.731900215148926, -8.742400169372559, -8.793499946594238, -8.81659984588623, -8.84179973602295, -8.879599571228027, -8.885600090026855, -8.901700019836426, -8.907500267028809, -8.924400329589844, -8.946800231933594, -6.0177998542785645, -6.622600078582764, -7.339600086212158, -7.05210018157959, -8.036100387573242, -7.900899887084961, -6.661900043487549, -7.2982001304626465, -8.192099571228027, -7.776700019836426, -7.791200160980225, -7.599800109863281, -7.150300025939941, -7.551199913024902, -8.34570026397705, -8.072199821472168, -7.446300029754639, -7.60890007019043, -6.922399997711182, -7.365499973297119, -7.916999816894531, -4.692500114440918, -3.0364999771118164, -3.6005001068115234, -4.632199764251709, -3.598900079727173, -3.6623001098632812, -4.7164998054504395, -4.050899982452393, -4.872399806976318, -4.865499973297119, -4.862599849700928, -4.925600051879883, -5.326900005340576, -4.215099811553955, -4.897200107574463, -5.946499824523926, -5.457600116729736, -5.656000137329102, -5.395299911499023, -5.368199825286865, -5.438799858093262, -5.176300048828125, -5.089200019836426, -6.125400066375732, -5.881100177764893, -5.798399925231934, -6.018400192260742, -6.046800136566162, -5.832499980926514, -5.968500137329102, -6.019899845123291, -7.355500221252441, -7.785299777984619, -7.815199851989746, -7.996600151062012, -8.156700134277344, -8.200900077819824, -8.279000282287598, -8.291899681091309, -8.299300193786621, -8.343099594116211, -8.422100067138672, -8.444899559020996, -8.49530029296875, -8.49429988861084, -8.538000106811523, -8.547599792480469, -8.570799827575684, -8.581999778747559, -8.602499961853027, -8.618300437927246, -8.661100387573242, -8.698200225830078, -8.76669979095459, -8.76930046081543, -8.772600173950195, -8.801199913024902, -8.808799743652344, -8.825400352478027, -8.838899612426758, -8.840999603271484, -7.143799781799316, -6.763299942016602, -7.821800231933594, -7.487199783325195, -7.732100009918213, -7.953499794006348, -7.02239990234375, -8.032099723815918, -7.988900184631348, -7.714099884033203, -7.025400161743164, -7.381100177764893, -7.872200012207031, -5.567800045013428, -7.66480016708374, -7.707900047302246, -6.742199897766113, -7.470300197601318, -8.089799880981445, -7.0355000495910645, -7.51039981842041, -7.533899784088135, -7.959499835968018, -7.466300010681152, -7.617499828338623, -7.475399971008301, -7.60260009765625, -7.3460001945495605, -7.540500164031982, -3.053999900817871, -3.6059000492095947, -3.6695001125335693, -3.7753000259399414, -4.064199924468994, -4.646399974822998, -4.966700077056885, -4.178500175476074, -4.942699909210205, -5.190400123596191, -5.064300060272217, -6.678400039672852, -5.274199962615967, -5.332499980926514, -5.120800018310547, -5.670400142669678, -5.92579984664917, -5.474699974060059, -5.371300220489502, -5.9253997802734375, -5.752299785614014, -5.826099872589111, -5.878600120544434, -5.814599990844727, -5.415999889373779, -6.071100234985352, -5.799900054931641, -6.2316999435424805, -6.009900093078613, -6.199399948120117, -6.2006001472473145, -6.385499954223633, -6.7758002281188965, -6.8495001792907715, -6.956500053405762, -6.998799800872803, -7.059299945831299, -7.074999809265137, -7.090099811553955, -7.1697001457214355, -7.194300174713135, -7.363699913024902, -7.372499942779541, -7.40310001373291, -7.409800052642822, -7.507900238037109, -7.66540002822876, -7.691400051116943, -7.707900047302246, -7.827300071716309, -7.8520002365112305, -7.866399765014648, -7.868500232696533, -7.918799877166748, -7.982999801635742, -8.034600257873535, -8.199299812316895, -8.207799911499023, -8.214900016784668, -8.231399536132812, -8.236200332641602, -6.333199977874756, -6.01140022277832, -6.294000148773193, -3.7083001136779785, -5.514699935913086, -5.767300128936768, -6.274499893188477, -4.514500141143799, -6.7754998207092285, -7.376800060272217, -7.064799785614014, -7.0254998207092285, -6.072500228881836, -6.507199764251709, -5.225399971008301, -3.9814999103546143, -4.835000038146973, -6.7820000648498535, -6.149799823760986, -5.042200088500977, -6.7972002029418945, -6.726600170135498, -6.292699813842773, -5.457900047302246, -6.45959997177124, -6.372000217437744, -6.518499851226807, -6.164100170135498, -6.454599857330322, -6.329999923706055, -6.1427001953125, -6.335599899291992, -6.490499973297119, -6.602099895477295, -6.184000015258789, -6.675000190734863, -6.548399925231934]}, \"token.table\": {\"Topic\": [7, 7, 1, 2, 3, 4, 5, 6, 4, 3, 7, 1, 4, 1, 2, 3, 4, 5, 6, 6, 4, 4, 4, 7, 3, 4, 5, 5, 6, 5, 3, 5, 2, 2, 2, 3, 4, 5, 6, 4, 3, 3, 3, 3, 3, 7, 2, 4, 5, 7, 2, 3, 4, 7, 3, 7, 7, 1, 3, 4, 3, 5, 7, 2, 2, 3, 1, 2, 3, 5, 2, 4, 7, 7, 4, 2, 3, 7, 3, 5, 7, 1, 2, 4, 5, 6, 7, 3, 4, 7, 2, 5, 7, 2, 3, 6, 2, 7, 2, 4, 3, 2, 3, 4, 5, 1, 3, 5, 3, 4, 7, 7, 7, 1, 2, 3, 4, 5, 6, 3, 4, 4, 4, 3, 4, 4, 1, 2, 5, 1, 3, 5, 1, 3, 5, 5, 2, 4, 4, 6, 7, 1, 2, 2, 2, 3, 4, 4, 3, 7, 5, 7, 1, 2, 3, 4, 4, 3, 4, 7, 4, 5, 2, 3, 4, 5, 5, 7, 7, 3, 2, 3, 7, 7, 7, 3, 2, 3, 4, 5, 3, 4, 3, 3, 3, 1, 2, 3, 4, 5, 6, 5, 1, 2, 3, 4, 5, 6, 5, 7, 7, 3, 4, 4, 4, 4, 4, 1, 2, 3, 4, 5, 6, 5, 6, 7, 2, 7, 3, 3, 3, 3, 4, 4, 6, 2, 3, 4, 5, 6, 7, 2, 2, 7, 1, 3, 4, 6, 7, 2, 3, 4, 5, 6, 5, 1, 1, 2, 3, 4, 5, 6, 1, 2, 3, 2, 1, 2, 3, 4, 5, 6, 1, 2, 3, 4, 5, 6, 1, 3, 5, 1, 5, 5, 5, 1, 2, 3, 4, 5, 6, 1, 2, 3, 4, 5, 6, 1, 6, 1, 6, 6, 1, 2, 3, 4, 5, 6, 1, 3, 4, 5, 1, 5, 6, 1, 5, 6, 5, 6, 1, 2, 3, 4, 5, 6, 4, 1, 2, 3, 4, 5, 6, 1, 2, 3, 4, 5, 3, 4, 2, 5, 6, 5, 1, 2, 3, 4, 5, 6, 1, 2, 3, 4, 5, 6, 6, 1, 2, 3, 4, 2, 6, 7, 1, 2, 3, 4, 6, 4, 6, 7, 1, 1, 1, 2, 3, 4, 5, 6, 6, 1, 2, 3, 4, 5, 6, 2, 3, 4, 1, 3, 7, 1, 2, 3, 4, 5, 6, 2, 3, 1, 2, 3, 1, 2, 3, 6, 1, 5, 6, 6, 1, 2, 6, 6, 2, 1, 2, 3, 4, 5, 6, 4, 2, 2, 1, 2, 3, 5, 7, 1, 3, 7, 2, 3, 4, 1, 2, 3, 4, 5, 6, 5, 6, 2, 6, 6, 1, 2, 3, 4, 2, 6, 2, 6, 6, 6, 1, 5, 6, 1, 2, 3, 4, 5, 3, 4, 1, 2, 6, 2, 1, 6, 2, 3, 4, 7, 2, 3, 4, 7, 1, 2, 3, 4, 6, 1, 1, 2, 1, 3, 4, 6, 1, 2, 3, 4, 6, 1, 2, 4, 5, 1, 2, 4, 1, 2, 6, 6, 1, 2, 6, 1, 1, 2, 3, 7, 3, 3, 3, 2, 3, 5, 6, 1, 2, 6, 2, 6, 1, 2, 3, 4, 5, 1, 3, 4, 5, 4, 1, 5, 6, 5, 6, 1, 2, 3, 4, 5, 6, 1, 4, 6, 6, 1, 2, 4, 6, 1, 4, 6, 2, 6, 1, 2, 3, 4, 5, 6, 1, 3, 4, 5, 6, 1, 2, 3, 4, 5, 6, 2, 3, 4, 6, 2, 3, 4, 1, 7, 1, 2, 4, 5, 1, 2, 3, 4, 5, 6, 1, 2, 3, 4, 5, 6, 1, 2, 3, 4, 5, 6, 1, 2, 3, 4, 5, 6, 1, 2, 3, 1, 2, 3, 4, 5, 6, 1, 2, 3, 4, 5, 1, 2, 3, 4, 5, 6, 1, 2, 3, 4, 5, 6, 1, 4, 6, 1, 2, 3, 4, 5, 6, 2, 3, 1, 2, 3, 4, 2, 2, 2, 1, 2, 3, 4, 5, 6, 1, 2, 3, 4, 5, 6, 1, 2, 3, 4, 5, 6, 1, 2, 3, 4, 5, 6, 1, 2, 3, 4, 5, 6, 1, 2, 3, 4, 5, 6, 5, 1, 2, 3, 4, 5, 6, 1, 5, 1, 2, 3, 4, 5, 1, 2, 3, 4, 5, 6, 1, 2, 3, 4, 5, 6, 1, 3, 1, 1, 1, 2, 3, 4, 5, 6, 1, 2, 1, 2, 3, 5, 6, 7, 1, 2, 3, 4, 5, 6, 5, 1, 2, 3, 7, 1, 3, 5, 1, 3, 1, 3, 5, 6, 1, 2, 4, 2, 4, 3, 4, 2, 6, 1, 2, 3, 4, 5, 6, 4, 1, 1, 1, 2, 3, 4, 5, 6, 1, 2, 3, 4, 5, 6, 1, 5, 6, 1, 5, 1, 5, 1, 5, 5, 5, 1, 3, 4, 5, 1, 3, 1, 3, 1, 2, 3, 4, 5, 6, 1, 3, 4, 1, 2, 3, 4, 5, 6, 3, 4, 1, 2, 3, 4, 5, 6, 2, 1, 2, 3, 4, 5, 6, 2, 6, 1, 1, 2, 1, 2, 3, 4, 5, 1, 2, 3, 4, 5, 6, 1, 2, 3, 4, 1, 5, 6, 1, 1, 1, 2, 3, 4, 5, 6, 5, 1, 3, 4, 5, 1, 2, 3, 4, 5, 1, 5, 6, 6, 2, 3, 4, 3, 4, 1, 2, 3, 4, 5, 6, 7, 2, 3, 4, 7, 2, 1, 2, 3, 4, 5, 7, 5, 1, 2, 3, 4, 1, 2, 6, 1, 2, 3, 4, 5, 6, 6, 2, 3, 4, 6, 3, 4, 3, 4, 2, 3, 4, 2, 3, 4, 1, 2, 6, 1, 2, 6, 1, 2, 3, 4, 6, 4, 6, 1, 2, 3, 4, 1, 4, 5, 6, 1, 2, 3, 4, 5, 5, 1, 2, 3, 4, 6, 1, 2, 4, 6, 1, 2, 3, 4, 5, 7, 1, 2, 4, 7, 1, 2, 4, 7, 1, 2, 4, 7, 1, 2, 4, 7, 3, 1, 2, 3, 4, 5, 7, 1, 2, 3, 4, 5, 6, 1, 3, 5, 6, 5, 5, 1, 5, 1, 2, 3, 4, 5, 6, 1, 4, 5, 1, 2, 3, 5, 1, 2, 3, 4, 5, 6, 1, 1, 5, 5, 1, 5, 5, 5, 1, 6, 6, 1, 2, 3, 4, 7, 1, 7, 1, 7, 1, 7, 1, 7, 7, 5, 6, 1, 2, 6, 1, 2, 6, 1, 5, 6, 1, 3, 5, 6, 3, 4, 6, 1, 4, 7, 1, 7, 1, 2, 3, 4, 5, 6, 1, 2, 3, 4, 5, 6, 1, 2, 3, 4, 5, 6, 1, 2, 3, 4, 5, 6, 1, 2, 3, 4, 5, 6, 1, 2, 3, 4, 5, 6, 1, 2, 3, 4, 5, 6, 1, 2, 3, 4, 1, 2, 3, 1, 1, 2, 3, 4, 5, 6, 1, 5, 1, 2, 3, 4, 5, 6, 6, 3, 4, 1, 2, 4, 7, 2, 6, 6, 1, 2, 3, 4, 5, 2, 7, 2, 3, 3, 3, 3, 3, 2, 3, 2, 7, 1, 3, 4, 5, 6, 1, 2, 3, 4, 5, 6, 1, 2, 3, 4, 6, 1, 2, 3, 4, 5, 6, 1, 2, 3, 4, 5, 6, 1, 2, 3, 4, 5, 6, 6, 1, 2, 3, 4, 5, 6, 1, 2, 3, 4, 5, 6, 1, 3, 4, 5, 6, 1, 6, 1, 2, 3, 4, 5, 6, 6, 1, 2, 3, 4, 5, 6, 1, 1, 2, 3, 4, 5, 6, 1, 2, 3, 6, 1, 1, 2, 3, 4, 5, 6, 1, 5, 1, 1, 2, 3, 5, 6, 1, 2, 5, 6, 1, 2, 3, 4, 5, 6, 1, 1, 5, 1], \"Freq\": [0.9776272773742676, 0.981864869594574, 0.7629119753837585, 0.01834506168961525, 0.09490916132926941, 0.09369625896215439, 0.02729017287492752, 0.0025774051900953054, 0.997295081615448, 0.2551601827144623, 0.7381419539451599, 0.993425726890564, 0.9959630370140076, 0.6701087355613708, 0.11854918301105499, 0.1152268499135971, 0.04171370342373848, 0.030692003667354584, 0.02373092994093895, 0.9862561225891113, 0.9966878294944763, 0.9984791278839111, 0.9944152235984802, 0.9748952984809875, 0.1462785005569458, 0.850027859210968, 0.0023035984486341476, 0.9876114726066589, 0.010657677426934242, 0.9943511486053467, 0.9901585578918457, 0.008251321502029896, 0.9972718954086304, 0.9972884654998779, 0.07460824400186539, 0.014251012355089188, 0.9011669754981995, 0.003353179432451725, 0.00670635886490345, 0.9988093376159668, 0.999885618686676, 0.999157190322876, 0.997870922088623, 0.9994802474975586, 0.9988006949424744, 0.9703056812286377, 0.9966511726379395, 0.9979930520057678, 0.23566529154777527, 0.7566096186637878, 0.004093790426850319, 0.9595845341682434, 0.036025356501340866, 0.9712585210800171, 0.09359709173440933, 0.9078918099403381, 0.969853937625885, 0.9941818714141846, 0.9728328585624695, 0.027023134753108025, 0.9996676445007324, 0.47016534209251404, 0.5258427858352661, 0.998710036277771, 0.0032593081705272198, 0.9966964721679688, 0.09832295030355453, 0.8607159852981567, 0.002341022714972496, 0.03823670372366905, 0.9983841776847839, 0.9945687651634216, 0.9583212733268738, 0.918765127658844, 0.9975847005844116, 0.1261606216430664, 0.07930096238851547, 0.7894049882888794, 0.996822714805603, 0.9961053133010864, 0.9901999831199646, 0.005954309832304716, 0.022626377642154694, 0.881237804889679, 0.0345349945127964, 0.054779648780822754, 0.9647697806358337, 0.9632964730262756, 0.0362023189663887, 0.9838593006134033, 0.9968345165252686, 0.11405035853385925, 0.8773104548454285, 0.0025736596435308456, 0.9972931146621704, 0.9858814477920532, 0.9980905055999756, 0.9550283551216125, 0.9967161417007446, 0.0030992417596280575, 0.9997028112411499, 0.01673317886888981, 0.9678255319595337, 0.004588129930198193, 0.010795599780976772, 0.9567124843597412, 0.03999638184905052, 0.0032697098795324564, 0.02616252563893795, 0.9721994400024414, 0.9798816442489624, 0.9737457633018494, 0.9497445821762085, 0.14022952318191528, 0.27840062975883484, 0.20757830142974854, 0.17039817571640015, 0.13431158661842346, 0.06902123242616653, 0.03585793823003769, 0.9621880054473877, 0.9983339309692383, 0.9988452196121216, 0.032376836985349655, 0.9666798114776611, 0.997767984867096, 0.9379162788391113, 0.0038810328114777803, 0.056921813637018204, 0.934038519859314, 0.057430025190114975, 0.008539780974388123, 0.9255790710449219, 0.05159655585885048, 0.022639306262135506, 0.9916011095046997, 0.9979168176651001, 0.9989066123962402, 0.9811779856681824, 0.01688048057258129, 0.9495296478271484, 0.9965360760688782, 0.9987824559211731, 0.9989871382713318, 0.9959359765052795, 0.0068702842108905315, 0.9916110634803772, 0.9966123700141907, 0.07888472825288773, 0.8940269351005554, 0.9984337687492371, 0.9942479729652405, 0.9958559274673462, 0.0188747588545084, 0.907903254032135, 0.07303711026906967, 0.998944878578186, 0.9983400106430054, 0.9986536502838135, 0.9878145456314087, 0.996263325214386, 0.0026673716492950916, 0.007618303876370192, 0.7497307658195496, 0.242441326379776, 0.9981938004493713, 0.9935426712036133, 0.9857175350189209, 0.9770703315734863, 0.9997778534889221, 0.006082773674279451, 0.99351966381073, 0.9712572693824768, 0.9146333336830139, 0.9878870844841003, 0.9979255199432373, 0.1955394297838211, 0.1884685754776001, 0.6084418892860413, 0.00742002297192812, 0.999763548374176, 0.9990378022193909, 0.9994551539421082, 0.9996541142463684, 0.9980556964874268, 0.7305294871330261, 0.064499132335186, 0.09183447808027267, 0.06204202398657799, 0.03378526121377945, 0.01735333912074566, 0.9923832416534424, 0.7396880984306335, 0.1564326286315918, 0.061468012630939484, 0.018302273005247116, 0.011050429195165634, 0.01294972188770771, 0.9976997375488281, 0.9838088750839233, 0.9506080150604248, 0.9993486404418945, 0.9981622099876404, 0.998336672782898, 0.9983742237091064, 0.998915433883667, 0.9955496191978455, 0.08899009972810745, 0.2471214383840561, 0.16390809416770935, 0.27196750044822693, 0.15343396365642548, 0.0745781809091568, 0.4965108335018158, 0.010452859103679657, 0.48605796694755554, 0.22395488619804382, 0.7714001536369324, 0.9999552965164185, 0.9994052052497864, 0.9989574551582336, 0.9999128580093384, 0.9977883100509644, 0.9935752153396606, 0.005931792315095663, 0.18384861946105957, 0.1536184698343277, 0.6540352702140808, 0.007866006344556808, 0.0006940593593753874, 0.9683905243873596, 0.9975085258483887, 0.9977739453315735, 0.9916412234306335, 0.9671799540519714, 0.03312259912490845, 0.05299806967377663, 0.05962282791733742, 0.88109290599823, 0.006760177668184042, 0.8950474858283997, 0.03819500282406807, 0.058137524873018265, 0.0020280531607568264, 0.9928267002105713, 0.9973375797271729, 0.8446200489997864, 0.027904240414500237, 0.024028651416301727, 0.01705259270966053, 0.07001897692680359, 0.016535846516489983, 0.9830792546272278, 0.01195233128964901, 0.005976165644824505, 0.9996427893638611, 0.3243362009525299, 0.1833239048719406, 0.17484477162361145, 0.14436939358711243, 0.10284217447042465, 0.07027968764305115, 0.5293471813201904, 0.15390437841415405, 0.1805649697780609, 0.07513441890478134, 0.03871355205774307, 0.022304506972432137, 0.06481411308050156, 0.020467614755034447, 0.9142201542854309, 0.9885939955711365, 0.9989795088768005, 0.9975262880325317, 0.9954972863197327, 0.249803364276886, 0.21573086082935333, 0.19104063510894775, 0.1726464182138443, 0.11289606243371964, 0.05786772072315216, 0.3106662631034851, 0.18321268260478973, 0.16712236404418945, 0.15992483496665955, 0.11348472535610199, 0.06558671593666077, 0.02767537347972393, 0.9723281264305115, 0.01869233138859272, 0.980628490447998, 0.9936070442199707, 0.3004082143306732, 0.33489859104156494, 0.12573030591011047, 0.16336846351623535, 0.011421852745115757, 0.0641467422246933, 0.045258838683366776, 0.0037715700455009937, 0.9485498666763306, 0.0018857850227504969, 0.14215782284736633, 0.7081807255744934, 0.14998303353786469, 0.04704805836081505, 0.9174371361732483, 0.03207822144031525, 0.9895895719528198, 0.008883209899067879, 0.22270682454109192, 0.17909108102321625, 0.22985559701919556, 0.17016544938087463, 0.13570261001586914, 0.06250005960464478, 0.9977224469184875, 0.3078976273536682, 0.2234802395105362, 0.16520287096500397, 0.17163033783435822, 0.0890766978263855, 0.04272240772843361, 0.033783115446567535, 0.012219424359500408, 0.192635640501976, 0.7583231329917908, 0.0028751587960869074, 0.03394012525677681, 0.9658793807029724, 0.010566207580268383, 0.9813365340232849, 0.007924655452370644, 0.9957793951034546, 0.3578532040119171, 0.24686786532402039, 0.21570880711078644, 0.1227075606584549, 0.03183533623814583, 0.024997375905513763, 0.2519279718399048, 0.1687215268611908, 0.2203768640756607, 0.2887696921825409, 0.046701427549123764, 0.02351905032992363, 0.9949025511741638, 0.043386057019233704, 0.9321004748344421, 0.012595952488481998, 0.01119640190154314, 0.05449932813644409, 0.09083221107721329, 0.8356563448905945, 0.009129103273153305, 0.8805435299873352, 0.02406763657927513, 0.08631151914596558, 0.9955962896347046, 0.01952308788895607, 0.9761543869972229, 0.9628883600234985, 0.991874635219574, 0.9941649436950684, 0.3802007734775543, 0.15114110708236694, 0.20336219668388367, 0.1116165816783905, 0.10413779318332672, 0.049568720161914825, 0.9957327842712402, 0.11652401089668274, 0.234491229057312, 0.24089157581329346, 0.22203564643859863, 0.1307992935180664, 0.05528144910931587, 0.018328243866562843, 0.9513806104660034, 0.03038630075752735, 0.4762951731681824, 0.04167582839727402, 0.4762951731681824, 0.4739382266998291, 0.3265509605407715, 0.07410810887813568, 0.04117117077112198, 0.017960578203201294, 0.0662054568529129, 0.03404107689857483, 0.9657305479049683, 0.01810138113796711, 0.006335483398288488, 0.9747593998908997, 0.1583293378353119, 0.7848000526428223, 0.056770339608192444, 0.994830310344696, 0.14579755067825317, 0.8539571166038513, 0.9971708059310913, 0.996918797492981, 0.987625002861023, 0.015161754563450813, 0.9817236065864563, 0.9950342178344727, 0.9951679110527039, 0.1108199879527092, 0.11332911998033524, 0.008363773114979267, 0.7238845229148865, 0.016727546229958534, 0.027600450441241264, 0.9988577961921692, 0.9987466931343079, 0.9955222010612488, 0.5680148005485535, 0.07303047180175781, 0.11867451667785645, 0.004057248588651419, 0.23532040417194366, 0.14275449514389038, 0.039654023945331573, 0.8089420795440674, 0.970304548740387, 0.019759684801101685, 0.009879842400550842, 0.0131028788164258, 0.7800066471099854, 0.05048462003469467, 0.074378103017807, 0.035454846918582916, 0.04663083329796791, 0.9962995052337646, 0.9960447549819946, 0.029385557398200035, 0.9697234034538269, 0.9986447095870972, 0.033242445439100266, 0.8907464146614075, 0.036264486610889435, 0.04004203528165817, 0.998786211013794, 0.9975467920303345, 0.03710896149277687, 0.9595317244529724, 0.9948753118515015, 0.9953608512878418, 0.992921769618988, 0.0055782124400138855, 0.9932586550712585, 0.008745430037379265, 0.9148691892623901, 0.04955743998289108, 0.026722148060798645, 0.9980514049530029, 0.9979625344276428, 0.9951313734054565, 0.03497142717242241, 0.9584061503410339, 0.0066162156872451305, 0.9973966479301453, 0.015371071174740791, 0.9837485551834106, 0.04126841574907303, 0.4910941421985626, 0.2682446837425232, 0.20015181601047516, 0.05210130661725998, 0.5020671486854553, 0.042628344148397446, 0.407337486743927, 0.6494957208633423, 0.16692079603672028, 0.14921830594539642, 0.032818324863910675, 0.0014549996703863144, 0.9898560047149658, 0.0367380753159523, 0.9627259373664856, 0.09434092044830322, 0.008844461292028427, 0.038325998932123184, 0.854964554309845, 0.6657900214195251, 0.21054357290267944, 0.09425435960292816, 0.02730635181069374, 0.002108598593622446, 0.09405813366174698, 0.806391716003418, 0.0965663492679596, 0.0025082167703658342, 0.06823855638504028, 0.9059980511665344, 0.02519577369093895, 0.0936008095741272, 0.036192312836647034, 0.8698635101318359, 0.9958570599555969, 0.08624923974275589, 0.06834845244884491, 0.8462189435958862, 0.9987859129905701, 0.2244361937046051, 0.3927633464336395, 0.016624903306365013, 0.364708811044693, 0.9997366666793823, 0.9981257915496826, 0.998813271522522, 0.9967339634895325, 0.02941083163022995, 0.9493163228034973, 0.02124115638434887, 0.017346791923046112, 0.14620868861675262, 0.8376022577285767, 0.05223807319998741, 0.9456892609596252, 0.8753418326377869, 0.044601473957300186, 0.028824081644415855, 0.014563746750354767, 0.03610595315694809, 0.8540335297584534, 0.04368457943201065, 0.02621074765920639, 0.0753559023141861, 0.9971521496772766, 0.05438898503780365, 0.9322611689567566, 0.013597246259450912, 0.9697359204292297, 0.028521643951535225, 0.3071936070919037, 0.12801380455493927, 0.21236857771873474, 0.1091475710272789, 0.1853039264678955, 0.05798156186938286, 0.04374603554606438, 0.010293184779584408, 0.9469729661941528, 0.9923601746559143, 0.015552333556115627, 0.09331399947404861, 0.055914342403411865, 0.8350121974945068, 0.07023192197084427, 0.03932987526059151, 0.8877314925193787, 0.017766132950782776, 0.980098307132721, 0.22889825701713562, 0.2935720682144165, 0.21224330365657806, 0.1397601217031479, 0.08096230030059814, 0.04455643519759178, 0.05520562455058098, 0.05520562455058098, 0.8718321919441223, 0.0177074633538723, 0.9938065409660339, 0.1974015086889267, 0.21829542517662048, 0.17981907725334167, 0.2157198190689087, 0.10231447964906693, 0.08644036203622818, 0.008548411540687084, 0.021371029317378998, 0.004274205770343542, 0.9616963267326355, 0.2595028579235077, 0.2176545113325119, 0.5226728320121765, 0.2655784785747528, 0.7192750573158264, 0.041883427649736404, 0.9528480172157288, 0.0034902857150882483, 0.9965833425521851, 0.4156233072280884, 0.08620094507932663, 0.2337416410446167, 0.20576699078083038, 0.05608870089054108, 0.002509353682398796, 0.15094710886478424, 0.22262315452098846, 0.30922931432724, 0.21514366567134857, 0.06021134927868843, 0.041844721883535385, 0.34551092982292175, 0.2651611566543579, 0.1867293417453766, 0.17065481841564178, 0.011507898569107056, 0.020389987155795097, 0.37588217854499817, 0.0529579296708107, 0.31943702697753906, 0.14741581678390503, 0.08663874119520187, 0.01767430268228054, 0.010696012526750565, 0.9712669253349304, 0.01794169843196869, 0.6845421195030212, 0.011516431346535683, 0.1370546668767929, 0.011562131345272064, 0.13710036873817444, 0.01823434978723526, 0.06174334138631821, 0.8523788452148438, 0.05452658608555794, 0.02646143175661564, 0.004009307827800512, 0.25268790125846863, 0.005361562129110098, 0.3842267692089081, 0.11781546473503113, 0.2184072583913803, 0.021501807495951653, 0.6102335453033447, 0.20521637797355652, 0.11134690791368484, 0.041683293879032135, 0.01542610116302967, 0.016082530841231346, 0.07149805128574371, 0.03574902564287186, 0.888225793838501, 0.23208118975162506, 0.21125750243663788, 0.19537943601608276, 0.20947779715061188, 0.09040143340826035, 0.06140565872192383, 0.9316754341125488, 0.06712359189987183, 0.0027666459791362286, 0.8963932991027832, 0.029510891065001488, 0.07193279266357422, 0.9945386052131653, 0.9994561672210693, 0.9983358979225159, 0.0007665242301300168, 0.09274943172931671, 0.046757977455854416, 0.8155817985534668, 0.028361396864056587, 0.015330484136939049, 0.3322630822658539, 0.12401851266622543, 0.1630501002073288, 0.15726764500141144, 0.10347557067871094, 0.11998600512742996, 0.34303584694862366, 0.23394924402236938, 0.16468960046768188, 0.13314948976039886, 0.057698510587215424, 0.06747367978096008, 0.45912909507751465, 0.17461276054382324, 0.1511472761631012, 0.10679945349693298, 0.05457191541790962, 0.05372533202171326, 0.007554861716926098, 0.2882344126701355, 0.12851476669311523, 0.29611772298812866, 0.18427293002605438, 0.09533906728029251, 0.5877788662910461, 0.18890859186649323, 0.08243413269519806, 0.044239889830350876, 0.050001032650470734, 0.0465870201587677, 0.9958658814430237, 0.6445221900939941, 0.10881239920854568, 0.11757346242666245, 0.05577876418828964, 0.04719292372465134, 0.026107966899871826, 0.9563097357749939, 0.040240757167339325, 0.03869333118200302, 0.009240197949111462, 0.028298107907176018, 0.9107370376586914, 0.012705272994935513, 0.816242516040802, 0.03875882923603058, 0.07036573439836502, 0.019610121846199036, 0.041988734155893326, 0.013150317594408989, 0.7488057613372803, 0.10006563365459442, 0.10695216804742813, 0.03555702790617943, 0.004356790333986282, 0.004216248635202646, 0.943627655506134, 0.055960509926080704, 0.9943011999130249, 0.9967735409736633, 0.5926809310913086, 0.12460114061832428, 0.08398468792438507, 0.021243833005428314, 0.09075409919023514, 0.0867915153503418, 0.9959802627563477, 0.004009582102298737, 0.06416936218738556, 0.39143308997154236, 0.038501616567373276, 0.019250808283686638, 0.04491855204105377, 0.44276857376098633, 0.7358436584472656, 0.18568488955497742, 0.053989898413419724, 0.018333017826080322, 0.002522892551496625, 0.0035320494789630175, 0.9959070086479187, 0.48496341705322266, 0.09343332052230835, 0.08898411691188812, 0.32924121618270874, 0.9532005786895752, 0.0399436429142952, 0.0068085757084190845, 0.9607468247413635, 0.03858117014169693, 0.9901063442230225, 0.007402664050459862, 0.0018506660126149654, 0.9968902468681335, 0.015842551365494728, 0.9084713459014893, 0.07574719935655594, 0.9974241256713867, 0.9979260563850403, 0.10838933289051056, 0.891024112701416, 0.051210131496191025, 0.9456803798675537, 0.0023667640052735806, 0.634292721748352, 0.16646239161491394, 0.15173585712909698, 0.02866414003074169, 0.016304373741149902, 0.9988552331924438, 0.9986374974250793, 0.9973012804985046, 0.25171157717704773, 0.37781214714050293, 0.14968067407608032, 0.11712543666362762, 0.06343784928321838, 0.04022489860653877, 0.8814005255699158, 0.006158256903290749, 0.008467603474855423, 0.06312213838100433, 0.018474770709872246, 0.02232368290424347, 0.15141341090202332, 0.8421589136123657, 0.006256752647459507, 0.01693643257021904, 0.9827835559844971, 0.05575072765350342, 0.9424527883529663, 0.05261380597949028, 0.947048544883728, 0.9992876052856445, 0.9984842538833618, 0.9488496780395508, 0.037592705339193344, 0.004556691739708185, 0.008950644172728062, 0.966415524482727, 0.032262735068798065, 0.9897758960723877, 0.9992913603782654, 0.3671930730342865, 0.18912118673324585, 0.2624596357345581, 0.13741178810596466, 0.02832748554646969, 0.01549403928220272, 0.007306240499019623, 0.07915093749761581, 0.9132800698280334, 0.25195422768592834, 0.2232416719198227, 0.1792963296175003, 0.1719149798154831, 0.10311032086610794, 0.0704786404967308, 0.036773618310689926, 0.9632894396781921, 0.23620834946632385, 0.18106389045715332, 0.25647610425949097, 0.18077203631401062, 0.10096577554941177, 0.0445079579949379, 0.9970431923866272, 0.35961657762527466, 0.30899518728256226, 0.1501084566116333, 0.08522240072488785, 0.03233330324292183, 0.0637156292796135, 0.014214734546840191, 0.9855549335479736, 0.9922425150871277, 0.98871910572052, 0.9997013211250305, 0.10076805204153061, 0.7638305425643921, 0.083755262196064, 0.041877631098032, 0.00959695689380169, 0.46500304341316223, 0.29325002431869507, 0.07687005400657654, 0.1631968766450882, 0.000315225770464167, 0.0013959998032078147, 0.011621588841080666, 0.8008192181587219, 0.16851304471492767, 0.01896153949201107, 0.995847761631012, 0.9899526834487915, 0.9950348138809204, 0.989096462726593, 0.9958835244178772, 0.134813129901886, 0.004135372117161751, 0.1108279675245285, 0.04962446540594101, 0.6997049450874329, 0.0016541488002985716, 0.9921777844429016, 0.03038349188864231, 0.009943688288331032, 0.9518319368362427, 0.008010193705558777, 0.06073771417140961, 0.00749187683686614, 0.7489200830459595, 0.14288079738616943, 0.03986748680472374, 0.14947447180747986, 0.8269626498222351, 0.023294722661376, 0.991298496723175, 0.11869689077138901, 0.8043857216835022, 0.07688026130199432, 0.9957795739173889, 0.004079543985426426, 0.03201856091618538, 0.3361949026584625, 0.4308584928512573, 0.09048724174499512, 0.04593967646360397, 0.010440835729241371, 0.05429234355688095, 0.940334677696228, 0.0242890864610672, 0.025445710867643356, 0.009252985939383507, 0.9983872175216675, 0.07850825041532516, 0.39743345975875854, 0.3119363486766815, 0.15002763271331787, 0.036109134554862976, 0.026091761887073517, 0.9958644509315491, 0.0028521281201392412, 0.9697235226631165, 0.007605674676597118, 0.019014187157154083, 0.003939943388104439, 0.9954923987388611, 0.9965941309928894, 0.8666352033615112, 0.09523753821849823, 0.027173036709427834, 0.0035615144297480583, 0.0036934225354343653, 0.0038253304082900286, 0.9956486225128174, 0.9415469169616699, 0.009469580836594105, 0.036525528877973557, 0.012175175361335278, 0.005492376163601875, 0.9941201210021973, 0.014569910243153572, 0.9841311573982239, 0.1266942173242569, 0.173936128616333, 0.6989655494689941, 0.017608091235160828, 0.06857887655496597, 0.9137672185897827, 0.14307613670825958, 0.7994319796562195, 0.057136014103889465, 0.005885598715394735, 0.8442564606666565, 0.1497557908296585, 0.07214252650737762, 0.026051469147205353, 0.04609106108546257, 0.09218212217092514, 0.7635084390640259, 0.008340911939740181, 0.9883980751037598, 0.05126288905739784, 0.8267783522605896, 0.02234536036849022, 0.09923969209194183, 0.07106449455022812, 0.03714735060930252, 0.8091661930084229, 0.08237020671367645, 0.05018441379070282, 0.13483072817325592, 0.4993494153022766, 0.3022087812423706, 0.013401849195361137, 0.9912755489349365, 0.23988619446754456, 0.43467649817466736, 0.028344761580228806, 0.2103479653596878, 0.08673923462629318, 0.43806377053260803, 0.3570386469364166, 0.11918050050735474, 0.08567669987678528, 0.5097482204437256, 0.07094056904315948, 0.00036567304050549865, 0.02303740195930004, 0.02450009435415268, 0.3711581528186798, 0.7266324162483215, 0.07207881659269333, 0.013636533170938492, 0.18701530992984772, 0.19212865829467773, 0.07381213456392288, 0.08683781325817108, 0.6469416618347168, 0.2067151665687561, 0.1966315060853958, 0.09075300395488739, 0.5092251896858215, 0.19106650352478027, 0.0928037241101265, 0.03275425732135773, 0.6823803782463074, 0.9988172650337219, 0.3111872673034668, 0.1555936336517334, 0.23748500645160675, 0.1126006543636322, 0.06244217976927757, 0.11976614594459534, 0.7535260319709778, 0.0751722976565361, 0.10638318210840225, 0.026746053248643875, 0.027561742812395096, 0.01060397271066904, 0.8529782295227051, 0.06999331712722778, 0.07312734425067902, 0.004178705625236034, 0.9981754422187805, 0.9988619089126587, 0.13515038788318634, 0.8633075952529907, 0.628493070602417, 0.11889245361089706, 0.10273858159780502, 0.05427698791027069, 0.05757955461740494, 0.03805132955312729, 0.017852820456027985, 0.966283917427063, 0.013389615342020988, 0.02354234643280506, 0.009416937828063965, 0.009416937828063965, 0.9605277180671692, 0.7683844566345215, 0.05885803699493408, 0.10192488878965378, 0.006101137958467007, 0.0319412499666214, 0.032838478684425354, 0.9936453700065613, 0.012963894754648209, 0.9861202836036682, 0.9943475723266602, 0.0033915946260094643, 0.9959982633590698, 0.9944875240325928, 0.9949308037757874, 0.008485165424644947, 0.9885218143463135, 0.9886118173599243, 0.4669487476348877, 0.009661008603870869, 0.004293781705200672, 0.053672268986701965, 0.4637283980846405, 0.3030092418193817, 0.6969212293624878, 0.38445955514907837, 0.6109220385551453, 0.21239572763442993, 0.7849407196044922, 0.14826764166355133, 0.8356903195381165, 0.9778871536254883, 0.9777612686157227, 0.021523047238588333, 0.11688289046287537, 0.8558204770088196, 0.026942497119307518, 0.007272255606949329, 0.18180638551712036, 0.812068521976471, 0.08817677944898605, 0.0711103081703186, 0.8391016125679016, 0.035267721861600876, 0.01899031177163124, 0.03255482017993927, 0.9115349650382996, 0.028395257890224457, 0.028395257890224457, 0.9405929446220398, 0.707304060459137, 0.012111371383070946, 0.2761392593383789, 0.4439646303653717, 0.5559043884277344, 0.1687493920326233, 0.38439762592315674, 0.16726641356945038, 0.16151991486549377, 0.06821652501821518, 0.049803003668785095, 0.3754439949989319, 0.2164309322834015, 0.21557670831680298, 0.1262841820716858, 0.04427776858210564, 0.021983949467539787, 0.19983048737049103, 0.20530745387077332, 0.21743355691432953, 0.21967506408691406, 0.09410467743873596, 0.06364661455154419, 0.3160260319709778, 0.2996169924736023, 0.12918323278427124, 0.1387551724910736, 0.05367124825716019, 0.06278738379478455, 0.453612744808197, 0.23907063901424408, 0.12234519422054291, 0.13960112631320953, 0.006611466873437166, 0.038776252418756485, 0.833228588104248, 0.034483276307582855, 0.08585632592439651, 0.015482287853956223, 0.02216782048344612, 0.00879675429314375, 0.8124849796295166, 0.07225043326616287, 0.0897589772939682, 0.019946439191699028, 0.0015513896942138672, 0.003989287652075291, 0.7824210524559021, 0.06853248178958893, 0.1448737531900406, 0.004109893925487995, 0.9480962753295898, 0.026644391939044, 0.022203659638762474, 0.9946617484092712, 0.4355602562427521, 0.13725219666957855, 0.20275115966796875, 0.12340562790632248, 0.06829938292503357, 0.03270280361175537, 0.9883914589881897, 0.007240962702780962, 0.3289957046508789, 0.2252461314201355, 0.19999589025974274, 0.15665817260742188, 0.05198555439710617, 0.03711847588419914, 0.9953324794769287, 0.010069320909678936, 0.9888072609901428, 0.36221301555633545, 0.13171382248401642, 0.20488817989826202, 0.30367353558540344, 0.9968177676200867, 0.9941656589508057, 0.9935547113418579, 0.051153603941202164, 0.007522589061409235, 0.022567765787243843, 0.9132422804832458, 0.006018070969730616, 0.999194860458374, 0.9752444624900818, 0.01643303781747818, 0.9831652045249939, 0.999081015586853, 0.999666690826416, 0.9991005659103394, 0.999194324016571, 0.0042406232096254826, 0.9944260716438293, 0.1541888266801834, 0.8223404288291931, 0.03127579391002655, 0.13180512189865112, 0.7878521084785461, 0.03723308816552162, 0.01265924982726574, 0.44440674781799316, 0.041103705763816833, 0.19955132901668549, 0.19590099155902863, 0.11054330319166183, 0.008484098128974438, 0.024833310395479202, 0.2853573262691498, 0.0027090883813798428, 0.35127848386764526, 0.33547544479370117, 0.6704068779945374, 0.11443446576595306, 0.10327451676130295, 0.09827954322099686, 0.003779982216656208, 0.009809954091906548, 0.32497066259384155, 0.15219338238239288, 0.14417842030525208, 0.2996961772441864, 0.04831752926111221, 0.030648158863186836, 0.6651310920715332, 0.09388773888349533, 0.1530972272157669, 0.06461751461029053, 0.017339125275611877, 0.005909798201173544, 0.9897199273109436, 0.15163618326187134, 0.27735820412635803, 0.17960292100906372, 0.18428541719913483, 0.13014796376228333, 0.07690853625535965, 0.3317878544330597, 0.19729916751384735, 0.21834753453731537, 0.14994870126247406, 0.08707130700349808, 0.015560398809611797, 0.10105431824922562, 0.02778993733227253, 0.02273722179234028, 0.05557987466454506, 0.7932764291763306, 0.0633929967880249, 0.9327827095985413, 0.29936882853507996, 0.18911704421043396, 0.1890476793050766, 0.13471944630146027, 0.1146736666560173, 0.07307346165180206, 0.9887023568153381, 0.3325476050376892, 0.25303223729133606, 0.29923996329307556, 0.08564818650484085, 0.01718250662088394, 0.012318535707890987, 0.9956853985786438, 0.873622477054596, 0.05458737164735794, 0.04051962122321129, 0.0020951973274350166, 0.013768439181149006, 0.01537725143134594, 0.9341745376586914, 0.014470862224698067, 0.036981090903282166, 0.016078734770417213, 0.9917706251144409, 0.8635836243629456, 0.08140023052692413, 0.020318111404776573, 0.0017890160670503974, 0.009072867222130299, 0.023896142840385437, 0.9535231590270996, 0.044871676713228226, 0.9917986989021301, 0.8605846762657166, 0.10366731137037277, 0.02365366742014885, 0.0008760617929510772, 0.011096782982349396, 0.9125186800956726, 0.06005129963159561, 0.02610926143825054, 0.0013054630253463984, 0.29371336102485657, 0.15005376935005188, 0.1802693009376526, 0.11551277339458466, 0.17450201511383057, 0.08596590906381607, 0.9971677660942078, 0.9829900860786438, 0.01117034163326025, 0.9971436262130737], \"Term\": [\"(Amazon)\", \"(iTunes)\", \"..\", \"..\", \"..\", \"..\", \"..\", \"..\", \"Afghan\", \"Ailes\", \"Ailes\", \"Air\\u2019s\", \"Aleppo\", \"And\", \"And\", \"And\", \"And\", \"And\", \"And\", \"Animals\", \"Arab\", \"Arabia\", \"Assad\", \"Assistant:\", \"Associated\", \"Associated\", \"Associated\", \"Best\", \"Best\", \"Bowie\", \"Bush\", \"Bush\", \"CDC\", \"Centers\", \"China\", \"China\", \"China\", \"China\", \"China\", \"China\\u2019s\", \"Clinton\", \"Clinton,\", \"Clinton.\", \"Clinton\\u2019s\", \"Comey\", \"Constand\", \"Control\", \"Corps\", \"Cosby\", \"Cosby\", \"Court\", \"Court\", \"Court\", \"Credits,\", \"DeVos\", \"DeVos\", \"DeVos\\u2019\", \"Dear\", \"Democratic\", \"Democratic\", \"Democrats\", \"Desk\", \"Desk\", \"Disease\", \"Donald\", \"Donald\", \"Dr.\", \"Dr.\", \"Dr.\", \"Dr.\", \"Drug\", \"Duterte\", \"ELLs\", \"ERAD\", \"EU\", \"Education\", \"Education\", \"Education\", \"Election\", \"Emmy\", \"Engineer:\", \"European\", \"European\", \"European\", \"European\", \"European\", \"FAFSA\", \"FBI\", \"FBI\", \"FCC\", \"FDA\", \"Fargo\", \"Fargo\", \"GOP\", \"GOP\", \"Genre:\", \"HIV\", \"Hastert\", \"Health\", \"Health\", \"Hillary\", \"House\", \"House\", \"House\", \"House\", \"I\", \"I\", \"I\", \"ISIS\", \"ISIS\", \"ISPs\", \"ITT\", \"IX\", \"In\", \"In\", \"In\", \"In\", \"In\", \"In\", \"Iran\", \"Iran\", \"Iranian\", \"Iraqi\", \"Islamic\", \"Islamic\", \"Israeli\", \"I\\u2019d\", \"I\\u2019d\", \"I\\u2019d\", \"I\\u2019m\", \"I\\u2019m\", \"I\\u2019m\", \"I\\u2019ve\", \"I\\u2019ve\", \"I\\u2019ve\", \"Jazz\", \"Kaiser\", \"Korea\", \"Korean\", \"Korean\", \"Lewisburg\", \"Like,\", \"Medicaid\", \"Medicare\", \"Medicine\", \"Minister\", \"Minister\", \"Ministry\", \"Murdoch\", \"Murdoch\", \"Music\", \"Niki\", \"OK.\", \"Obama\", \"Obama\", \"Obama\", \"Palestinian\", \"Pence\", \"Pentagon\", \"Photo:\", \"Police\", \"Police\", \"President\", \"President\", \"President\", \"Prince\", \"Prince\\u2019s\", \"Producers:\", \"Relay\", \"Republican\", \"Republicans\", \"Republicans\", \"Rocketship\", \"Roginsky\", \"Rogosin\", \"Rubio\", \"S.\", \"S.\", \"S.\", \"S.\", \"Sanders\", \"Saudi\", \"Sen.\", \"Senate\", \"Sessions\", \"She\", \"She\", \"She\", \"She\", \"She\", \"She\", \"Simpson\", \"So\", \"So\", \"So\", \"So\", \"So\", \"So\", \"Spotify\", \"Stumpf\", \"Succeeds\", \"Supreme\", \"Syria\", \"Syria,\", \"Syria.\", \"Syrian\", \"Taliban\", \"The\", \"The\", \"The\", \"The\", \"The\", \"The\", \"Tiny\", \"Tiny\", \"Tiny\", \"Title\", \"Title\", \"Trump\", \"Trump,\", \"Trump.\", \"Trump\\u2019s\", \"Turkey\", \"Turkish\", \"Turkish\", \"U.\", \"U.\", \"U.\", \"U.\", \"U.\", \"U5\", \"Uber\", \"VA\", \"Videographers:\", \"Well,\", \"Well,\", \"Wells\", \"Wells\", \"Wells\", \"White\", \"White\", \"White\", \"White\", \"White\", \"Wonder\", \"Yeah,\", \"You\", \"You\", \"You\", \"You\", \"You\", \"You\", \"You\\u2019re\", \"You\\u2019re\", \"You\\u2019re\", \"Zika\", \"a\", \"a\", \"a\", \"a\", \"a\", \"a\", \"about\", \"about\", \"about\", \"about\", \"about\", \"about\", \"actor\", \"actor\", \"actor\", \"actually,\", \"album\", \"album,\", \"albums\", \"an\", \"an\", \"an\", \"an\", \"an\", \"an\", \"and\", \"and\", \"and\", \"and\", \"and\", \"and\", \"animal\", \"animal\", \"animals\", \"animals\", \"apple\", \"are\", \"are\", \"are\", \"are\", \"are\", \"are\", \"arrested\", \"arrested\", \"arrested\", \"arrested\", \"art\", \"art\", \"art\", \"artist\", \"artist\", \"artist\", \"artists\", \"artists\", \"as\", \"as\", \"as\", \"as\", \"as\", \"as\", \"asylum\", \"at\", \"at\", \"at\", \"at\", \"at\", \"at\", \"attack\", \"attack\", \"attack\", \"attack\", \"attack\", \"authorities\", \"authorities\", \"band\", \"band\", \"band\", \"band\\u2019s\", \"be\", \"be\", \"be\", \"be\", \"be\", \"be\", \"been\", \"been\", \"been\", \"been\", \"been\", \"been\", \"bees\", \"benefits\", \"benefits\", \"benefits\", \"benefits\", \"bilingual\", \"bilingual\", \"bilingual\", \"billion\", \"billion\", \"billion\", \"billion\", \"bird\", \"birds\", \"birds\", \"borrowers\", \"brain,\", \"brain.\", \"but\", \"but\", \"but\", \"but\", \"but\", \"but\", \"butter\", \"by\", \"by\", \"by\", \"by\", \"by\", \"by\", \"campaign\", \"campaign\", \"campaign\", \"campus\", \"campus\", \"campus\", \"can\", \"can\", \"can\", \"can\", \"can\", \"can\", \"candidate\", \"candidate\", \"candidates\", \"candidates\", \"candidates\", \"care\", \"care\", \"care\", \"cats\", \"characters\", \"characters\", \"chef\", \"chefs\", \"chess\", \"chicken\", \"chicken\", \"chocolate\", \"chronic\", \"city\", \"city\", \"city\", \"city\", \"city\", \"city\", \"civilians\", \"clinic\", \"clinics\", \"college\", \"college\", \"college\", \"college\", \"college\", \"colleges\", \"colleges\", \"colleges\", \"companies\", \"companies\", \"companies\", \"company\", \"company\", \"company\", \"company\", \"company\", \"company\", \"composer\", \"cooked\", \"cooking\", \"cooking\", \"corn\", \"cost\", \"cost\", \"cost\", \"cost\", \"costs\", \"cream\", \"crops\", \"crops\", \"culinary\", \"cup\", \"dad\", \"dad\", \"dairy\", \"data\", \"data\", \"data\", \"data\", \"debut\", \"delegates\", \"detained\", \"disease\", \"disease\", \"disease\", \"diseases\", \"dish\", \"dish\", \"district\", \"district\", \"district\", \"district\", \"districts\", \"districts\", \"districts\", \"districts\", \"do\", \"do\", \"do\", \"do\", \"do\", \"do?\", \"doctors\", \"doctors\", \"dogs\", \"dogs\", \"dogs\", \"dogs\", \"don\\u2019t\", \"don\\u2019t\", \"don\\u2019t\", \"don\\u2019t\", \"don\\u2019t\", \"drug\", \"drug\", \"drug\", \"drug\", \"drugs\", \"drugs\", \"drugs\", \"eat\", \"eat\", \"eat\", \"eaten\", \"eating\", \"eating\", \"eating\", \"edited\", \"education\", \"education\", \"education\", \"education\", \"election\", \"election,\", \"election.\", \"employers\", \"fans\", \"fans\", \"fans\", \"farm\", \"farm\", \"farm\", \"farmers\", \"farmers\", \"feel\", \"feel\", \"feel\", \"feel\", \"feel\", \"felt\", \"felt\", \"felt\", \"felt\", \"fighters\", \"film\", \"film\", \"film\", \"films\", \"films\", \"first\", \"first\", \"first\", \"first\", \"first\", \"first\", \"fish\", \"fish\", \"fish\", \"flavors\", \"food\", \"food\", \"food\", \"food\", \"food.\", \"food.\", \"food.\", \"foods\", \"foods\", \"for\", \"for\", \"for\", \"for\", \"for\", \"for\", \"forces\", \"forces\", \"forces\", \"forces\", \"fried\", \"from\", \"from\", \"from\", \"from\", \"from\", \"from\", \"fruit\", \"fruit\", \"fruit\", \"fruit\", \"government\", \"government\", \"government\", \"graduation\", \"graduation\", \"growth\", \"growth\", \"growth\", \"guitar\", \"had\", \"had\", \"had\", \"had\", \"had\", \"had\", \"has\", \"has\", \"has\", \"has\", \"has\", \"has\", \"have\", \"have\", \"have\", \"have\", \"have\", \"have\", \"he\", \"he\", \"he\", \"he\", \"he\", \"he\", \"health\", \"health\", \"health\", \"her\", \"her\", \"her\", \"her\", \"her\", \"her\", \"higher\", \"higher\", \"higher\", \"higher\", \"higher\", \"his\", \"his\", \"his\", \"his\", \"his\", \"his\", \"how\", \"how\", \"how\", \"how\", \"how\", \"how\", \"ice\", \"ice\", \"ice\", \"in\", \"in\", \"in\", \"in\", \"in\", \"in\", \"income\", \"income\", \"increase\", \"increase\", \"increase\", \"increase\", \"infection\", \"insurance\", \"insurers\", \"international\", \"international\", \"international\", \"international\", \"international\", \"international\", \"into\", \"into\", \"into\", \"into\", \"into\", \"into\", \"is\", \"is\", \"is\", \"is\", \"is\", \"is\", \"it\", \"it\", \"it\", \"it\", \"it\", \"it\", \"its\", \"its\", \"its\", \"its\", \"its\", \"its\", \"it\\u2019s\", \"it\\u2019s\", \"it\\u2019s\", \"it\\u2019s\", \"it\\u2019s\", \"it\\u2019s\", \"jazz\", \"just\", \"just\", \"just\", \"just\", \"just\", \"just\", \"kid\", \"kid\", \"killed\", \"killed\", \"killed\", \"killed\", \"killed\", \"kind\", \"kind\", \"kind\", \"kind\", \"kind\", \"kind\", \"know\", \"know\", \"know\", \"know\", \"know\", \"know\", \"know,\", \"know,\", \"know?\", \"laughing.\", \"like\", \"like\", \"like\", \"like\", \"like\", \"like\", \"like,\", \"like,\", \"loan\", \"loan\", \"loan\", \"loan\", \"loan\", \"loan\", \"lot\", \"lot\", \"lot\", \"lot\", \"lot\", \"lot\", \"lyrics\", \"math\", \"math\", \"math\", \"math\", \"me\", \"me\", \"me\", \"me,\", \"me,\", \"me.\", \"me.\", \"me.\", \"meat\", \"medical\", \"medical\", \"medical\", \"medications\", \"migrants\", \"military\", \"military\", \"milk\", \"milk\", \"million\", \"million\", \"million\", \"million\", \"million\", \"million\", \"missile\", \"mom\", \"mom,\", \"more\", \"more\", \"more\", \"more\", \"more\", \"more\", \"mother\", \"mother\", \"mother\", \"mother\", \"mother\", \"mother\", \"movie\", \"movie\", \"movie\", \"music\", \"music\", \"music,\", \"music,\", \"music.\", \"music.\", \"musical\", \"musicians\", \"my\", \"my\", \"my\", \"my\", \"myself\", \"myself\", \"myself.\", \"nominee\", \"not\", \"not\", \"not\", \"not\", \"not\", \"not\", \"nuclear\", \"nuclear\", \"nuclear\", \"of\", \"of\", \"of\", \"of\", \"of\", \"of\", \"officers\", \"officers\", \"on\", \"on\", \"on\", \"on\", \"on\", \"on\", \"opioid\", \"or\", \"or\", \"or\", \"or\", \"or\", \"or\", \"organic\", \"organic\", \"parenting\", \"particles\", \"patients\", \"pay\", \"pay\", \"pay\", \"pay\", \"pay\", \"people\", \"people\", \"people\", \"people\", \"people\", \"people\", \"percent\", \"percent\", \"percent\", \"percent\", \"physics\", \"piano\", \"pigs\", \"planet.\", \"planets\", \"played\", \"played\", \"played\", \"played\", \"played\", \"played\", \"poet\", \"police\", \"police\", \"police\", \"police\", \"political\", \"political\", \"political\", \"political\", \"political\", \"pop\", \"pop\", \"pop\", \"pork\", \"president\", \"president\", \"president\", \"presidential\", \"presidential\", \"private\", \"private\", \"private\", \"private\", \"private\", \"private\", \"private\", \"programs\", \"programs\", \"programs\", \"programs\", \"providers\", \"public\", \"public\", \"public\", \"public\", \"public\", \"public\", \"queer\", \"rate\", \"rate\", \"rate\", \"rate\", \"rates\", \"rates\", \"rats\", \"really\", \"really\", \"really\", \"really\", \"really\", \"really\", \"recipes\", \"reduce\", \"reduce\", \"reduce\", \"reduce\", \"refugee\", \"refugee\", \"refugees\", \"refugees\", \"reports\", \"reports\", \"reports\", \"reports.\", \"reports.\", \"reports.\", \"research\", \"research\", \"research\", \"researchers\", \"researchers\", \"researchers\", \"restaurant\", \"restaurant\", \"restaurant\", \"restaurant\", \"restaurant\", \"rice\", \"rice\", \"risk\", \"risk\", \"risk\", \"risk\", \"rock\", \"rock\", \"rock\", \"rock\", \"said\", \"said\", \"said\", \"said\", \"said\", \"sang\", \"says\", \"says\", \"says\", \"says\", \"says\", \"says.\", \"says.\", \"says.\", \"says.\", \"school\", \"school\", \"school\", \"school\", \"school\", \"school\", \"school.\", \"school.\", \"school.\", \"school.\", \"schools\", \"schools\", \"schools\", \"schools\", \"schools,\", \"schools,\", \"schools,\", \"schools,\", \"schools.\", \"schools.\", \"schools.\", \"schools.\", \"senator\", \"sexual\", \"sexual\", \"sexual\", \"sexual\", \"sexual\", \"sexual\", \"she\", \"she\", \"she\", \"she\", \"she\", \"she\", \"she\\u2019s\", \"she\\u2019s\", \"she\\u2019s\", \"she\\u2019s\", \"show\\u2019s\", \"singer\", \"singing\", \"singing\", \"so\", \"so\", \"so\", \"so\", \"so\", \"so\", \"soldiers\", \"soldiers\", \"soldiers\", \"solo\", \"solo\", \"solo\", \"solo\", \"something\", \"something\", \"something\", \"something\", \"something\", \"something\", \"something.\", \"song\", \"song\", \"song,\", \"songs\", \"songs\", \"songs,\", \"songs.\", \"species\", \"species\", \"species,\", \"student\", \"student\", \"student\", \"student\", \"student\", \"students\", \"students\", \"students,\", \"students,\", \"students.\", \"students.\", \"students\\u2019\", \"students\\u2019\", \"student\\u2019s\", \"studio\", \"studio\", \"study\", \"study\", \"study\", \"sugar\", \"sugar\", \"sugar\", \"sweet\", \"sweet\", \"sweet\", \"taste\", \"taste\", \"taste\", \"taste\", \"tea\", \"tea\", \"tea\", \"teacher\", \"teacher\", \"teacher\", \"teachers\", \"teachers\", \"than\", \"than\", \"than\", \"than\", \"than\", \"than\", \"that\", \"that\", \"that\", \"that\", \"that\", \"that\", \"the\", \"the\", \"the\", \"the\", \"the\", \"the\", \"their\", \"their\", \"their\", \"their\", \"their\", \"their\", \"they\", \"they\", \"they\", \"they\", \"they\", \"they\", \"thing\", \"thing\", \"thing\", \"thing\", \"thing\", \"thing\", \"things\", \"things\", \"things\", \"things\", \"things\", \"things\", \"think\", \"think\", \"think\", \"think\", \"think,\", \"think,\", \"think,\", \"thinking,\", \"this\", \"this\", \"this\", \"this\", \"this\", \"this\", \"thought,\", \"thought,\", \"to\", \"to\", \"to\", \"to\", \"to\", \"to\", \"tomato\", \"troops\", \"troops\", \"university\", \"university\", \"university\", \"university\", \"vaccine\", \"varieties\", \"vegetable\", \"victims\", \"victims\", \"victims\", \"victims\", \"victims\", \"virus\", \"vocals)\", \"vote\", \"vote\", \"voter\", \"voters\", \"voters.\", \"votes\", \"voting\", \"voting\", \"voucher\", \"voucher\", \"war\", \"war\", \"war\", \"war\", \"war\", \"was\", \"was\", \"was\", \"was\", \"was\", \"was\", \"water\", \"water\", \"water\", \"water\", \"water\", \"we\", \"we\", \"we\", \"we\", \"we\", \"we\", \"were\", \"were\", \"were\", \"were\", \"were\", \"were\", \"what\", \"what\", \"what\", \"what\", \"what\", \"what\", \"wheat\", \"which\", \"which\", \"which\", \"which\", \"which\", \"which\", \"who\", \"who\", \"who\", \"who\", \"who\", \"who\", \"wild\", \"wild\", \"wild\", \"wild\", \"wild\", \"wine\", \"wine\", \"with\", \"with\", \"with\", \"with\", \"with\", \"with\", \"worms\", \"would\", \"would\", \"would\", \"would\", \"would\", \"would\", \"yeah,\", \"you\", \"you\", \"you\", \"you\", \"you\", \"you\", \"you.\", \"you.\", \"you.\", \"you.\", \"you?\", \"your\", \"your\", \"your\", \"your\", \"your\", \"your\", \"yourself\", \"yourself\", \"yourself,\", \"you\\u2019re\", \"you\\u2019re\", \"you\\u2019re\", \"you\\u2019re\", \"you\\u2019re\", \"you\\u2019ve\", \"you\\u2019ve\", \"you\\u2019ve\", \"you\\u2019ve\", \"\\u2014\", \"\\u2014\", \"\\u2014\", \"\\u2014\", \"\\u2014\", \"\\u2014\", \"\\u2019Oh\", \"\\u201dOh,\", \"\\u201dOh,\", \"\\u201dYeah,\"]}, \"R\": 30, \"lambda.step\": 0.01, \"plot.opts\": {\"xlab\": \"PC1\", \"ylab\": \"PC2\"}, \"topic.order\": [6, 5, 7, 4, 1, 2, 3]};\n",
              "\n",
              "function LDAvis_load_lib(url, callback){\n",
              "  var s = document.createElement('script');\n",
              "  s.src = url;\n",
              "  s.async = true;\n",
              "  s.onreadystatechange = s.onload = callback;\n",
              "  s.onerror = function(){console.warn(\"failed to load library \" + url);};\n",
              "  document.getElementsByTagName(\"head\")[0].appendChild(s);\n",
              "}\n",
              "\n",
              "if(typeof(LDAvis) !== \"undefined\"){\n",
              "   // already loaded: just create the visualization\n",
              "   !function(LDAvis){\n",
              "       new LDAvis(\"#\" + \"ldavis_el141140621861803136424713587\", ldavis_el141140621861803136424713587_data);\n",
              "   }(LDAvis);\n",
              "}else if(typeof define === \"function\" && define.amd){\n",
              "   // require.js is available: use it to load d3/LDAvis\n",
              "   require.config({paths: {d3: \"https://cdnjs.cloudflare.com/ajax/libs/d3/3.5.5/d3.min\"}});\n",
              "   require([\"d3\"], function(d3){\n",
              "      window.d3 = d3;\n",
              "      LDAvis_load_lib(\"https://cdn.rawgit.com/bmabey/pyLDAvis/files/ldavis.v1.0.0.js\", function(){\n",
              "        new LDAvis(\"#\" + \"ldavis_el141140621861803136424713587\", ldavis_el141140621861803136424713587_data);\n",
              "      });\n",
              "    });\n",
              "}else{\n",
              "    // require.js not available: dynamically load d3 & LDAvis\n",
              "    LDAvis_load_lib(\"https://cdnjs.cloudflare.com/ajax/libs/d3/3.5.5/d3.min.js\", function(){\n",
              "         LDAvis_load_lib(\"https://cdn.rawgit.com/bmabey/pyLDAvis/files/ldavis.v1.0.0.js\", function(){\n",
              "                 new LDAvis(\"#\" + \"ldavis_el141140621861803136424713587\", ldavis_el141140621861803136424713587_data);\n",
              "            })\n",
              "         });\n",
              "}\n",
              "</script>"
            ],
            "text/plain": [
              "PreparedData(topic_coordinates=              x         y  topics  cluster       Freq\n",
              "topic                                                \n",
              "5      0.114941  0.002929       1        1  28.115425\n",
              "4      0.104780  0.028222       2        1  20.066353\n",
              "6      0.106241  0.091031       3        1  19.372562\n",
              "3      0.089928  0.047128       4        1  16.227724\n",
              "0      0.031063 -0.030782       5        1   9.258244\n",
              "1      0.001227 -0.174300       6        1   6.372657\n",
              "2     -0.448180  0.035773       7        1   0.587030, topic_info=      Category           Freq        Term          Total  loglift  logprob\n",
              "565    Default  437650.000000         the  437650.000000  30.0000  30.0000\n",
              "51     Default   43428.000000           I   43428.000000  29.0000  29.0000\n",
              "432    Default  227600.000000          of  227600.000000  28.0000  28.0000\n",
              "135    Default  214172.000000           a  214172.000000  27.0000  27.0000\n",
              "165    Default  206459.000000         and  206459.000000  26.0000  26.0000\n",
              "...        ...            ...         ...            ...      ...      ...\n",
              "9736    Topic7      82.565948  university     273.319824   3.9408  -6.4905\n",
              "7556    Topic7      73.847115        math     224.759216   4.0248  -6.6021\n",
              "480     Topic7     112.181023      public    4292.542480   1.4933  -6.1840\n",
              "18627   Topic7      68.656891        loan     155.837616   4.3182  -6.6750\n",
              "476     Topic7      77.920799     private    1436.666626   2.2235  -6.5484\n",
              "\n",
              "[634 rows x 6 columns], token_table=       Topic      Freq      Term\n",
              "term                            \n",
              "24036      7  0.977627  (Amazon)\n",
              "24039      7  0.981865  (iTunes)\n",
              "1257       1  0.762912        ..\n",
              "1257       2  0.018345        ..\n",
              "1257       3  0.094909        ..\n",
              "...      ...       ...       ...\n",
              "634        6  0.085966         —\n",
              "17411      1  0.997168       ’Oh\n",
              "21087      1  0.982990      ”Oh,\n",
              "21087      5  0.011170      ”Oh,\n",
              "5345       1  0.997144    ”Yeah,\n",
              "\n",
              "[1272 rows x 3 columns], R=30, lambda_step=0.01, plot_opts={'xlab': 'PC1', 'ylab': 'PC2'}, topic_order=[6, 5, 7, 4, 1, 2, 3])"
            ]
          },
          "metadata": {
            "tags": []
          },
          "execution_count": 94
        }
      ]
    },
    {
      "cell_type": "code",
      "metadata": {
        "id": "VwA5n3gMoQjH",
        "colab_type": "code",
        "colab": {}
      },
      "source": [
        ""
      ],
      "execution_count": 0,
      "outputs": []
    }
  ]
}